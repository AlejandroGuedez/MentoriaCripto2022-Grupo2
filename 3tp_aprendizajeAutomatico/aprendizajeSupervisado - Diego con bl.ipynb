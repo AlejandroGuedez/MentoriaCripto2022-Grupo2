{
  "cells": [
    {
      "cell_type": "markdown",
      "metadata": {
        "id": "0pw2PAXnJ6k_"
      },
      "source": [
        "# Selección de cripto activos para una cartera de inversión"
      ]
    },
    {
      "cell_type": "markdown",
      "metadata": {
        "id": "9G5ELuX-J6lB"
      },
      "source": [
        "![picture](https://drive.google.com/uc?export=view&id=1ihM3JEKP-XPaoX9b5bwymu_IF4ntTlz-)"
      ]
    },
    {
      "cell_type": "markdown",
      "metadata": {
        "id": "7qP7UNHGJ6lB"
      },
      "source": [
        "# Trabajo Práctico 3 -  Aprendizaje Supervisado"
      ]
    },
    {
      "cell_type": "markdown",
      "metadata": {
        "id": "rslryARwJ6lC"
      },
      "source": [
        "# Introducción\n",
        "\n",
        "Una tarea fundamental en el modelado financiero es la predicción del comportamiento de los precios en un futuro cercano. Usando la serie de precios histórica de los activos como datos de entrenamiento, deseamos predecir si el precio subirá o no, y en qué medida, es decir, nos interesa también el rendimiento.\n",
        "\n",
        "La predicción de retornos de criptoactivos es un gran desafío para la comunidad de aprendizaje automático debido a la alta volatilidad de los activos, la manipulación del mercado y la naturaleza no estacionaria de los datos, entre otras cuestiones.  \n",
        "\n",
        "En este práctico aplicaremos algunas técnicas de aprendizaje automático supervisado para predecir el movimiento de activos, a partir de los features que hemos trabajado en el práctico anterior. Exploraremos modelos simples de regresión y clasificación. Para validar los modelos procedemos a evaluar su bondad de ajuste, es decir, que \"tan bueno\" es el poder predictivo del modelo y comparar su desempeño.\n",
        "\n",
        "📌 **Conjunto de Entrenamiento y Test**\n",
        "\n",
        "Para entrenar modelos de ML y seleccionar el más adecuado, debemos particionar los datos en conjuntos de entrenamiento y test (o entrenamiento, validación y test). Si bien la práctica más habitual es seleccionar estos conjuntos al azar, esta metodología no es conveniente cuando trabajamos con series de tiempo, ya que romper la estructura de los datos significa romper la autocorrelación, que es lo que da sentido al análisis. Frente a esto, una posibilidad es realizar la división de datos a partir del procedimiento [Walk-Forward Validation](https://machinelearningmastery.com/backtest-machine-learning-models-time-series-forecasting/), otra es implementar lo que se conoce como [timeSeriesSplit](https://scikit-learn.org/stable/modules/cross_validation.html#time-series-split).\n",
        "\n",
        "¡Los invito a indagar sobre estas metodologías!\n",
        "\n",
        "\n",
        "📌 **Variables Predictoras**\n",
        "\n",
        "Los predictores son datos que consideramos relevantes para el comportamiento del mercado. En nuestro caso, trabajaremos con los indicadores técnicos calculados en el trabajo práctico anterior y algunos que sumaremos al análisis, pero estos pueden ser muy diversos, como datos de sentimiento, datos de amplitud, datos básicos, gubernamentales, etc., que nos ayudarán a hacer nuestras predicciones. \n",
        "\n",
        "\n",
        "\n",
        "📌 **Modelo Baseline**\n",
        "\n",
        "Establecer un baseline es esencial para cualquier problema de predicción. Este modelo nos brinda un punto de comparación, nos da una idea de cuan bien otros modelos rindieron en el problema en cuestión.\n",
        "\n",
        "Si la performance de un modelo no alcanza o es similiar a la del baseline, entonces debemos seguir trabajando para mejorar el modelo u optar por algún otro. Nuestro baseline debe ser fácil de implementar y naive. \n",
        "\n",
        "\n",
        "Algunas opciones simples para baseline: [link](https://medium.com/analytics-vidhya/benchmarking-methods-for-deep-learning-based-time-series-forecast-ec45f78b61e2)."
      ]
    },
    {
      "cell_type": "markdown",
      "metadata": {
        "id": "Gv9beDmgJ6lD"
      },
      "source": [
        "# 📖 ¡Actividades!\n",
        "\n",
        "En este práctico evaluaremos el potencial de modelos predictivos simples sobre algunos activos. Esta será la base para construir una canasta de activos con riesgo controlado. \n",
        "\n",
        "**Objetivo: predecir el movimiento del precio de cada activo para los próximos n días (tomaremos n=1, n=7)**\n",
        "\n",
        "## Parte 0 - Feature Engineer\n",
        "\n",
        "Los invito a explorar y agregar otras características además de las trabajadas anteriormente. Como en el práctico pasado, pueden usar la librería talib o calcularlos ustedes.\n",
        "\n",
        "- [Indicadores técnicos](https://coinmarketcap.com/alexandria/article/technical-analysis-101-the-best-technical-indicators-for-crypto-and-stocks)\n",
        "- [Indicadores técnicos en python](https://towardsdatascience.com/building-a-comprehensive-set-of-technical-indicators-in-python-for-quantitative-trading-8d98751b5fb)\n",
        "\n",
        "## Parte I - Clasificación\n",
        "\n",
        "Por ahora nos concentraremos en predecir si el precio del activo subirá o bajará (es decir, si el retorno a n días será positivo o negativo). Para ello entrenaremos algunos modelos de clasificación.\n",
        "\n",
        "- DecisionTreeClassifier\n",
        "- RandomForestClassifier\n",
        "- XGBClassifier\n",
        "\n",
        "En este caso, podemos definir nuestro target como 1 o 0:\n",
        "\n",
        "- Si el rendimiento a n días fue positivo el target tomará el valor 1.\n",
        "- Si el rendimiento a n días fue negativo o cero el target tomará el valor 0.\n",
        "\n",
        "Utilicen métricas adecuadas para la evaluación de los modelos (accuracy, recall, precision, etc) \n",
        "\n",
        "\n",
        "## Parte II - Regresión\n",
        "\n",
        "Ahora nuestro objetivo es implementar modelos sobre los activos para predecir su tasa de cambio (ya sea respecto al precio open o close). Consideren los modelos de regresión:\n",
        "\n",
        "- Desicion tree\n",
        "- Randon Forest\n",
        "- XGBoost\n",
        "\n",
        "\n",
        "Evalúen los resultados, con algunas métricas útiles, tales como Error Cuadrático Medio (RMSE) y el Error Absoluto Medio (MAE). ¿Qué pueden decir?\n",
        "\n",
        "\n",
        "### ¡Para tener en cuenta!\n",
        "\n",
        "- Para los modelos de regresión y clasificación elijan un modelo baseline.\n",
        "- Definir periodos de entrenamiento y test: utilizar librerías adecuadas para series de tiempo.\n",
        "- Dado el periodo de entrenamiento, chequeen si los datos están balaceados.  \n",
        "- Analicen la necesidad de estandarizar los datos, según los modelos empleados.\n",
        "- Ajuste de hiperparámetros de los modelos: dado que los parámetros pueden tomar valores en un amplio rango es recomendable uilizar GridSearchCV. \n",
        "\n",
        "\n",
        "\n",
        "## Opcional - Predicción usando Long short-term memory (LSTM)\n",
        "\n",
        "Las redes de este tipo son adecuadas para clasificar, procesar y hacer predicciones basadas en datos de series temporales, ya que pueden almacenar información pasada. Esto es importante en nuestro caso porque el precio anterior de una acción es crucial para predecir su precio futuro.\n",
        "\n",
        "Comparen la performance de los modelos anteriores (regresión y/o clasificación) con una red neuronal recurrente (LSTM). "
      ]
    },
    {
      "cell_type": "markdown",
      "metadata": {
        "id": "HxCTDUL9J6lE"
      },
      "source": [
        "# Fecha de entrega\n",
        "\n",
        "- __Versión preliminar: 29/7__ "
      ]
    },
    {
      "cell_type": "markdown",
      "metadata": {
        "id": "iT4PiolTJ6lE"
      },
      "source": [
        "# Condiciones de entrega\n",
        "\n",
        "Realizar un informe en el cual se presenten los resultados y conclusiones del análisis desarrollado. El mismo debe estar pensado para un público técnico pero que desconoce los aspectos propios del problema a resolver. Dicho informe puede ser un notebook, a condición de que en el mismo se efectúe un análisis escrito suficientemente detallado de los resultados. "
      ]
    },
    {
      "cell_type": "code",
      "execution_count": null,
      "metadata": {
        "id": "qsgX_SMTJ6lF"
      },
      "outputs": [],
      "source": [
        "import pandas as pd\n",
        "import numpy as np\n",
        "import math\n",
        "\n",
        "from plotly.offline import init_notebook_mode, iplot\n",
        "import plotly.graph_objs as go\n",
        "import matplotlib.pyplot as plt\n",
        "\n",
        "from scipy.stats import norm\n",
        "from statsmodels.tsa.stattools import adfuller\n",
        "from statsmodels.graphics.tsaplots import plot_acf, plot_pacf\n",
        "from statsmodels.tsa.arima_process import ArmaProcess\n",
        "from pylab import rcParams\n",
        "import statsmodels.api as sm\n",
        "\n",
        "from sklearn.preprocessing import MinMaxScaler\n",
        "\n",
        "from pandas import Series, DataFrame\n",
        "\n",
        "import seaborn as sns\n",
        "import os\n",
        "import time\n",
        "import missingno as msno\n",
        "\n",
        "from sklearn.ensemble import RandomForestClassifier\n",
        "from sklearn.tree import DecisionTreeClassifier\n",
        "from sklearn.neighbors import KNeighborsClassifier\n",
        "\n",
        "from sklearn.metrics import precision_score, accuracy_score, recall_score, f1_score, mean_absolute_error, mean_squared_error\n",
        "from sklearn.model_selection import ParameterGrid\n",
        "\n",
        "import xgboost as xgb\n",
        "\n",
        "import talib as ta\n",
        "import datetime as dt\n",
        "\n",
        "import warnings\n",
        "warnings.filterwarnings(\"ignore\") "
      ]
    },
    {
      "cell_type": "code",
      "execution_count": null,
      "metadata": {
        "id": "mhtXE_-DJ6lG"
      },
      "outputs": [],
      "source": [
        "df = pd.read_csv('../2tp_analisisYCuracion/Activos limpios con features - 2tp.csv', index_col = 'Fecha')"
      ]
    },
    {
      "cell_type": "code",
      "execution_count": null,
      "metadata": {
        "id": "yk33nhBUJ6lG",
        "outputId": "11085705-26a1-4c66-c4ab-60b9626a68d1"
      },
      "outputs": [
        {
          "data": {
            "text/html": [
              "<div>\n",
              "<style scoped>\n",
              "    .dataframe tbody tr th:only-of-type {\n",
              "        vertical-align: middle;\n",
              "    }\n",
              "\n",
              "    .dataframe tbody tr th {\n",
              "        vertical-align: top;\n",
              "    }\n",
              "\n",
              "    .dataframe thead th {\n",
              "        text-align: right;\n",
              "    }\n",
              "</style>\n",
              "<table border=\"1\" class=\"dataframe\">\n",
              "  <thead>\n",
              "    <tr style=\"text-align: right;\">\n",
              "      <th></th>\n",
              "      <th>open</th>\n",
              "      <th>high</th>\n",
              "      <th>low</th>\n",
              "      <th>close</th>\n",
              "      <th>volume</th>\n",
              "      <th>active</th>\n",
              "      <th>day</th>\n",
              "      <th>month</th>\n",
              "      <th>year</th>\n",
              "      <th>weekday</th>\n",
              "      <th>...</th>\n",
              "      <th>ADX200</th>\n",
              "      <th>STOCH_SLOWK</th>\n",
              "      <th>STOCH_SLOWD</th>\n",
              "      <th>MACD</th>\n",
              "      <th>SMA_5</th>\n",
              "      <th>SMA_15</th>\n",
              "      <th>SMA_ratio</th>\n",
              "      <th>SMA5_Volume</th>\n",
              "      <th>SMA15_Volume</th>\n",
              "      <th>SMA_Volume_Ratio</th>\n",
              "    </tr>\n",
              "    <tr>\n",
              "      <th>Fecha</th>\n",
              "      <th></th>\n",
              "      <th></th>\n",
              "      <th></th>\n",
              "      <th></th>\n",
              "      <th></th>\n",
              "      <th></th>\n",
              "      <th></th>\n",
              "      <th></th>\n",
              "      <th></th>\n",
              "      <th></th>\n",
              "      <th></th>\n",
              "      <th></th>\n",
              "      <th></th>\n",
              "      <th></th>\n",
              "      <th></th>\n",
              "      <th></th>\n",
              "      <th></th>\n",
              "      <th></th>\n",
              "      <th></th>\n",
              "      <th></th>\n",
              "      <th></th>\n",
              "    </tr>\n",
              "  </thead>\n",
              "  <tbody>\n",
              "    <tr>\n",
              "      <th>2019-01-01 03:00:00</th>\n",
              "      <td>0.34640</td>\n",
              "      <td>0.35368</td>\n",
              "      <td>0.34617</td>\n",
              "      <td>0.35073</td>\n",
              "      <td>5.565085e+06</td>\n",
              "      <td>XRPUSDT</td>\n",
              "      <td>1</td>\n",
              "      <td>1</td>\n",
              "      <td>2019</td>\n",
              "      <td>Tuesday</td>\n",
              "      <td>...</td>\n",
              "      <td>NaN</td>\n",
              "      <td>NaN</td>\n",
              "      <td>NaN</td>\n",
              "      <td>NaN</td>\n",
              "      <td>NaN</td>\n",
              "      <td>NaN</td>\n",
              "      <td>NaN</td>\n",
              "      <td>NaN</td>\n",
              "      <td>NaN</td>\n",
              "      <td>NaN</td>\n",
              "    </tr>\n",
              "    <tr>\n",
              "      <th>2019-01-01 03:00:00</th>\n",
              "      <td>130.72000</td>\n",
              "      <td>134.00000</td>\n",
              "      <td>130.71000</td>\n",
              "      <td>133.36000</td>\n",
              "      <td>4.847789e+04</td>\n",
              "      <td>ETHUSDT</td>\n",
              "      <td>1</td>\n",
              "      <td>1</td>\n",
              "      <td>2019</td>\n",
              "      <td>Tuesday</td>\n",
              "      <td>...</td>\n",
              "      <td>NaN</td>\n",
              "      <td>NaN</td>\n",
              "      <td>NaN</td>\n",
              "      <td>NaN</td>\n",
              "      <td>NaN</td>\n",
              "      <td>NaN</td>\n",
              "      <td>NaN</td>\n",
              "      <td>NaN</td>\n",
              "      <td>NaN</td>\n",
              "      <td>NaN</td>\n",
              "    </tr>\n",
              "    <tr>\n",
              "      <th>2019-01-01 03:00:00</th>\n",
              "      <td>2.52060</td>\n",
              "      <td>2.56000</td>\n",
              "      <td>2.52040</td>\n",
              "      <td>2.53830</td>\n",
              "      <td>4.744196e+05</td>\n",
              "      <td>EOSUSDT</td>\n",
              "      <td>1</td>\n",
              "      <td>1</td>\n",
              "      <td>2019</td>\n",
              "      <td>Tuesday</td>\n",
              "      <td>...</td>\n",
              "      <td>NaN</td>\n",
              "      <td>NaN</td>\n",
              "      <td>NaN</td>\n",
              "      <td>NaN</td>\n",
              "      <td>NaN</td>\n",
              "      <td>NaN</td>\n",
              "      <td>NaN</td>\n",
              "      <td>NaN</td>\n",
              "      <td>NaN</td>\n",
              "      <td>NaN</td>\n",
              "    </tr>\n",
              "    <tr>\n",
              "      <th>2019-01-01 03:00:00</th>\n",
              "      <td>0.03988</td>\n",
              "      <td>0.04068</td>\n",
              "      <td>0.03985</td>\n",
              "      <td>0.04061</td>\n",
              "      <td>1.281178e+07</td>\n",
              "      <td>ADAUSDT</td>\n",
              "      <td>1</td>\n",
              "      <td>1</td>\n",
              "      <td>2019</td>\n",
              "      <td>Tuesday</td>\n",
              "      <td>...</td>\n",
              "      <td>NaN</td>\n",
              "      <td>NaN</td>\n",
              "      <td>NaN</td>\n",
              "      <td>NaN</td>\n",
              "      <td>NaN</td>\n",
              "      <td>NaN</td>\n",
              "      <td>NaN</td>\n",
              "      <td>NaN</td>\n",
              "      <td>NaN</td>\n",
              "      <td>NaN</td>\n",
              "    </tr>\n",
              "    <tr>\n",
              "      <th>2019-01-01 03:00:00</th>\n",
              "      <td>29.73000</td>\n",
              "      <td>30.16000</td>\n",
              "      <td>29.57000</td>\n",
              "      <td>30.12000</td>\n",
              "      <td>1.034450e+04</td>\n",
              "      <td>LTCUSDT</td>\n",
              "      <td>1</td>\n",
              "      <td>1</td>\n",
              "      <td>2019</td>\n",
              "      <td>Tuesday</td>\n",
              "      <td>...</td>\n",
              "      <td>NaN</td>\n",
              "      <td>NaN</td>\n",
              "      <td>NaN</td>\n",
              "      <td>NaN</td>\n",
              "      <td>NaN</td>\n",
              "      <td>NaN</td>\n",
              "      <td>NaN</td>\n",
              "      <td>NaN</td>\n",
              "      <td>NaN</td>\n",
              "      <td>NaN</td>\n",
              "    </tr>\n",
              "  </tbody>\n",
              "</table>\n",
              "<p>5 rows × 36 columns</p>\n",
              "</div>"
            ],
            "text/plain": [
              "                          open       high        low      close        volume  \\\n",
              "Fecha                                                                           \n",
              "2019-01-01 03:00:00    0.34640    0.35368    0.34617    0.35073  5.565085e+06   \n",
              "2019-01-01 03:00:00  130.72000  134.00000  130.71000  133.36000  4.847789e+04   \n",
              "2019-01-01 03:00:00    2.52060    2.56000    2.52040    2.53830  4.744196e+05   \n",
              "2019-01-01 03:00:00    0.03988    0.04068    0.03985    0.04061  1.281178e+07   \n",
              "2019-01-01 03:00:00   29.73000   30.16000   29.57000   30.12000  1.034450e+04   \n",
              "\n",
              "                      active  day  month  year  weekday  ...  ADX200  \\\n",
              "Fecha                                                    ...           \n",
              "2019-01-01 03:00:00  XRPUSDT    1      1  2019  Tuesday  ...     NaN   \n",
              "2019-01-01 03:00:00  ETHUSDT    1      1  2019  Tuesday  ...     NaN   \n",
              "2019-01-01 03:00:00  EOSUSDT    1      1  2019  Tuesday  ...     NaN   \n",
              "2019-01-01 03:00:00  ADAUSDT    1      1  2019  Tuesday  ...     NaN   \n",
              "2019-01-01 03:00:00  LTCUSDT    1      1  2019  Tuesday  ...     NaN   \n",
              "\n",
              "                     STOCH_SLOWK  STOCH_SLOWD  MACD  SMA_5  SMA_15  SMA_ratio  \\\n",
              "Fecha                                                                           \n",
              "2019-01-01 03:00:00          NaN          NaN   NaN    NaN     NaN        NaN   \n",
              "2019-01-01 03:00:00          NaN          NaN   NaN    NaN     NaN        NaN   \n",
              "2019-01-01 03:00:00          NaN          NaN   NaN    NaN     NaN        NaN   \n",
              "2019-01-01 03:00:00          NaN          NaN   NaN    NaN     NaN        NaN   \n",
              "2019-01-01 03:00:00          NaN          NaN   NaN    NaN     NaN        NaN   \n",
              "\n",
              "                     SMA5_Volume  SMA15_Volume  SMA_Volume_Ratio  \n",
              "Fecha                                                             \n",
              "2019-01-01 03:00:00          NaN           NaN               NaN  \n",
              "2019-01-01 03:00:00          NaN           NaN               NaN  \n",
              "2019-01-01 03:00:00          NaN           NaN               NaN  \n",
              "2019-01-01 03:00:00          NaN           NaN               NaN  \n",
              "2019-01-01 03:00:00          NaN           NaN               NaN  \n",
              "\n",
              "[5 rows x 36 columns]"
            ]
          },
          "execution_count": 35,
          "metadata": {},
          "output_type": "execute_result"
        }
      ],
      "source": [
        "df.head()"
      ]
    },
    {
      "cell_type": "code",
      "execution_count": null,
      "metadata": {
        "id": "keGl0WQkJ6lH",
        "outputId": "9c46193b-9bad-4f22-bc54-6902fcac081c"
      },
      "outputs": [
        {
          "data": {
            "text/plain": [
              "Index(['open', 'high', 'low', 'close', 'volume', 'active', 'day', 'month',\n",
              "       'year', 'weekday', 'profit', 'real_volume', 'EMA5', 'EMA15', 'EMA50',\n",
              "       'EMA100', 'EMA200', 'RSI5', 'RSI15', 'RSI50', 'RSI100', 'RSI200',\n",
              "       'ADX5', 'ADX15', 'ADX50', 'ADX100', 'ADX200', 'STOCH_SLOWK',\n",
              "       'STOCH_SLOWD', 'MACD', 'SMA_5', 'SMA_15', 'SMA_ratio', 'SMA5_Volume',\n",
              "       'SMA15_Volume', 'SMA_Volume_Ratio'],\n",
              "      dtype='object')"
            ]
          },
          "execution_count": 36,
          "metadata": {},
          "output_type": "execute_result"
        }
      ],
      "source": [
        "df.columns"
      ]
    },
    {
      "cell_type": "code",
      "execution_count": null,
      "metadata": {
        "tags": [],
        "id": "CEqLI-LCJ6lH"
      },
      "outputs": [],
      "source": [
        "df.drop(columns=['EMA5', 'EMA15', 'EMA50',\n",
        "       'EMA100', 'EMA200', 'RSI5', 'RSI15', 'RSI50', 'RSI100', 'RSI200',\n",
        "       'ADX5', 'ADX15', 'ADX50', 'ADX100', 'ADX200', 'STOCH_SLOWK',\n",
        "       'STOCH_SLOWD', 'MACD', 'SMA_5', 'SMA_15', 'SMA_ratio', 'SMA5_Volume',\n",
        "       'SMA15_Volume', 'SMA_Volume_Ratio'], inplace=True)"
      ]
    },
    {
      "cell_type": "markdown",
      "metadata": {
        "id": "wtxefiFmJ6lH"
      },
      "source": [
        "## Parte 0 - Feature Engineer"
      ]
    },
    {
      "cell_type": "markdown",
      "metadata": {
        "id": "hqjTUFh-J6lI"
      },
      "source": [
        "### Funciones"
      ]
    },
    {
      "cell_type": "code",
      "execution_count": null,
      "metadata": {
        "id": "jn4vPACqJ6lI"
      },
      "outputs": [],
      "source": [
        "def _extract_close(data, active):\n",
        "    values = None\n",
        "\n",
        "    if isinstance(data, Series):\n",
        "        values = data.values\n",
        "    else:\n",
        "        if \"close\" in data.columns:\n",
        "            values = data[data['active'] == active]['close']\n",
        "\n",
        "    if values is None:\n",
        "        raise ValueError(\n",
        "            \"data must be Pandas Series or DataFrame with a 'last' or 'close' column\")\n",
        "\n",
        "    return values"
      ]
    },
    {
      "cell_type": "code",
      "execution_count": null,
      "metadata": {
        "id": "-7HjCKmgJ6lI"
      },
      "outputs": [],
      "source": [
        "def _extract_high(data, active):\n",
        "    values = None\n",
        "\n",
        "    if isinstance(data, Series):\n",
        "        values = data.values\n",
        "    else:\n",
        "        if \"high\" in data.columns:\n",
        "            values = data[data['active'] == active]['high']\n",
        "\n",
        "    if values is None:\n",
        "        raise ValueError(\n",
        "            \"data must be Pandas Series or DataFrame with a 'last' or 'close' column\")\n",
        "\n",
        "    return values"
      ]
    },
    {
      "cell_type": "code",
      "execution_count": null,
      "metadata": {
        "id": "wr7bl2suJ6lI"
      },
      "outputs": [],
      "source": [
        "def _extract_low(data, active):\n",
        "    values = None\n",
        "\n",
        "    if isinstance(data, Series):\n",
        "        values = data.values\n",
        "    else:\n",
        "        if \"low\" in data.columns:\n",
        "            values = data[data['active'] == active]['low']\n",
        "\n",
        "    if values is None:\n",
        "        raise ValueError(\n",
        "            \"data must be Pandas Series or DataFrame with a 'last' or 'close' column\")\n",
        "\n",
        "    return values"
      ]
    },
    {
      "cell_type": "code",
      "execution_count": null,
      "metadata": {
        "id": "G_-klYpNJ6lJ"
      },
      "outputs": [],
      "source": [
        "def STOCHRSI(data, active):\n",
        "    closing_prices = _extract_close(data, active)\n",
        "    return ta.STOCHRSI(closing_prices) "
      ]
    },
    {
      "cell_type": "code",
      "execution_count": null,
      "metadata": {
        "id": "Z-R3w3EJJ6lJ"
      },
      "outputs": [],
      "source": [
        "def EMA(data, period, active):\n",
        "    closing_prices = _extract_close(data, active)\n",
        "    return ta.EMA(closing_prices, period)"
      ]
    },
    {
      "cell_type": "code",
      "execution_count": null,
      "metadata": {
        "id": "UPnmCv-4J6lK"
      },
      "outputs": [],
      "source": [
        "def RSI(data, period, active):\n",
        "    closing_prices = _extract_close(data, active)\n",
        "    return ta.RSI(closing_prices, period)"
      ]
    },
    {
      "cell_type": "code",
      "execution_count": null,
      "metadata": {
        "id": "no3--ELtJ6lK"
      },
      "outputs": [],
      "source": [
        "def ADX(data, period, active):\n",
        "    closing_prices = _extract_close(data, active)\n",
        "    high_prices = _extract_high(data, active)\n",
        "    low_prices = _extract_low(data, active)\n",
        "    return ta.ADX(high_prices, low_prices, closing_prices, period)"
      ]
    },
    {
      "cell_type": "code",
      "execution_count": null,
      "metadata": {
        "id": "FCb0BdiqJ6lK"
      },
      "outputs": [],
      "source": [
        "def MACD(data, active, fastperiod = 12, slowperiod = 26, signalperiod  = 9):\n",
        "    closing_prices = _extract_close(data, active)\n",
        "    return ta.MACD(closing_prices, fastperiod, slowperiod, signalperiod)[0]"
      ]
    },
    {
      "cell_type": "code",
      "execution_count": null,
      "metadata": {
        "id": "WNSD__a9J6lL"
      },
      "outputs": [],
      "source": [
        "def STOCH(data, active):\n",
        "    closing_prices = _extract_close(data, active)\n",
        "    high_prices = _extract_high(data, active)\n",
        "    low_prices = _extract_low(data, active)\n",
        "    return ta.STOCH(high_prices, low_prices, closing_prices)"
      ]
    },
    {
      "cell_type": "code",
      "execution_count": null,
      "metadata": {
        "id": "MKzAV9W5J6lL"
      },
      "outputs": [],
      "source": [
        "def add_target_n_steps(data, periods):\n",
        "    target = data.shift(-periods).apply(lambda x: x.iloc[0])['close']\n",
        "    return target"
      ]
    },
    {
      "cell_type": "markdown",
      "metadata": {
        "id": "LOmZbYEHJ6lL"
      },
      "source": [
        "## Parte I - Clasificación"
      ]
    },
    {
      "cell_type": "code",
      "execution_count": null,
      "metadata": {
        "id": "2ODLg81vJ6lL",
        "outputId": "e3355693-38f1-487b-9f73-eba1bcf530c6"
      },
      "outputs": [
        {
          "data": {
            "text/plain": [
              "(open           0\n",
              " high           0\n",
              " low            0\n",
              " close          0\n",
              " volume         0\n",
              " active         0\n",
              " day            0\n",
              " month          0\n",
              " year           0\n",
              " weekday        0\n",
              " profit         0\n",
              " real_volume    0\n",
              " dtype: int64,\n",
              " (116029, 12),\n",
              " 0.0)"
            ]
          },
          "execution_count": 48,
          "metadata": {},
          "output_type": "execute_result"
        }
      ],
      "source": [
        "df.isna().sum(), df.shape, (df.isna().sum().max()/df.shape[0])*100"
      ]
    },
    {
      "cell_type": "markdown",
      "metadata": {
        "id": "-Rvdfjq7J6lL"
      },
      "source": [
        "Vemos que los valores nulos corresponden a los indicadores técnicos que agregamos como features para ser usados luego en los modelos que vamos a utilizar, por lo tanto corresponde eliminar estos valores nulos para poder tener el dataset limpio y completo."
      ]
    },
    {
      "cell_type": "markdown",
      "metadata": {
        "id": "coGDUr1rJ6lM"
      },
      "source": [
        "df[df.active == 'BTCUSDT']Creamos un nuevo dataset unicamente con la información de BTC, para poder usarlo a modo de ejemplo con los modelos de clasificación que vamos a utilizar. A su vez, quitaremos los valores nulos usando la columna \"ADX200\", que al ser la que mayor cantidad de nulos tiene, nos aseguramos de que el dataset quede completo."
      ]
    },
    {
      "cell_type": "code",
      "execution_count": null,
      "metadata": {
        "id": "MtFdESvvJ6lM"
      },
      "outputs": [],
      "source": [
        "df_btc = df[df.active == 'BTCUSDT']"
      ]
    },
    {
      "cell_type": "code",
      "execution_count": null,
      "metadata": {
        "id": "QPYx2Kl0J6lM"
      },
      "outputs": [],
      "source": [
        "df_btc_bkp = df_btc.copy()"
      ]
    },
    {
      "cell_type": "markdown",
      "metadata": {
        "id": "2IeKHVM7J6lM"
      },
      "source": [
        "### Generamos el target que usaremos luego en cada modelo y el baseline"
      ]
    },
    {
      "cell_type": "code",
      "execution_count": null,
      "metadata": {
        "id": "V6rSpb6TJ6lM"
      },
      "outputs": [],
      "source": [
        "df_btc_close = df_btc[['close']]\n",
        "df_btc_close = df_btc_close.rename(columns = {'close':'actual_close'})"
      ]
    },
    {
      "cell_type": "markdown",
      "metadata": {
        "id": "IyN637A5J6lM"
      },
      "source": [
        "#### Predicción a 1 día (6 períodos)"
      ]
    },
    {
      "cell_type": "code",
      "execution_count": null,
      "metadata": {
        "id": "MSikYnT3J6lN",
        "outputId": "78a1387e-051c-4bef-f104-1c97800e97ac"
      },
      "outputs": [
        {
          "data": {
            "text/html": [
              "<div>\n",
              "<style scoped>\n",
              "    .dataframe tbody tr th:only-of-type {\n",
              "        vertical-align: middle;\n",
              "    }\n",
              "\n",
              "    .dataframe tbody tr th {\n",
              "        vertical-align: top;\n",
              "    }\n",
              "\n",
              "    .dataframe thead th {\n",
              "        text-align: right;\n",
              "    }\n",
              "</style>\n",
              "<table border=\"1\" class=\"dataframe\">\n",
              "  <thead>\n",
              "    <tr style=\"text-align: right;\">\n",
              "      <th></th>\n",
              "      <th>actual_close</th>\n",
              "      <th>target_1</th>\n",
              "    </tr>\n",
              "    <tr>\n",
              "      <th>Fecha</th>\n",
              "      <th></th>\n",
              "      <th></th>\n",
              "    </tr>\n",
              "  </thead>\n",
              "  <tbody>\n",
              "    <tr>\n",
              "      <th>2019-01-01 03:00:00</th>\n",
              "      <td>3703.56</td>\n",
              "      <td>NaN</td>\n",
              "    </tr>\n",
              "    <tr>\n",
              "      <th>2019-01-01 07:00:00</th>\n",
              "      <td>3713.07</td>\n",
              "      <td>NaN</td>\n",
              "    </tr>\n",
              "    <tr>\n",
              "      <th>2019-01-01 11:00:00</th>\n",
              "      <td>3698.53</td>\n",
              "      <td>NaN</td>\n",
              "    </tr>\n",
              "    <tr>\n",
              "      <th>2019-01-01 15:00:00</th>\n",
              "      <td>3659.41</td>\n",
              "      <td>NaN</td>\n",
              "    </tr>\n",
              "    <tr>\n",
              "      <th>2019-01-01 19:00:00</th>\n",
              "      <td>3711.20</td>\n",
              "      <td>NaN</td>\n",
              "    </tr>\n",
              "  </tbody>\n",
              "</table>\n",
              "</div>"
            ],
            "text/plain": [
              "                     actual_close  target_1\n",
              "Fecha                                      \n",
              "2019-01-01 03:00:00       3703.56       NaN\n",
              "2019-01-01 07:00:00       3713.07       NaN\n",
              "2019-01-01 11:00:00       3698.53       NaN\n",
              "2019-01-01 15:00:00       3659.41       NaN\n",
              "2019-01-01 19:00:00       3711.20       NaN"
            ]
          },
          "execution_count": 52,
          "metadata": {},
          "output_type": "execute_result"
        }
      ],
      "source": [
        "df_btc_close['target_1'] = df_btc.rolling(6).apply(lambda x: x.iloc[1] > x.iloc[0])['close']\n",
        "df_btc_close.head()"
      ]
    },
    {
      "cell_type": "markdown",
      "metadata": {
        "id": "csJFuyU7J6lN"
      },
      "source": [
        "#### Predicción a 7 dias (42 períodos)"
      ]
    },
    {
      "cell_type": "code",
      "execution_count": null,
      "metadata": {
        "id": "9lIgJ0yPJ6lN",
        "outputId": "8fb7d2eb-69a0-466f-8ff6-b426ccd30ee0"
      },
      "outputs": [
        {
          "data": {
            "text/html": [
              "<div>\n",
              "<style scoped>\n",
              "    .dataframe tbody tr th:only-of-type {\n",
              "        vertical-align: middle;\n",
              "    }\n",
              "\n",
              "    .dataframe tbody tr th {\n",
              "        vertical-align: top;\n",
              "    }\n",
              "\n",
              "    .dataframe thead th {\n",
              "        text-align: right;\n",
              "    }\n",
              "</style>\n",
              "<table border=\"1\" class=\"dataframe\">\n",
              "  <thead>\n",
              "    <tr style=\"text-align: right;\">\n",
              "      <th></th>\n",
              "      <th>actual_close</th>\n",
              "      <th>target_1</th>\n",
              "      <th>target_2</th>\n",
              "    </tr>\n",
              "    <tr>\n",
              "      <th>Fecha</th>\n",
              "      <th></th>\n",
              "      <th></th>\n",
              "      <th></th>\n",
              "    </tr>\n",
              "  </thead>\n",
              "  <tbody>\n",
              "    <tr>\n",
              "      <th>2019-01-01 03:00:00</th>\n",
              "      <td>3703.56</td>\n",
              "      <td>NaN</td>\n",
              "      <td>NaN</td>\n",
              "    </tr>\n",
              "    <tr>\n",
              "      <th>2019-01-01 07:00:00</th>\n",
              "      <td>3713.07</td>\n",
              "      <td>NaN</td>\n",
              "      <td>NaN</td>\n",
              "    </tr>\n",
              "    <tr>\n",
              "      <th>2019-01-01 11:00:00</th>\n",
              "      <td>3698.53</td>\n",
              "      <td>NaN</td>\n",
              "      <td>NaN</td>\n",
              "    </tr>\n",
              "    <tr>\n",
              "      <th>2019-01-01 15:00:00</th>\n",
              "      <td>3659.41</td>\n",
              "      <td>NaN</td>\n",
              "      <td>NaN</td>\n",
              "    </tr>\n",
              "    <tr>\n",
              "      <th>2019-01-01 19:00:00</th>\n",
              "      <td>3711.20</td>\n",
              "      <td>NaN</td>\n",
              "      <td>NaN</td>\n",
              "    </tr>\n",
              "  </tbody>\n",
              "</table>\n",
              "</div>"
            ],
            "text/plain": [
              "                     actual_close  target_1  target_2\n",
              "Fecha                                                \n",
              "2019-01-01 03:00:00       3703.56       NaN       NaN\n",
              "2019-01-01 07:00:00       3713.07       NaN       NaN\n",
              "2019-01-01 11:00:00       3698.53       NaN       NaN\n",
              "2019-01-01 15:00:00       3659.41       NaN       NaN\n",
              "2019-01-01 19:00:00       3711.20       NaN       NaN"
            ]
          },
          "execution_count": 53,
          "metadata": {},
          "output_type": "execute_result"
        }
      ],
      "source": [
        "df_btc_close['target_2'] = df_btc.rolling(42).apply(lambda x: x.iloc[1] > x.iloc[0])['close']\n",
        "df_btc_close.head()"
      ]
    },
    {
      "cell_type": "markdown",
      "metadata": {
        "id": "IlNFnwjQJ6lO"
      },
      "source": [
        "Tomamos unicamente estas columnas para ver si un modelo de clasificacion con parametros estandar y con unicamente estas features, logra mejorar el accuracy del modelo baseline."
      ]
    },
    {
      "cell_type": "code",
      "execution_count": null,
      "metadata": {
        "id": "cfC3mx0JJ6lO",
        "outputId": "0516ae91-0040-4232-c29f-b2005d450e8d"
      },
      "outputs": [
        {
          "data": {
            "text/html": [
              "<div>\n",
              "<style scoped>\n",
              "    .dataframe tbody tr th:only-of-type {\n",
              "        vertical-align: middle;\n",
              "    }\n",
              "\n",
              "    .dataframe tbody tr th {\n",
              "        vertical-align: top;\n",
              "    }\n",
              "\n",
              "    .dataframe thead th {\n",
              "        text-align: right;\n",
              "    }\n",
              "</style>\n",
              "<table border=\"1\" class=\"dataframe\">\n",
              "  <thead>\n",
              "    <tr style=\"text-align: right;\">\n",
              "      <th></th>\n",
              "      <th>actual_close</th>\n",
              "      <th>target_1</th>\n",
              "      <th>target_2</th>\n",
              "      <th>close</th>\n",
              "      <th>volume</th>\n",
              "      <th>open</th>\n",
              "      <th>high</th>\n",
              "      <th>low</th>\n",
              "    </tr>\n",
              "    <tr>\n",
              "      <th>Fecha</th>\n",
              "      <th></th>\n",
              "      <th></th>\n",
              "      <th></th>\n",
              "      <th></th>\n",
              "      <th></th>\n",
              "      <th></th>\n",
              "      <th></th>\n",
              "      <th></th>\n",
              "    </tr>\n",
              "  </thead>\n",
              "  <tbody>\n",
              "    <tr>\n",
              "      <th>2019-01-01 07:00:00</th>\n",
              "      <td>3713.07</td>\n",
              "      <td>NaN</td>\n",
              "      <td>NaN</td>\n",
              "      <td>3713.07</td>\n",
              "      <td>3200.719832</td>\n",
              "      <td>3703.63</td>\n",
              "      <td>3732.00</td>\n",
              "      <td>3696.14</td>\n",
              "    </tr>\n",
              "    <tr>\n",
              "      <th>2019-01-01 11:00:00</th>\n",
              "      <td>3698.53</td>\n",
              "      <td>NaN</td>\n",
              "      <td>NaN</td>\n",
              "      <td>3698.53</td>\n",
              "      <td>3324.094679</td>\n",
              "      <td>3713.07</td>\n",
              "      <td>3756.94</td>\n",
              "      <td>3684.21</td>\n",
              "    </tr>\n",
              "    <tr>\n",
              "      <th>2019-01-01 15:00:00</th>\n",
              "      <td>3659.41</td>\n",
              "      <td>NaN</td>\n",
              "      <td>NaN</td>\n",
              "      <td>3659.41</td>\n",
              "      <td>3089.291395</td>\n",
              "      <td>3698.28</td>\n",
              "      <td>3701.68</td>\n",
              "      <td>3642.00</td>\n",
              "    </tr>\n",
              "    <tr>\n",
              "      <th>2019-01-01 19:00:00</th>\n",
              "      <td>3711.20</td>\n",
              "      <td>NaN</td>\n",
              "      <td>NaN</td>\n",
              "      <td>3711.20</td>\n",
              "      <td>4906.805931</td>\n",
              "      <td>3659.56</td>\n",
              "      <td>3730.01</td>\n",
              "      <td>3659.56</td>\n",
              "    </tr>\n",
              "    <tr>\n",
              "      <th>2019-01-01 23:00:00</th>\n",
              "      <td>3783.28</td>\n",
              "      <td>1.0</td>\n",
              "      <td>NaN</td>\n",
              "      <td>3783.28</td>\n",
              "      <td>7404.855783</td>\n",
              "      <td>3712.85</td>\n",
              "      <td>3810.16</td>\n",
              "      <td>3706.43</td>\n",
              "    </tr>\n",
              "  </tbody>\n",
              "</table>\n",
              "</div>"
            ],
            "text/plain": [
              "                     actual_close  target_1  target_2    close       volume  \\\n",
              "Fecha                                                                         \n",
              "2019-01-01 07:00:00       3713.07       NaN       NaN  3713.07  3200.719832   \n",
              "2019-01-01 11:00:00       3698.53       NaN       NaN  3698.53  3324.094679   \n",
              "2019-01-01 15:00:00       3659.41       NaN       NaN  3659.41  3089.291395   \n",
              "2019-01-01 19:00:00       3711.20       NaN       NaN  3711.20  4906.805931   \n",
              "2019-01-01 23:00:00       3783.28       1.0       NaN  3783.28  7404.855783   \n",
              "\n",
              "                        open     high      low  \n",
              "Fecha                                           \n",
              "2019-01-01 07:00:00  3703.63  3732.00  3696.14  \n",
              "2019-01-01 11:00:00  3713.07  3756.94  3684.21  \n",
              "2019-01-01 15:00:00  3698.28  3701.68  3642.00  \n",
              "2019-01-01 19:00:00  3659.56  3730.01  3659.56  \n",
              "2019-01-01 23:00:00  3712.85  3810.16  3706.43  "
            ]
          },
          "execution_count": 54,
          "metadata": {},
          "output_type": "execute_result"
        }
      ],
      "source": [
        "predictors = [\"close\", \"volume\", \"open\", \"high\", \"low\"]\n",
        "df_btc = df_btc_close.join(df_btc[predictors]).iloc[1:]\n",
        "df_btc.head()"
      ]
    },
    {
      "cell_type": "code",
      "execution_count": null,
      "metadata": {
        "id": "DJ3-pf2JJ6lP",
        "outputId": "ecee423e-2537-4f35-b9b4-f574e35b4f69"
      },
      "outputs": [
        {
          "data": {
            "text/html": [
              "<div>\n",
              "<style scoped>\n",
              "    .dataframe tbody tr th:only-of-type {\n",
              "        vertical-align: middle;\n",
              "    }\n",
              "\n",
              "    .dataframe tbody tr th {\n",
              "        vertical-align: top;\n",
              "    }\n",
              "\n",
              "    .dataframe thead th {\n",
              "        text-align: right;\n",
              "    }\n",
              "</style>\n",
              "<table border=\"1\" class=\"dataframe\">\n",
              "  <thead>\n",
              "    <tr style=\"text-align: right;\">\n",
              "      <th></th>\n",
              "      <th>actual_close</th>\n",
              "      <th>target_1</th>\n",
              "      <th>target_2</th>\n",
              "      <th>close</th>\n",
              "      <th>volume</th>\n",
              "      <th>open</th>\n",
              "      <th>high</th>\n",
              "      <th>low</th>\n",
              "    </tr>\n",
              "    <tr>\n",
              "      <th>Fecha</th>\n",
              "      <th></th>\n",
              "      <th></th>\n",
              "      <th></th>\n",
              "      <th></th>\n",
              "      <th></th>\n",
              "      <th></th>\n",
              "      <th></th>\n",
              "      <th></th>\n",
              "    </tr>\n",
              "  </thead>\n",
              "  <tbody>\n",
              "    <tr>\n",
              "      <th>2019-01-07 23:00:00</th>\n",
              "      <td>3949.16</td>\n",
              "      <td>0.0</td>\n",
              "      <td>1.0</td>\n",
              "      <td>3949.16</td>\n",
              "      <td>4988.212097</td>\n",
              "      <td>3965.61</td>\n",
              "      <td>3989.00</td>\n",
              "      <td>3922.00</td>\n",
              "    </tr>\n",
              "    <tr>\n",
              "      <th>2019-01-08 03:00:00</th>\n",
              "      <td>3958.56</td>\n",
              "      <td>1.0</td>\n",
              "      <td>0.0</td>\n",
              "      <td>3958.56</td>\n",
              "      <td>4541.881427</td>\n",
              "      <td>3949.00</td>\n",
              "      <td>3965.66</td>\n",
              "      <td>3936.26</td>\n",
              "    </tr>\n",
              "    <tr>\n",
              "      <th>2019-01-08 07:00:00</th>\n",
              "      <td>3980.69</td>\n",
              "      <td>0.0</td>\n",
              "      <td>0.0</td>\n",
              "      <td>3980.69</td>\n",
              "      <td>5296.687764</td>\n",
              "      <td>3959.59</td>\n",
              "      <td>3982.25</td>\n",
              "      <td>3946.09</td>\n",
              "    </tr>\n",
              "    <tr>\n",
              "      <th>2019-01-08 11:00:00</th>\n",
              "      <td>4008.81</td>\n",
              "      <td>0.0</td>\n",
              "      <td>1.0</td>\n",
              "      <td>4008.81</td>\n",
              "      <td>8556.470955</td>\n",
              "      <td>3981.81</td>\n",
              "      <td>4039.00</td>\n",
              "      <td>3967.93</td>\n",
              "    </tr>\n",
              "    <tr>\n",
              "      <th>2019-01-08 15:00:00</th>\n",
              "      <td>3968.46</td>\n",
              "      <td>0.0</td>\n",
              "      <td>1.0</td>\n",
              "      <td>3968.46</td>\n",
              "      <td>10830.599948</td>\n",
              "      <td>4008.81</td>\n",
              "      <td>4069.80</td>\n",
              "      <td>3938.82</td>\n",
              "    </tr>\n",
              "  </tbody>\n",
              "</table>\n",
              "</div>"
            ],
            "text/plain": [
              "                     actual_close  target_1  target_2    close        volume  \\\n",
              "Fecha                                                                          \n",
              "2019-01-07 23:00:00       3949.16       0.0       1.0  3949.16   4988.212097   \n",
              "2019-01-08 03:00:00       3958.56       1.0       0.0  3958.56   4541.881427   \n",
              "2019-01-08 07:00:00       3980.69       0.0       0.0  3980.69   5296.687764   \n",
              "2019-01-08 11:00:00       4008.81       0.0       1.0  4008.81   8556.470955   \n",
              "2019-01-08 15:00:00       3968.46       0.0       1.0  3968.46  10830.599948   \n",
              "\n",
              "                        open     high      low  \n",
              "Fecha                                           \n",
              "2019-01-07 23:00:00  3965.61  3989.00  3922.00  \n",
              "2019-01-08 03:00:00  3949.00  3965.66  3936.26  \n",
              "2019-01-08 07:00:00  3959.59  3982.25  3946.09  \n",
              "2019-01-08 11:00:00  3981.81  4039.00  3967.93  \n",
              "2019-01-08 15:00:00  4008.81  4069.80  3938.82  "
            ]
          },
          "execution_count": 55,
          "metadata": {},
          "output_type": "execute_result"
        }
      ],
      "source": [
        "df_btc.dropna(subset=['target_2'], inplace=True)\n",
        "df_btc.head()"
      ]
    },
    {
      "cell_type": "markdown",
      "metadata": {
        "id": "rn1exo_SJ6lP"
      },
      "source": [
        "### Modelo Baseline"
      ]
    },
    {
      "cell_type": "code",
      "execution_count": null,
      "metadata": {
        "id": "h-YprwTXJ6lP"
      },
      "outputs": [],
      "source": [
        "df_btc_bl = df_btc.copy()"
      ]
    },
    {
      "cell_type": "code",
      "execution_count": null,
      "metadata": {
        "id": "k1Tg_onye3Qv"
      },
      "outputs": [],
      "source": [
        "#Creación del Modelo Baseline que predice el precio a 6 periodos hacia adelante con el valor de la media de los útimos 10 periodos\n",
        "df_btc_bl['precio_bl'] = df_btc_bl['close'].rolling(10).mean()"
      ]
    },
    {
      "cell_type": "code",
      "execution_count": null,
      "metadata": {
        "id": "deN0Hpube3Qv"
      },
      "outputs": [],
      "source": [
        "df_btc_bl['precio_bl'] = df_btc_bl['precio_bl'].shift(6) #Hacemos el shift para predecir el precio 6 períodos hacia adelante"
      ]
    },
    {
      "cell_type": "code",
      "execution_count": null,
      "metadata": {
        "id": "jPje_1Vfe3Qw",
        "outputId": "dcc6f684-90ee-41b6-caaf-8889bfc3411a"
      },
      "outputs": [
        {
          "data": {
            "text/html": [
              "<div>\n",
              "<style scoped>\n",
              "    .dataframe tbody tr th:only-of-type {\n",
              "        vertical-align: middle;\n",
              "    }\n",
              "\n",
              "    .dataframe tbody tr th {\n",
              "        vertical-align: top;\n",
              "    }\n",
              "\n",
              "    .dataframe thead th {\n",
              "        text-align: right;\n",
              "    }\n",
              "</style>\n",
              "<table border=\"1\" class=\"dataframe\">\n",
              "  <thead>\n",
              "    <tr style=\"text-align: right;\">\n",
              "      <th></th>\n",
              "      <th>close</th>\n",
              "      <th>precio_bl</th>\n",
              "    </tr>\n",
              "    <tr>\n",
              "      <th>Fecha</th>\n",
              "      <th></th>\n",
              "      <th></th>\n",
              "    </tr>\n",
              "  </thead>\n",
              "  <tbody>\n",
              "    <tr>\n",
              "      <th>2019-01-07 23:00:00</th>\n",
              "      <td>3949.16</td>\n",
              "      <td>NaN</td>\n",
              "    </tr>\n",
              "    <tr>\n",
              "      <th>2019-01-08 03:00:00</th>\n",
              "      <td>3958.56</td>\n",
              "      <td>NaN</td>\n",
              "    </tr>\n",
              "    <tr>\n",
              "      <th>2019-01-08 07:00:00</th>\n",
              "      <td>3980.69</td>\n",
              "      <td>NaN</td>\n",
              "    </tr>\n",
              "    <tr>\n",
              "      <th>2019-01-08 11:00:00</th>\n",
              "      <td>4008.81</td>\n",
              "      <td>NaN</td>\n",
              "    </tr>\n",
              "    <tr>\n",
              "      <th>2019-01-08 15:00:00</th>\n",
              "      <td>3968.46</td>\n",
              "      <td>NaN</td>\n",
              "    </tr>\n",
              "    <tr>\n",
              "      <th>2019-01-08 19:00:00</th>\n",
              "      <td>3967.83</td>\n",
              "      <td>NaN</td>\n",
              "    </tr>\n",
              "    <tr>\n",
              "      <th>2019-01-08 23:00:00</th>\n",
              "      <td>3980.64</td>\n",
              "      <td>NaN</td>\n",
              "    </tr>\n",
              "    <tr>\n",
              "      <th>2019-01-09 03:00:00</th>\n",
              "      <td>3986.63</td>\n",
              "      <td>NaN</td>\n",
              "    </tr>\n",
              "    <tr>\n",
              "      <th>2019-01-09 07:00:00</th>\n",
              "      <td>3982.77</td>\n",
              "      <td>NaN</td>\n",
              "    </tr>\n",
              "    <tr>\n",
              "      <th>2019-01-09 11:00:00</th>\n",
              "      <td>3951.22</td>\n",
              "      <td>NaN</td>\n",
              "    </tr>\n",
              "    <tr>\n",
              "      <th>2019-01-09 15:00:00</th>\n",
              "      <td>3971.38</td>\n",
              "      <td>NaN</td>\n",
              "    </tr>\n",
              "    <tr>\n",
              "      <th>2019-01-09 19:00:00</th>\n",
              "      <td>3967.40</td>\n",
              "      <td>NaN</td>\n",
              "    </tr>\n",
              "    <tr>\n",
              "      <th>2019-01-09 23:00:00</th>\n",
              "      <td>3981.00</td>\n",
              "      <td>NaN</td>\n",
              "    </tr>\n",
              "    <tr>\n",
              "      <th>2019-01-10 03:00:00</th>\n",
              "      <td>3781.31</td>\n",
              "      <td>NaN</td>\n",
              "    </tr>\n",
              "    <tr>\n",
              "      <th>2019-01-10 07:00:00</th>\n",
              "      <td>3736.45</td>\n",
              "      <td>NaN</td>\n",
              "    </tr>\n",
              "  </tbody>\n",
              "</table>\n",
              "</div>"
            ],
            "text/plain": [
              "                       close  precio_bl\n",
              "Fecha                                  \n",
              "2019-01-07 23:00:00  3949.16        NaN\n",
              "2019-01-08 03:00:00  3958.56        NaN\n",
              "2019-01-08 07:00:00  3980.69        NaN\n",
              "2019-01-08 11:00:00  4008.81        NaN\n",
              "2019-01-08 15:00:00  3968.46        NaN\n",
              "2019-01-08 19:00:00  3967.83        NaN\n",
              "2019-01-08 23:00:00  3980.64        NaN\n",
              "2019-01-09 03:00:00  3986.63        NaN\n",
              "2019-01-09 07:00:00  3982.77        NaN\n",
              "2019-01-09 11:00:00  3951.22        NaN\n",
              "2019-01-09 15:00:00  3971.38        NaN\n",
              "2019-01-09 19:00:00  3967.40        NaN\n",
              "2019-01-09 23:00:00  3981.00        NaN\n",
              "2019-01-10 03:00:00  3781.31        NaN\n",
              "2019-01-10 07:00:00  3736.45        NaN"
            ]
          },
          "execution_count": 59,
          "metadata": {},
          "output_type": "execute_result"
        }
      ],
      "source": [
        "df_btc_bl[['close','precio_bl']].head(15)"
      ]
    },
    {
      "cell_type": "code",
      "execution_count": null,
      "metadata": {
        "id": "H6KkY9uGe3Qw"
      },
      "outputs": [],
      "source": [
        "df_btc_bl.dropna(subset=['close'], inplace=True)\n",
        "df_btc_bl.dropna(subset=['precio_bl'], inplace=True)\n"
      ]
    },
    {
      "cell_type": "code",
      "execution_count": null,
      "metadata": {
        "id": "ZQ6C7yOte3Qw",
        "outputId": "c2b9a998-2188-45e1-dd43-47658eea8bf3"
      },
      "outputs": [
        {
          "data": {
            "text/html": [
              "<div>\n",
              "<style scoped>\n",
              "    .dataframe tbody tr th:only-of-type {\n",
              "        vertical-align: middle;\n",
              "    }\n",
              "\n",
              "    .dataframe tbody tr th {\n",
              "        vertical-align: top;\n",
              "    }\n",
              "\n",
              "    .dataframe thead th {\n",
              "        text-align: right;\n",
              "    }\n",
              "</style>\n",
              "<table border=\"1\" class=\"dataframe\">\n",
              "  <thead>\n",
              "    <tr style=\"text-align: right;\">\n",
              "      <th></th>\n",
              "      <th>actual_close</th>\n",
              "      <th>target_1</th>\n",
              "      <th>target_2</th>\n",
              "      <th>close</th>\n",
              "      <th>volume</th>\n",
              "      <th>open</th>\n",
              "      <th>high</th>\n",
              "      <th>low</th>\n",
              "      <th>precio_bl</th>\n",
              "      <th>target_bl</th>\n",
              "    </tr>\n",
              "    <tr>\n",
              "      <th>Fecha</th>\n",
              "      <th></th>\n",
              "      <th></th>\n",
              "      <th></th>\n",
              "      <th></th>\n",
              "      <th></th>\n",
              "      <th></th>\n",
              "      <th></th>\n",
              "      <th></th>\n",
              "      <th></th>\n",
              "      <th></th>\n",
              "    </tr>\n",
              "  </thead>\n",
              "  <tbody>\n",
              "    <tr>\n",
              "      <th>2019-01-10 11:00:00</th>\n",
              "      <td>3726.32</td>\n",
              "      <td>0.0</td>\n",
              "      <td>1.0</td>\n",
              "      <td>3726.32</td>\n",
              "      <td>7358.792265</td>\n",
              "      <td>3735.46</td>\n",
              "      <td>3750.00</td>\n",
              "      <td>3707.07</td>\n",
              "      <td>3973.477</td>\n",
              "      <td>1</td>\n",
              "    </tr>\n",
              "    <tr>\n",
              "      <th>2019-01-10 15:00:00</th>\n",
              "      <td>3573.78</td>\n",
              "      <td>1.0</td>\n",
              "      <td>0.0</td>\n",
              "      <td>3573.78</td>\n",
              "      <td>13772.258973</td>\n",
              "      <td>3726.32</td>\n",
              "      <td>3735.65</td>\n",
              "      <td>3540.00</td>\n",
              "      <td>3975.699</td>\n",
              "      <td>1</td>\n",
              "    </tr>\n",
              "    <tr>\n",
              "      <th>2019-01-10 19:00:00</th>\n",
              "      <td>3583.43</td>\n",
              "      <td>0.0</td>\n",
              "      <td>1.0</td>\n",
              "      <td>3583.43</td>\n",
              "      <td>7085.099518</td>\n",
              "      <td>3573.78</td>\n",
              "      <td>3609.21</td>\n",
              "      <td>3540.33</td>\n",
              "      <td>3976.583</td>\n",
              "      <td>1</td>\n",
              "    </tr>\n",
              "    <tr>\n",
              "      <th>2019-01-10 23:00:00</th>\n",
              "      <td>3579.76</td>\n",
              "      <td>0.0</td>\n",
              "      <td>0.0</td>\n",
              "      <td>3579.76</td>\n",
              "      <td>6203.976654</td>\n",
              "      <td>3583.43</td>\n",
              "      <td>3617.04</td>\n",
              "      <td>3557.52</td>\n",
              "      <td>3976.614</td>\n",
              "      <td>1</td>\n",
              "    </tr>\n",
              "    <tr>\n",
              "      <th>2019-01-11 03:00:00</th>\n",
              "      <td>3584.48</td>\n",
              "      <td>0.0</td>\n",
              "      <td>0.0</td>\n",
              "      <td>3584.48</td>\n",
              "      <td>5800.097420</td>\n",
              "      <td>3579.78</td>\n",
              "      <td>3590.00</td>\n",
              "      <td>3546.36</td>\n",
              "      <td>3953.864</td>\n",
              "      <td>1</td>\n",
              "    </tr>\n",
              "    <tr>\n",
              "      <th>2019-01-11 07:00:00</th>\n",
              "      <td>3586.06</td>\n",
              "      <td>0.0</td>\n",
              "      <td>1.0</td>\n",
              "      <td>3586.06</td>\n",
              "      <td>6603.927942</td>\n",
              "      <td>3584.76</td>\n",
              "      <td>3635.00</td>\n",
              "      <td>3562.00</td>\n",
              "      <td>3930.663</td>\n",
              "      <td>1</td>\n",
              "    </tr>\n",
              "    <tr>\n",
              "      <th>2019-01-11 11:00:00</th>\n",
              "      <td>3598.72</td>\n",
              "      <td>1.0</td>\n",
              "      <td>1.0</td>\n",
              "      <td>3598.72</td>\n",
              "      <td>5715.699482</td>\n",
              "      <td>3586.45</td>\n",
              "      <td>3612.00</td>\n",
              "      <td>3569.16</td>\n",
              "      <td>3906.512</td>\n",
              "      <td>1</td>\n",
              "    </tr>\n",
              "  </tbody>\n",
              "</table>\n",
              "</div>"
            ],
            "text/plain": [
              "                     actual_close  target_1  target_2    close        volume  \\\n",
              "Fecha                                                                          \n",
              "2019-01-10 11:00:00       3726.32       0.0       1.0  3726.32   7358.792265   \n",
              "2019-01-10 15:00:00       3573.78       1.0       0.0  3573.78  13772.258973   \n",
              "2019-01-10 19:00:00       3583.43       0.0       1.0  3583.43   7085.099518   \n",
              "2019-01-10 23:00:00       3579.76       0.0       0.0  3579.76   6203.976654   \n",
              "2019-01-11 03:00:00       3584.48       0.0       0.0  3584.48   5800.097420   \n",
              "2019-01-11 07:00:00       3586.06       0.0       1.0  3586.06   6603.927942   \n",
              "2019-01-11 11:00:00       3598.72       1.0       1.0  3598.72   5715.699482   \n",
              "\n",
              "                        open     high      low  precio_bl  target_bl  \n",
              "Fecha                                                                 \n",
              "2019-01-10 11:00:00  3735.46  3750.00  3707.07   3973.477          1  \n",
              "2019-01-10 15:00:00  3726.32  3735.65  3540.00   3975.699          1  \n",
              "2019-01-10 19:00:00  3573.78  3609.21  3540.33   3976.583          1  \n",
              "2019-01-10 23:00:00  3583.43  3617.04  3557.52   3976.614          1  \n",
              "2019-01-11 03:00:00  3579.78  3590.00  3546.36   3953.864          1  \n",
              "2019-01-11 07:00:00  3584.76  3635.00  3562.00   3930.663          1  \n",
              "2019-01-11 11:00:00  3586.45  3612.00  3569.16   3906.512          1  "
            ]
          },
          "execution_count": 61,
          "metadata": {},
          "output_type": "execute_result"
        }
      ],
      "source": [
        "#Asignación de los valores Target de nuestro modelo Baseline\n",
        "df_btc_bl['target_bl'] = df_btc_bl.apply(lambda x: 1 if x['precio_bl'] > x['close'] else 0, axis = 1)\n",
        "df_btc_bl.head(7)"
      ]
    },
    {
      "cell_type": "code",
      "execution_count": null,
      "metadata": {
        "id": "LjJcsU2cJ6lQ",
        "outputId": "334b01e6-a8c2-4ebb-ba90-081d3251683a"
      },
      "outputs": [
        {
          "data": {
            "text/html": [
              "<div>\n",
              "<style scoped>\n",
              "    .dataframe tbody tr th:only-of-type {\n",
              "        vertical-align: middle;\n",
              "    }\n",
              "\n",
              "    .dataframe tbody tr th {\n",
              "        vertical-align: top;\n",
              "    }\n",
              "\n",
              "    .dataframe thead th {\n",
              "        text-align: right;\n",
              "    }\n",
              "</style>\n",
              "<table border=\"1\" class=\"dataframe\">\n",
              "  <thead>\n",
              "    <tr style=\"text-align: right;\">\n",
              "      <th></th>\n",
              "      <th>close</th>\n",
              "      <th>precio_bl</th>\n",
              "      <th>target_bl</th>\n",
              "    </tr>\n",
              "    <tr>\n",
              "      <th>Fecha</th>\n",
              "      <th></th>\n",
              "      <th></th>\n",
              "      <th></th>\n",
              "    </tr>\n",
              "  </thead>\n",
              "  <tbody>\n",
              "    <tr>\n",
              "      <th>2019-01-10 11:00:00</th>\n",
              "      <td>3726.32</td>\n",
              "      <td>3973.477</td>\n",
              "      <td>1</td>\n",
              "    </tr>\n",
              "    <tr>\n",
              "      <th>2019-01-10 15:00:00</th>\n",
              "      <td>3573.78</td>\n",
              "      <td>3975.699</td>\n",
              "      <td>1</td>\n",
              "    </tr>\n",
              "    <tr>\n",
              "      <th>2019-01-10 19:00:00</th>\n",
              "      <td>3583.43</td>\n",
              "      <td>3976.583</td>\n",
              "      <td>1</td>\n",
              "    </tr>\n",
              "    <tr>\n",
              "      <th>2019-01-10 23:00:00</th>\n",
              "      <td>3579.76</td>\n",
              "      <td>3976.614</td>\n",
              "      <td>1</td>\n",
              "    </tr>\n",
              "    <tr>\n",
              "      <th>2019-01-11 03:00:00</th>\n",
              "      <td>3584.48</td>\n",
              "      <td>3953.864</td>\n",
              "      <td>1</td>\n",
              "    </tr>\n",
              "    <tr>\n",
              "      <th>2019-01-11 07:00:00</th>\n",
              "      <td>3586.06</td>\n",
              "      <td>3930.663</td>\n",
              "      <td>1</td>\n",
              "    </tr>\n",
              "    <tr>\n",
              "      <th>2019-01-11 11:00:00</th>\n",
              "      <td>3598.72</td>\n",
              "      <td>3906.512</td>\n",
              "      <td>1</td>\n",
              "    </tr>\n",
              "    <tr>\n",
              "      <th>2019-01-11 15:00:00</th>\n",
              "      <td>3605.88</td>\n",
              "      <td>3865.826</td>\n",
              "      <td>1</td>\n",
              "    </tr>\n",
              "    <tr>\n",
              "      <th>2019-01-11 19:00:00</th>\n",
              "      <td>3578.85</td>\n",
              "      <td>3825.506</td>\n",
              "      <td>1</td>\n",
              "    </tr>\n",
              "    <tr>\n",
              "      <th>2019-01-11 23:00:00</th>\n",
              "      <td>3594.88</td>\n",
              "      <td>3785.205</td>\n",
              "      <td>1</td>\n",
              "    </tr>\n",
              "    <tr>\n",
              "      <th>2019-01-12 03:00:00</th>\n",
              "      <td>3571.74</td>\n",
              "      <td>3748.531</td>\n",
              "      <td>1</td>\n",
              "    </tr>\n",
              "    <tr>\n",
              "      <th>2019-01-12 07:00:00</th>\n",
              "      <td>3575.89</td>\n",
              "      <td>3709.999</td>\n",
              "      <td>1</td>\n",
              "    </tr>\n",
              "    <tr>\n",
              "      <th>2019-01-12 11:00:00</th>\n",
              "      <td>3592.50</td>\n",
              "      <td>3673.131</td>\n",
              "      <td>1</td>\n",
              "    </tr>\n",
              "    <tr>\n",
              "      <th>2019-01-12 15:00:00</th>\n",
              "      <td>3591.92</td>\n",
              "      <td>3635.619</td>\n",
              "      <td>1</td>\n",
              "    </tr>\n",
              "    <tr>\n",
              "      <th>2019-01-12 19:00:00</th>\n",
              "      <td>3580.01</td>\n",
              "      <td>3615.373</td>\n",
              "      <td>1</td>\n",
              "    </tr>\n",
              "  </tbody>\n",
              "</table>\n",
              "</div>"
            ],
            "text/plain": [
              "                       close  precio_bl  target_bl\n",
              "Fecha                                             \n",
              "2019-01-10 11:00:00  3726.32   3973.477          1\n",
              "2019-01-10 15:00:00  3573.78   3975.699          1\n",
              "2019-01-10 19:00:00  3583.43   3976.583          1\n",
              "2019-01-10 23:00:00  3579.76   3976.614          1\n",
              "2019-01-11 03:00:00  3584.48   3953.864          1\n",
              "2019-01-11 07:00:00  3586.06   3930.663          1\n",
              "2019-01-11 11:00:00  3598.72   3906.512          1\n",
              "2019-01-11 15:00:00  3605.88   3865.826          1\n",
              "2019-01-11 19:00:00  3578.85   3825.506          1\n",
              "2019-01-11 23:00:00  3594.88   3785.205          1\n",
              "2019-01-12 03:00:00  3571.74   3748.531          1\n",
              "2019-01-12 07:00:00  3575.89   3709.999          1\n",
              "2019-01-12 11:00:00  3592.50   3673.131          1\n",
              "2019-01-12 15:00:00  3591.92   3635.619          1\n",
              "2019-01-12 19:00:00  3580.01   3615.373          1"
            ]
          },
          "execution_count": 62,
          "metadata": {},
          "output_type": "execute_result"
        }
      ],
      "source": [
        "df_btc_bl[['close','precio_bl','target_bl']].head(15)"
      ]
    },
    {
      "cell_type": "code",
      "execution_count": null,
      "metadata": {
        "id": "vs9LNN7kJ6lQ",
        "outputId": "8c2d87d7-b770-452a-b174-13ba82852cec"
      },
      "outputs": [
        {
          "data": {
            "text/plain": [
              "0    3888\n",
              "1    3344\n",
              "Name: target_bl, dtype: int64"
            ]
          },
          "execution_count": 63,
          "metadata": {},
          "output_type": "execute_result"
        }
      ],
      "source": [
        "df_btc_bl.target_bl.value_counts()"
      ]
    },
    {
      "cell_type": "code",
      "execution_count": null,
      "metadata": {
        "id": "48bpIEtrJ6lR",
        "outputId": "19cbca85-d9c0-4c24-8c4f-8e740ee7ab2a"
      },
      "outputs": [
        {
          "data": {
            "text/plain": [
              "1.0    3718\n",
              "0.0    3514\n",
              "Name: target_1, dtype: int64"
            ]
          },
          "execution_count": 64,
          "metadata": {},
          "output_type": "execute_result"
        }
      ],
      "source": [
        "df_btc_bl.target_1.value_counts()"
      ]
    },
    {
      "cell_type": "markdown",
      "metadata": {
        "id": "gxtPhyjjJ6lR"
      },
      "source": [
        "Vamos a probar con el modelo baseline, y dividimos los datos en 80/20 en train y test."
      ]
    },
    {
      "cell_type": "code",
      "execution_count": null,
      "metadata": {
        "id": "07_gnZNUe3Qy"
      },
      "outputs": [],
      "source": [
        "train = df_btc_bl.iloc[:-1400]\n",
        "test = df_btc_bl.iloc[-1400:]"
      ]
    },
    {
      "cell_type": "code",
      "execution_count": null,
      "metadata": {
        "id": "9Dbd5LP9e3Qz",
        "outputId": "1db2b42c-e98b-4b62-e080-9ac0f72bf07d"
      },
      "outputs": [
        {
          "data": {
            "text/plain": [
              "((7232, 10), (5832, 10), (1400, 10))"
            ]
          },
          "execution_count": 66,
          "metadata": {},
          "output_type": "execute_result"
        }
      ],
      "source": [
        "df_btc_bl.shape, train.shape, test.shape"
      ]
    },
    {
      "cell_type": "code",
      "execution_count": null,
      "metadata": {
        "id": "JFp4YkwQJ6lR",
        "outputId": "cfaab250-c2b1-4876-ec06-5ad7aa2d95b9"
      },
      "outputs": [
        {
          "data": {
            "text/plain": [
              "Index(['actual_close', 'target_1', 'target_2', 'close', 'volume', 'open',\n",
              "       'high', 'low', 'precio_bl', 'target_bl'],\n",
              "      dtype='object')"
            ]
          },
          "execution_count": 69,
          "metadata": {},
          "output_type": "execute_result"
        }
      ],
      "source": [
        "df_btc_bl.columns"
      ]
    },
    {
      "cell_type": "code",
      "execution_count": null,
      "metadata": {
        "id": "qKkOazq-e3Qz",
        "outputId": "99b4a355-7659-4f5e-bcf9-91e69f552d5d"
      },
      "outputs": [
        {
          "name": "stdout",
          "output_type": "stream",
          "text": [
            "Precision del Modelo Baseline:  0.4152777777777778\n",
            "Accuracy del Modelo Baseline:  0.4235714285714286\n",
            "Recall del Modelo Baseline:  0.4364963503649635\n",
            "F1 del Modelo Baseline:  0.42562277580071173\n"
          ]
        }
      ],
      "source": [
        "#Calculamos el score del modelo Baseline intentando predecir a 6 periodos\n",
        "\n",
        "print('Precision del Modelo Baseline: ',\n",
        "precision_score(test[\"target_1\"], test[\"target_bl\"]))\n",
        "print('Accuracy del Modelo Baseline: ',\n",
        "accuracy_score(test[\"target_1\"], test[\"target_bl\"]))\n",
        "print('Recall del Modelo Baseline: ',\n",
        "recall_score(test[\"target_1\"], test[\"target_bl\"]))\n",
        "print('F1 del Modelo Baseline: ',\n",
        "f1_score(test[\"target_1\"], test[\"target_bl\"]))"
      ]
    },
    {
      "cell_type": "code",
      "execution_count": null,
      "metadata": {
        "id": "8xpRgcC8J6lS",
        "outputId": "6c23310c-fce1-4796-ab36-4a6e8523ad57"
      },
      "outputs": [
        {
          "name": "stdout",
          "output_type": "stream",
          "text": [
            "Precision del Modelo Baseline:  0.49027777777777776\n",
            "Accuracy del Modelo Baseline:  0.5\n",
            "Recall del Modelo Baseline:  0.5145772594752187\n",
            "F1 del Modelo Baseline:  0.5021337126600285\n"
          ]
        }
      ],
      "source": [
        "#Calculamos el score del modelo Baseline intentando predecir a 42 periodos\n",
        "\n",
        "print('Precision del Modelo Baseline: ',\n",
        "precision_score(test[\"target_2\"], test[\"target_bl\"]))\n",
        "print('Accuracy del Modelo Baseline: ',\n",
        "accuracy_score(test[\"target_2\"], test[\"target_bl\"]))\n",
        "print('Recall del Modelo Baseline: ',\n",
        "recall_score(test[\"target_2\"], test[\"target_bl\"]))\n",
        "print('F1 del Modelo Baseline: ',\n",
        "f1_score(test[\"target_2\"], test[\"target_bl\"]))"
      ]
    },
    {
      "cell_type": "markdown",
      "metadata": {
        "id": "gaTv6hebJ6lS"
      },
      "source": [
        "### XGboost, RandomForest y DecisionTree"
      ]
    },
    {
      "cell_type": "code",
      "execution_count": null,
      "metadata": {
        "id": "GdiTbSC2J6lS",
        "outputId": "8a0d1318-7008-46e8-859b-33de1ef83dd7"
      },
      "outputs": [
        {
          "data": {
            "text/html": [
              "<div>\n",
              "<style scoped>\n",
              "    .dataframe tbody tr th:only-of-type {\n",
              "        vertical-align: middle;\n",
              "    }\n",
              "\n",
              "    .dataframe tbody tr th {\n",
              "        vertical-align: top;\n",
              "    }\n",
              "\n",
              "    .dataframe thead th {\n",
              "        text-align: right;\n",
              "    }\n",
              "</style>\n",
              "<table border=\"1\" class=\"dataframe\">\n",
              "  <thead>\n",
              "    <tr style=\"text-align: right;\">\n",
              "      <th></th>\n",
              "      <th>actual_close</th>\n",
              "      <th>target_1</th>\n",
              "      <th>target_2</th>\n",
              "      <th>close</th>\n",
              "      <th>volume</th>\n",
              "      <th>open</th>\n",
              "      <th>high</th>\n",
              "      <th>low</th>\n",
              "    </tr>\n",
              "    <tr>\n",
              "      <th>Fecha</th>\n",
              "      <th></th>\n",
              "      <th></th>\n",
              "      <th></th>\n",
              "      <th></th>\n",
              "      <th></th>\n",
              "      <th></th>\n",
              "      <th></th>\n",
              "      <th></th>\n",
              "    </tr>\n",
              "  </thead>\n",
              "  <tbody>\n",
              "    <tr>\n",
              "      <th>2019-01-08 03:00:00</th>\n",
              "      <td>3949.16</td>\n",
              "      <td>0.0</td>\n",
              "      <td>1.0</td>\n",
              "      <td>3949.16</td>\n",
              "      <td>4988.212097</td>\n",
              "      <td>3965.61</td>\n",
              "      <td>3989.00</td>\n",
              "      <td>3922.00</td>\n",
              "    </tr>\n",
              "    <tr>\n",
              "      <th>2019-01-08 07:00:00</th>\n",
              "      <td>3958.56</td>\n",
              "      <td>1.0</td>\n",
              "      <td>0.0</td>\n",
              "      <td>3958.56</td>\n",
              "      <td>4541.881427</td>\n",
              "      <td>3949.00</td>\n",
              "      <td>3965.66</td>\n",
              "      <td>3936.26</td>\n",
              "    </tr>\n",
              "    <tr>\n",
              "      <th>2019-01-08 11:00:00</th>\n",
              "      <td>3980.69</td>\n",
              "      <td>0.0</td>\n",
              "      <td>0.0</td>\n",
              "      <td>3980.69</td>\n",
              "      <td>5296.687764</td>\n",
              "      <td>3959.59</td>\n",
              "      <td>3982.25</td>\n",
              "      <td>3946.09</td>\n",
              "    </tr>\n",
              "    <tr>\n",
              "      <th>2019-01-08 15:00:00</th>\n",
              "      <td>4008.81</td>\n",
              "      <td>0.0</td>\n",
              "      <td>1.0</td>\n",
              "      <td>4008.81</td>\n",
              "      <td>8556.470955</td>\n",
              "      <td>3981.81</td>\n",
              "      <td>4039.00</td>\n",
              "      <td>3967.93</td>\n",
              "    </tr>\n",
              "    <tr>\n",
              "      <th>2019-01-08 19:00:00</th>\n",
              "      <td>3968.46</td>\n",
              "      <td>0.0</td>\n",
              "      <td>1.0</td>\n",
              "      <td>3968.46</td>\n",
              "      <td>10830.599948</td>\n",
              "      <td>4008.81</td>\n",
              "      <td>4069.80</td>\n",
              "      <td>3938.82</td>\n",
              "    </tr>\n",
              "  </tbody>\n",
              "</table>\n",
              "</div>"
            ],
            "text/plain": [
              "                     actual_close  target_1  target_2    close        volume  \\\n",
              "Fecha                                                                          \n",
              "2019-01-08 03:00:00       3949.16       0.0       1.0  3949.16   4988.212097   \n",
              "2019-01-08 07:00:00       3958.56       1.0       0.0  3958.56   4541.881427   \n",
              "2019-01-08 11:00:00       3980.69       0.0       0.0  3980.69   5296.687764   \n",
              "2019-01-08 15:00:00       4008.81       0.0       1.0  4008.81   8556.470955   \n",
              "2019-01-08 19:00:00       3968.46       0.0       1.0  3968.46  10830.599948   \n",
              "\n",
              "                        open     high      low  \n",
              "Fecha                                           \n",
              "2019-01-08 03:00:00  3965.61  3989.00  3922.00  \n",
              "2019-01-08 07:00:00  3949.00  3965.66  3936.26  \n",
              "2019-01-08 11:00:00  3959.59  3982.25  3946.09  \n",
              "2019-01-08 15:00:00  3981.81  4039.00  3967.93  \n",
              "2019-01-08 19:00:00  4008.81  4069.80  3938.82  "
            ]
          },
          "execution_count": 72,
          "metadata": {},
          "output_type": "execute_result"
        }
      ],
      "source": [
        "df_btc_prev = df_btc.copy()\n",
        "df_btc_prev = df_btc_prev.shift(1)\n",
        "df_btc_prev.dropna(inplace=True)\n",
        "df_btc_prev.head()"
      ]
    },
    {
      "cell_type": "code",
      "execution_count": null,
      "metadata": {
        "id": "oDOQdMqjJ6lS",
        "outputId": "b44b6267-1286-4611-cdf9-e4f273d051df"
      },
      "outputs": [
        {
          "data": {
            "text/plain": [
              "<AxesSubplot:xlabel='Fecha'>"
            ]
          },
          "execution_count": 73,
          "metadata": {},
          "output_type": "execute_result"
        },
        {
          "data": {
            "image/png": "[encoded data removed]",
            "text/plain": [
              "<Figure size 432x288 with 1 Axes>"
            ]
          },
          "metadata": {
            "needs_background": "light"
          },
          "output_type": "display_data"
        }
      ],
      "source": [
        "df_btc_prev.plot.line(y=\"close\", use_index=True)"
      ]
    },
    {
      "cell_type": "markdown",
      "metadata": {
        "id": "h7499IAMJ6lT"
      },
      "source": [
        "Primero veremos si nuestro dataset está balanceado, esto es, analizar si la proporción entre 1 y 0 de nuestro target esta equilibrado, dado que si el dataset no está balanceado, puede que necesitemos realizar algún tipo de procesamiento previo al entrenamiento del modelo para poder solucionar este problema, o al menos dividir correctamente las clases en entrenamiento y test para evitar este desbalanceamiento."
      ]
    },
    {
      "cell_type": "code",
      "execution_count": null,
      "metadata": {
        "id": "-B5zp2XkJ6lT",
        "outputId": "7648237c-b474-4336-d9fe-86455257d4cb"
      },
      "outputs": [
        {
          "data": {
            "text/plain": [
              "(1.0    3724\n",
              " 0.0    3522\n",
              " Name: target_1, dtype: int64,\n",
              " 7246)"
            ]
          },
          "execution_count": 74,
          "metadata": {},
          "output_type": "execute_result"
        }
      ],
      "source": [
        "df_btc_prev.target_1.value_counts(), df_btc_prev.shape[0]"
      ]
    },
    {
      "cell_type": "code",
      "execution_count": null,
      "metadata": {
        "id": "SzfFVf4-J6lT",
        "outputId": "11ff10a7-8717-47f4-db49-a3e540d91913"
      },
      "outputs": [
        {
          "data": {
            "text/plain": [
              "(1.0    3726\n",
              " 0.0    3520\n",
              " Name: target_2, dtype: int64,\n",
              " 7246)"
            ]
          },
          "execution_count": 75,
          "metadata": {},
          "output_type": "execute_result"
        }
      ],
      "source": [
        "df_btc_prev.target_2.value_counts(), df_btc_prev.shape[0]"
      ]
    },
    {
      "cell_type": "markdown",
      "metadata": {
        "id": "y6ONkkbPJ6lT"
      },
      "source": [
        "Vemos que de un total de 6884 valores, 3531 son 1 y 3353 son 0, por lo que tenemos un dataset muy bien balanceado y no es necesario hacer algun procesamiento previo al entrenamiento del modelo. Vamos a entrenar dos modelos de clasificación y compararemos las métricas, uno es RandomForest y el otro es XGBoost."
      ]
    },
    {
      "cell_type": "code",
      "execution_count": null,
      "metadata": {
        "id": "qB7WT2ZbJ6lT"
      },
      "outputs": [],
      "source": [
        "random_forest = RandomForestClassifier(n_estimators=100, min_samples_split=200, random_state=42)\n",
        "xgboost = xgb.XGBClassifier()"
      ]
    },
    {
      "cell_type": "markdown",
      "metadata": {
        "id": "pGD05EhqJ6lU"
      },
      "source": [
        "Como generamos muchas columnas, vamos a usar unicamente las que pertenecen a 5 períodos de análisis."
      ]
    },
    {
      "cell_type": "markdown",
      "metadata": {
        "id": "KNO-AwYrJ6lU"
      },
      "source": [
        "Luego generamos una variable \"predictors\" que contiene las features que usaremos para entrenar nuestro modelo, sin la variable target. Y para una primera iteración, entrenaremos un modelo con los últimos 100 datos del dataset."
      ]
    },
    {
      "cell_type": "code",
      "execution_count": null,
      "metadata": {
        "id": "jq0vlbukJ6lU"
      },
      "outputs": [],
      "source": [
        "train = df_btc_bl.iloc[:-1400]\n",
        "test = df_btc_bl.iloc[-1400:]"
      ]
    },
    {
      "cell_type": "markdown",
      "metadata": {
        "id": "a3JtUepKJ6lU"
      },
      "source": [
        "Predicciones a 6 periodos:"
      ]
    },
    {
      "cell_type": "code",
      "execution_count": null,
      "metadata": {
        "id": "-qEhBNy0J6lU"
      },
      "outputs": [],
      "source": [
        "predictors=['close', 'volume', 'open', 'high', 'low']"
      ]
    },
    {
      "cell_type": "code",
      "execution_count": null,
      "metadata": {
        "id": "CjWTdbVqJ6lU",
        "outputId": "67242427-31b7-4a2b-f061-242363073987"
      },
      "outputs": [
        {
          "data": {
            "text/plain": [
              "0.49455337690631807"
            ]
          },
          "execution_count": 79,
          "metadata": {},
          "output_type": "execute_result"
        }
      ],
      "source": [
        "random_forest.fit(train[predictors], train[\"target_1\"])\n",
        "preds = random_forest.predict(test[predictors])\n",
        "preds = pd.Series(preds, index=test.index)\n",
        "precision_score(test[\"target_1\"], preds)"
      ]
    },
    {
      "cell_type": "code",
      "execution_count": null,
      "metadata": {
        "id": "a3gclcB8J6lU",
        "outputId": "6771f4be-cdfb-49b9-bfc6-116a5a1ccbd6"
      },
      "outputs": [
        {
          "data": {
            "text/plain": [
              "0.49189814814814814"
            ]
          },
          "execution_count": 80,
          "metadata": {},
          "output_type": "execute_result"
        }
      ],
      "source": [
        "xgboost.fit(train[predictors], train[\"target_1\"])\n",
        "preds = xgboost.predict(test[predictors])\n",
        "preds = pd.Series(preds, index=test.index)\n",
        "precision_score(test[\"target_1\"], preds)"
      ]
    },
    {
      "cell_type": "markdown",
      "metadata": {
        "id": "jaWgXX9KJ6lV"
      },
      "source": [
        "Predicciones a 42 periodos:"
      ]
    },
    {
      "cell_type": "code",
      "execution_count": null,
      "metadata": {
        "id": "2pQ2kivNJ6lV",
        "outputId": "db831039-ad91-4738-c63e-a898264a452e"
      },
      "outputs": [
        {
          "data": {
            "text/plain": [
              "0.4897435897435897"
            ]
          },
          "execution_count": 81,
          "metadata": {},
          "output_type": "execute_result"
        }
      ],
      "source": [
        "random_forest.fit(train[predictors], train[\"target_2\"])\n",
        "preds = random_forest.predict(test[predictors])\n",
        "preds = pd.Series(preds, index=test.index)\n",
        "precision_score(test[\"target_2\"], preds)"
      ]
    },
    {
      "cell_type": "code",
      "execution_count": null,
      "metadata": {
        "id": "qn__UrP4J6lV",
        "outputId": "3edcdc37-9703-4621-ca97-b63e19b29f6c"
      },
      "outputs": [
        {
          "data": {
            "text/plain": [
              "0.48534201954397393"
            ]
          },
          "execution_count": 82,
          "metadata": {},
          "output_type": "execute_result"
        }
      ],
      "source": [
        "xgboost.fit(train[predictors], train[\"target_2\"])\n",
        "preds = xgboost.predict(test[predictors])\n",
        "preds = pd.Series(preds, index=test.index)\n",
        "precision_score(test[\"target_2\"], preds)"
      ]
    },
    {
      "cell_type": "markdown",
      "metadata": {
        "id": "pmA-7wKkJ6lV"
      },
      "source": [
        "#### Agregamos indicadores técnicos para usarlos como features"
      ]
    },
    {
      "cell_type": "code",
      "execution_count": null,
      "metadata": {
        "id": "42cYAYAtJ6lV",
        "outputId": "f0d84e1f-6074-4a85-d9df-e82fb2d6d864"
      },
      "outputs": [
        {
          "data": {
            "text/html": [
              "<div>\n",
              "<style scoped>\n",
              "    .dataframe tbody tr th:only-of-type {\n",
              "        vertical-align: middle;\n",
              "    }\n",
              "\n",
              "    .dataframe tbody tr th {\n",
              "        vertical-align: top;\n",
              "    }\n",
              "\n",
              "    .dataframe thead th {\n",
              "        text-align: right;\n",
              "    }\n",
              "</style>\n",
              "<table border=\"1\" class=\"dataframe\">\n",
              "  <thead>\n",
              "    <tr style=\"text-align: right;\">\n",
              "      <th></th>\n",
              "      <th>actual_close</th>\n",
              "      <th>target_1</th>\n",
              "      <th>target_2</th>\n",
              "      <th>close</th>\n",
              "      <th>volume</th>\n",
              "      <th>open</th>\n",
              "      <th>high</th>\n",
              "      <th>low</th>\n",
              "      <th>active</th>\n",
              "      <th>EMA6</th>\n",
              "      <th>...</th>\n",
              "      <th>ADX50</th>\n",
              "      <th>EMA100</th>\n",
              "      <th>RSI100</th>\n",
              "      <th>ADX100</th>\n",
              "      <th>EMA200</th>\n",
              "      <th>RSI200</th>\n",
              "      <th>ADX200</th>\n",
              "      <th>STOCH_SLOWK</th>\n",
              "      <th>STOCH_SLOWD</th>\n",
              "      <th>MACD</th>\n",
              "    </tr>\n",
              "    <tr>\n",
              "      <th>Fecha</th>\n",
              "      <th></th>\n",
              "      <th></th>\n",
              "      <th></th>\n",
              "      <th></th>\n",
              "      <th></th>\n",
              "      <th></th>\n",
              "      <th></th>\n",
              "      <th></th>\n",
              "      <th></th>\n",
              "      <th></th>\n",
              "      <th></th>\n",
              "      <th></th>\n",
              "      <th></th>\n",
              "      <th></th>\n",
              "      <th></th>\n",
              "      <th></th>\n",
              "      <th></th>\n",
              "      <th></th>\n",
              "      <th></th>\n",
              "      <th></th>\n",
              "      <th></th>\n",
              "    </tr>\n",
              "  </thead>\n",
              "  <tbody>\n",
              "    <tr>\n",
              "      <th>2019-01-07 23:00:00</th>\n",
              "      <td>3949.16</td>\n",
              "      <td>0.0</td>\n",
              "      <td>1.0</td>\n",
              "      <td>3949.16</td>\n",
              "      <td>4988.212097</td>\n",
              "      <td>3965.61</td>\n",
              "      <td>3989.00</td>\n",
              "      <td>3922.00</td>\n",
              "      <td>BTCUSDT</td>\n",
              "      <td>NaN</td>\n",
              "      <td>...</td>\n",
              "      <td>NaN</td>\n",
              "      <td>NaN</td>\n",
              "      <td>NaN</td>\n",
              "      <td>NaN</td>\n",
              "      <td>NaN</td>\n",
              "      <td>NaN</td>\n",
              "      <td>NaN</td>\n",
              "      <td>NaN</td>\n",
              "      <td>NaN</td>\n",
              "      <td>NaN</td>\n",
              "    </tr>\n",
              "    <tr>\n",
              "      <th>2019-01-08 03:00:00</th>\n",
              "      <td>3958.56</td>\n",
              "      <td>1.0</td>\n",
              "      <td>0.0</td>\n",
              "      <td>3958.56</td>\n",
              "      <td>4541.881427</td>\n",
              "      <td>3949.00</td>\n",
              "      <td>3965.66</td>\n",
              "      <td>3936.26</td>\n",
              "      <td>BTCUSDT</td>\n",
              "      <td>NaN</td>\n",
              "      <td>...</td>\n",
              "      <td>NaN</td>\n",
              "      <td>NaN</td>\n",
              "      <td>NaN</td>\n",
              "      <td>NaN</td>\n",
              "      <td>NaN</td>\n",
              "      <td>NaN</td>\n",
              "      <td>NaN</td>\n",
              "      <td>NaN</td>\n",
              "      <td>NaN</td>\n",
              "      <td>NaN</td>\n",
              "    </tr>\n",
              "    <tr>\n",
              "      <th>2019-01-08 07:00:00</th>\n",
              "      <td>3980.69</td>\n",
              "      <td>0.0</td>\n",
              "      <td>0.0</td>\n",
              "      <td>3980.69</td>\n",
              "      <td>5296.687764</td>\n",
              "      <td>3959.59</td>\n",
              "      <td>3982.25</td>\n",
              "      <td>3946.09</td>\n",
              "      <td>BTCUSDT</td>\n",
              "      <td>NaN</td>\n",
              "      <td>...</td>\n",
              "      <td>NaN</td>\n",
              "      <td>NaN</td>\n",
              "      <td>NaN</td>\n",
              "      <td>NaN</td>\n",
              "      <td>NaN</td>\n",
              "      <td>NaN</td>\n",
              "      <td>NaN</td>\n",
              "      <td>NaN</td>\n",
              "      <td>NaN</td>\n",
              "      <td>NaN</td>\n",
              "    </tr>\n",
              "    <tr>\n",
              "      <th>2019-01-08 11:00:00</th>\n",
              "      <td>4008.81</td>\n",
              "      <td>0.0</td>\n",
              "      <td>1.0</td>\n",
              "      <td>4008.81</td>\n",
              "      <td>8556.470955</td>\n",
              "      <td>3981.81</td>\n",
              "      <td>4039.00</td>\n",
              "      <td>3967.93</td>\n",
              "      <td>BTCUSDT</td>\n",
              "      <td>NaN</td>\n",
              "      <td>...</td>\n",
              "      <td>NaN</td>\n",
              "      <td>NaN</td>\n",
              "      <td>NaN</td>\n",
              "      <td>NaN</td>\n",
              "      <td>NaN</td>\n",
              "      <td>NaN</td>\n",
              "      <td>NaN</td>\n",
              "      <td>NaN</td>\n",
              "      <td>NaN</td>\n",
              "      <td>NaN</td>\n",
              "    </tr>\n",
              "    <tr>\n",
              "      <th>2019-01-08 15:00:00</th>\n",
              "      <td>3968.46</td>\n",
              "      <td>0.0</td>\n",
              "      <td>1.0</td>\n",
              "      <td>3968.46</td>\n",
              "      <td>10830.599948</td>\n",
              "      <td>4008.81</td>\n",
              "      <td>4069.80</td>\n",
              "      <td>3938.82</td>\n",
              "      <td>BTCUSDT</td>\n",
              "      <td>NaN</td>\n",
              "      <td>...</td>\n",
              "      <td>NaN</td>\n",
              "      <td>NaN</td>\n",
              "      <td>NaN</td>\n",
              "      <td>NaN</td>\n",
              "      <td>NaN</td>\n",
              "      <td>NaN</td>\n",
              "      <td>NaN</td>\n",
              "      <td>NaN</td>\n",
              "      <td>NaN</td>\n",
              "      <td>NaN</td>\n",
              "    </tr>\n",
              "    <tr>\n",
              "      <th>...</th>\n",
              "      <td>...</td>\n",
              "      <td>...</td>\n",
              "      <td>...</td>\n",
              "      <td>...</td>\n",
              "      <td>...</td>\n",
              "      <td>...</td>\n",
              "      <td>...</td>\n",
              "      <td>...</td>\n",
              "      <td>...</td>\n",
              "      <td>...</td>\n",
              "      <td>...</td>\n",
              "      <td>...</td>\n",
              "      <td>...</td>\n",
              "      <td>...</td>\n",
              "      <td>...</td>\n",
              "      <td>...</td>\n",
              "      <td>...</td>\n",
              "      <td>...</td>\n",
              "      <td>...</td>\n",
              "      <td>...</td>\n",
              "      <td>...</td>\n",
              "    </tr>\n",
              "    <tr>\n",
              "      <th>2022-05-01 19:00:00</th>\n",
              "      <td>38306.63</td>\n",
              "      <td>1.0</td>\n",
              "      <td>0.0</td>\n",
              "      <td>38306.63</td>\n",
              "      <td>8032.850330</td>\n",
              "      <td>37934.90</td>\n",
              "      <td>38574.50</td>\n",
              "      <td>37686.26</td>\n",
              "      <td>BTCUSDT</td>\n",
              "      <td>38122.160672</td>\n",
              "      <td>...</td>\n",
              "      <td>15.307909</td>\n",
              "      <td>39817.838735</td>\n",
              "      <td>45.765216</td>\n",
              "      <td>8.805959</td>\n",
              "      <td>40762.199218</td>\n",
              "      <td>47.487617</td>\n",
              "      <td>4.949401</td>\n",
              "      <td>53.222672</td>\n",
              "      <td>51.194825</td>\n",
              "      <td>-345.127995</td>\n",
              "    </tr>\n",
              "    <tr>\n",
              "      <th>2022-05-01 23:00:00</th>\n",
              "      <td>38621.62</td>\n",
              "      <td>1.0</td>\n",
              "      <td>0.0</td>\n",
              "      <td>38621.62</td>\n",
              "      <td>7203.268160</td>\n",
              "      <td>38306.63</td>\n",
              "      <td>38810.73</td>\n",
              "      <td>38241.37</td>\n",
              "      <td>BTCUSDT</td>\n",
              "      <td>38264.863337</td>\n",
              "      <td>...</td>\n",
              "      <td>15.345128</td>\n",
              "      <td>39794.151235</td>\n",
              "      <td>46.349475</td>\n",
              "      <td>8.838651</td>\n",
              "      <td>40740.899923</td>\n",
              "      <td>47.746032</td>\n",
              "      <td>4.955755</td>\n",
              "      <td>62.831011</td>\n",
              "      <td>55.263596</td>\n",
              "      <td>-291.402236</td>\n",
              "    </tr>\n",
              "    <tr>\n",
              "      <th>2022-05-02 03:00:00</th>\n",
              "      <td>38926.11</td>\n",
              "      <td>0.0</td>\n",
              "      <td>1.0</td>\n",
              "      <td>38926.11</td>\n",
              "      <td>6201.491270</td>\n",
              "      <td>38621.62</td>\n",
              "      <td>39167.34</td>\n",
              "      <td>38600.03</td>\n",
              "      <td>BTCUSDT</td>\n",
              "      <td>38453.790955</td>\n",
              "      <td>...</td>\n",
              "      <td>15.320048</td>\n",
              "      <td>39776.962300</td>\n",
              "      <td>46.907944</td>\n",
              "      <td>8.856950</td>\n",
              "      <td>40722.842311</td>\n",
              "      <td>47.994663</td>\n",
              "      <td>4.959005</td>\n",
              "      <td>76.546117</td>\n",
              "      <td>64.199934</td>\n",
              "      <td>-221.698782</td>\n",
              "    </tr>\n",
              "    <tr>\n",
              "      <th>2022-05-02 07:00:00</th>\n",
              "      <td>38711.88</td>\n",
              "      <td>0.0</td>\n",
              "      <td>1.0</td>\n",
              "      <td>38711.88</td>\n",
              "      <td>5720.219020</td>\n",
              "      <td>38926.11</td>\n",
              "      <td>39075.00</td>\n",
              "      <td>38653.77</td>\n",
              "      <td>BTCUSDT</td>\n",
              "      <td>38527.530682</td>\n",
              "      <td>...</td>\n",
              "      <td>15.295469</td>\n",
              "      <td>39755.871561</td>\n",
              "      <td>46.563481</td>\n",
              "      <td>8.875066</td>\n",
              "      <td>40702.832736</td>\n",
              "      <td>47.833726</td>\n",
              "      <td>4.962240</td>\n",
              "      <td>78.714326</td>\n",
              "      <td>72.697151</td>\n",
              "      <td>-181.650904</td>\n",
              "    </tr>\n",
              "    <tr>\n",
              "      <th>2022-05-02 11:00:00</th>\n",
              "      <td>38840.00</td>\n",
              "      <td>1.0</td>\n",
              "      <td>1.0</td>\n",
              "      <td>38840.00</td>\n",
              "      <td>17455.535980</td>\n",
              "      <td>38711.87</td>\n",
              "      <td>39155.47</td>\n",
              "      <td>38242.51</td>\n",
              "      <td>BTCUSDT</td>\n",
              "      <td>38616.807630</td>\n",
              "      <td>...</td>\n",
              "      <td>15.323919</td>\n",
              "      <td>39737.735491</td>\n",
              "      <td>46.799482</td>\n",
              "      <td>8.906002</td>\n",
              "      <td>40684.297087</td>\n",
              "      <td>47.938654</td>\n",
              "      <td>4.968616</td>\n",
              "      <td>76.953079</td>\n",
              "      <td>77.404507</td>\n",
              "      <td>-137.983866</td>\n",
              "    </tr>\n",
              "  </tbody>\n",
              "</table>\n",
              "<p>7247 rows × 30 columns</p>\n",
              "</div>"
            ],
            "text/plain": [
              "                     actual_close  target_1  target_2     close        volume  \\\n",
              "Fecha                                                                           \n",
              "2019-01-07 23:00:00       3949.16       0.0       1.0   3949.16   4988.212097   \n",
              "2019-01-08 03:00:00       3958.56       1.0       0.0   3958.56   4541.881427   \n",
              "2019-01-08 07:00:00       3980.69       0.0       0.0   3980.69   5296.687764   \n",
              "2019-01-08 11:00:00       4008.81       0.0       1.0   4008.81   8556.470955   \n",
              "2019-01-08 15:00:00       3968.46       0.0       1.0   3968.46  10830.599948   \n",
              "...                           ...       ...       ...       ...           ...   \n",
              "2022-05-01 19:00:00      38306.63       1.0       0.0  38306.63   8032.850330   \n",
              "2022-05-01 23:00:00      38621.62       1.0       0.0  38621.62   7203.268160   \n",
              "2022-05-02 03:00:00      38926.11       0.0       1.0  38926.11   6201.491270   \n",
              "2022-05-02 07:00:00      38711.88       0.0       1.0  38711.88   5720.219020   \n",
              "2022-05-02 11:00:00      38840.00       1.0       1.0  38840.00  17455.535980   \n",
              "\n",
              "                         open      high       low   active          EMA6  ...  \\\n",
              "Fecha                                                                     ...   \n",
              "2019-01-07 23:00:00   3965.61   3989.00   3922.00  BTCUSDT           NaN  ...   \n",
              "2019-01-08 03:00:00   3949.00   3965.66   3936.26  BTCUSDT           NaN  ...   \n",
              "2019-01-08 07:00:00   3959.59   3982.25   3946.09  BTCUSDT           NaN  ...   \n",
              "2019-01-08 11:00:00   3981.81   4039.00   3967.93  BTCUSDT           NaN  ...   \n",
              "2019-01-08 15:00:00   4008.81   4069.80   3938.82  BTCUSDT           NaN  ...   \n",
              "...                       ...       ...       ...      ...           ...  ...   \n",
              "2022-05-01 19:00:00  37934.90  38574.50  37686.26  BTCUSDT  38122.160672  ...   \n",
              "2022-05-01 23:00:00  38306.63  38810.73  38241.37  BTCUSDT  38264.863337  ...   \n",
              "2022-05-02 03:00:00  38621.62  39167.34  38600.03  BTCUSDT  38453.790955  ...   \n",
              "2022-05-02 07:00:00  38926.11  39075.00  38653.77  BTCUSDT  38527.530682  ...   \n",
              "2022-05-02 11:00:00  38711.87  39155.47  38242.51  BTCUSDT  38616.807630  ...   \n",
              "\n",
              "                         ADX50        EMA100     RSI100    ADX100  \\\n",
              "Fecha                                                               \n",
              "2019-01-07 23:00:00        NaN           NaN        NaN       NaN   \n",
              "2019-01-08 03:00:00        NaN           NaN        NaN       NaN   \n",
              "2019-01-08 07:00:00        NaN           NaN        NaN       NaN   \n",
              "2019-01-08 11:00:00        NaN           NaN        NaN       NaN   \n",
              "2019-01-08 15:00:00        NaN           NaN        NaN       NaN   \n",
              "...                        ...           ...        ...       ...   \n",
              "2022-05-01 19:00:00  15.307909  39817.838735  45.765216  8.805959   \n",
              "2022-05-01 23:00:00  15.345128  39794.151235  46.349475  8.838651   \n",
              "2022-05-02 03:00:00  15.320048  39776.962300  46.907944  8.856950   \n",
              "2022-05-02 07:00:00  15.295469  39755.871561  46.563481  8.875066   \n",
              "2022-05-02 11:00:00  15.323919  39737.735491  46.799482  8.906002   \n",
              "\n",
              "                           EMA200     RSI200    ADX200  STOCH_SLOWK  \\\n",
              "Fecha                                                                 \n",
              "2019-01-07 23:00:00           NaN        NaN       NaN          NaN   \n",
              "2019-01-08 03:00:00           NaN        NaN       NaN          NaN   \n",
              "2019-01-08 07:00:00           NaN        NaN       NaN          NaN   \n",
              "2019-01-08 11:00:00           NaN        NaN       NaN          NaN   \n",
              "2019-01-08 15:00:00           NaN        NaN       NaN          NaN   \n",
              "...                           ...        ...       ...          ...   \n",
              "2022-05-01 19:00:00  40762.199218  47.487617  4.949401    53.222672   \n",
              "2022-05-01 23:00:00  40740.899923  47.746032  4.955755    62.831011   \n",
              "2022-05-02 03:00:00  40722.842311  47.994663  4.959005    76.546117   \n",
              "2022-05-02 07:00:00  40702.832736  47.833726  4.962240    78.714326   \n",
              "2022-05-02 11:00:00  40684.297087  47.938654  4.968616    76.953079   \n",
              "\n",
              "                     STOCH_SLOWD        MACD  \n",
              "Fecha                                         \n",
              "2019-01-07 23:00:00          NaN         NaN  \n",
              "2019-01-08 03:00:00          NaN         NaN  \n",
              "2019-01-08 07:00:00          NaN         NaN  \n",
              "2019-01-08 11:00:00          NaN         NaN  \n",
              "2019-01-08 15:00:00          NaN         NaN  \n",
              "...                          ...         ...  \n",
              "2022-05-01 19:00:00    51.194825 -345.127995  \n",
              "2022-05-01 23:00:00    55.263596 -291.402236  \n",
              "2022-05-02 03:00:00    64.199934 -221.698782  \n",
              "2022-05-02 07:00:00    72.697151 -181.650904  \n",
              "2022-05-02 11:00:00    77.404507 -137.983866  \n",
              "\n",
              "[7247 rows x 30 columns]"
            ]
          },
          "execution_count": 83,
          "metadata": {},
          "output_type": "execute_result"
        }
      ],
      "source": [
        "df_btc_exp = df_btc.copy()\n",
        "df_btc_exp['active'] = 'BTCUSDT'\n",
        "periodos = [6, 15, 20, 50, 100, 200]\n",
        "for i in periodos:\n",
        "    EMAi = \"EMA\" + str(i)\n",
        "    RSIi = \"RSI\" + str(i)\n",
        "    ADXi = \"ADX\" + str(i)\n",
        "    df_btc_exp[EMAi] = EMA(df_btc_exp, i, \"BTCUSDT\")\n",
        "    df_btc_exp[RSIi] = RSI(df_btc_exp, i, \"BTCUSDT\")\n",
        "    df_btc_exp[ADXi] = ADX(df_btc_exp, i, \"BTCUSDT\")\n",
        "\n",
        "df_btc_exp['STOCH_SLOWK'], df_btc_exp['STOCH_SLOWD'] = STOCH(df_btc_exp, 'BTCUSDT')\n",
        "df_btc_exp['MACD'] = MACD(df_btc_exp, 'BTCUSDT')\n",
        "df_btc_exp"
      ]
    },
    {
      "cell_type": "markdown",
      "metadata": {
        "id": "7ZHC5SVgJ6lW"
      },
      "source": [
        "Voy a agregar el calculo de las medias simples de 5 y 15 períodos también tanto para el precio de cierre como para el volumen operado, y a su vez el ratio que existe entre éstas."
      ]
    },
    {
      "cell_type": "code",
      "execution_count": null,
      "metadata": {
        "id": "MZnBztqwJ6lW"
      },
      "outputs": [],
      "source": [
        "df_btc_exp['SMA_5'] = df_btc_exp.groupby('active')['close'].transform(lambda x: x.rolling(window = 5).mean())\n",
        "df_btc_exp['SMA_15'] = df_btc_exp.groupby('active')['close'].transform(lambda x: x.rolling(window = 15).mean())\n",
        "df_btc_exp['SMA_ratio'] = df_btc_exp['SMA_15'] / df_btc_exp['SMA_5']"
      ]
    },
    {
      "cell_type": "code",
      "execution_count": null,
      "metadata": {
        "id": "o0g99HQnJ6lW"
      },
      "outputs": [],
      "source": [
        "df_btc_exp['SMA5_Volume'] = df_btc_exp.groupby('active')['volume'].transform(lambda x: x.rolling(window = 5).mean())\n",
        "df_btc_exp['SMA15_Volume'] = df_btc_exp.groupby('active')['volume'].transform(lambda x: x.rolling(window = 15).mean())\n",
        "df_btc_exp['SMA_Volume_Ratio'] = df_btc_exp['SMA5_Volume']/df_btc_exp['SMA15_Volume']"
      ]
    },
    {
      "cell_type": "code",
      "execution_count": null,
      "metadata": {
        "id": "7tM5hxnLJ6lW"
      },
      "outputs": [],
      "source": [
        "df_btc_exp.dropna(inplace=True)"
      ]
    },
    {
      "cell_type": "markdown",
      "metadata": {
        "id": "yZg1kNFqJ6lW"
      },
      "source": [
        "Una vez que tenemos nuestras features calculadas, usaremos el parámetro feature_importance del modelo RandomForest para identificar cuales son nuestros features que mejor ayudan a predecir nuestro target."
      ]
    },
    {
      "cell_type": "code",
      "execution_count": null,
      "metadata": {
        "id": "A14vZQSpJ6lW"
      },
      "outputs": [],
      "source": [
        "predictors = ['close', 'volume', 'open',\n",
        "       'high', 'low', 'EMA6', 'RSI6', 'ADX6', 'EMA15', 'RSI15',\n",
        "       'ADX15', 'EMA20', 'RSI20', 'ADX20', 'EMA50', 'RSI50', 'ADX50', 'EMA100',\n",
        "       'RSI100', 'ADX100', 'EMA200', 'RSI200', 'ADX200', 'SMA_5', 'SMA_15',\n",
        "       'SMA_ratio', 'SMA5_Volume', 'SMA15_Volume', 'SMA_Volume_Ratio','STOCH_SLOWK',\n",
        "       'STOCH_SLOWD', 'MACD']\n",
        "#Dividimos nuevamente en train y test\n",
        "train = df_btc_exp.iloc[:-1400]\n",
        "test = df_btc_exp.iloc[-1400:]"
      ]
    },
    {
      "cell_type": "markdown",
      "metadata": {
        "id": "-rlglWNVJ6lX"
      },
      "source": [
        "Primero intetaremos hacer nuestras predicciones a 1 día (6 períodos) y veremos como resulta cada uno de los modelos."
      ]
    },
    {
      "cell_type": "code",
      "execution_count": null,
      "metadata": {
        "tags": [],
        "id": "VdHHo4XnJ6lX",
        "outputId": "1dc3d607-3bf0-47c6-c131-a1ae37eedbcf"
      },
      "outputs": [
        {
          "name": "stdout",
          "output_type": "stream",
          "text": [
            " 1 STOCH_SLOWD                    0.26\n",
            " 2 SMA_ratio                      0.15\n",
            " 3 STOCH_SLOWK                    0.10\n",
            " 4 RSI6                           0.06\n",
            " 5 SMA_Volume_Ratio               0.05\n",
            " 6 RSI15                          0.05\n",
            " 7 RSI20                          0.03\n",
            " 8 MACD                           0.02\n",
            " 9 ADX6                           0.02\n",
            "10 volume                         0.02\n"
          ]
        }
      ],
      "source": [
        "treshold = 0.02\n",
        "\n",
        "forest = RandomForestClassifier(n_estimators=100, min_samples_split=200, random_state=42)\n",
        "forest.fit(train[predictors], train[\"target_1\"])\n",
        "\n",
        "importances = forest.feature_importances_\n",
        "indexes = np.argsort(importances)[::-1]\n",
        "\n",
        "columns_rf = []\n",
        "\n",
        "for i,f in enumerate(indexes):\n",
        "    importance = importances[f]\n",
        "    if importance >= treshold:\n",
        "        column = train[predictors].columns[f]\n",
        "        columns_rf.append(column)\n",
        "        print(\"{0:2} {1:30} {2:.2f}\".format(i+1,column,importances[f]))"
      ]
    },
    {
      "cell_type": "code",
      "execution_count": null,
      "metadata": {
        "id": "92RkNgFjJ6lX",
        "outputId": "09bd637a-477f-4a28-8331-61b95b2bcee7"
      },
      "outputs": [
        {
          "name": "stdout",
          "output_type": "stream",
          "text": [
            " 1 STOCH_SLOWD                    0.09\n",
            " 2 STOCH_SLOWK                    0.04\n",
            " 3 SMA_ratio                      0.04\n",
            " 4 EMA200                         0.04\n",
            " 5 SMA_Volume_Ratio               0.03\n",
            " 6 RSI15                          0.03\n",
            " 7 RSI20                          0.03\n",
            " 8 EMA50                          0.03\n",
            " 9 RSI50                          0.03\n",
            "10 RSI6                           0.03\n"
          ]
        }
      ],
      "source": [
        "treshold = 0.03\n",
        "\n",
        "forest = RandomForestClassifier(n_estimators=100, min_samples_split=200, random_state=42)\n",
        "xgboost.fit(train[predictors], train[\"target_1\"])\n",
        "\n",
        "importances = xgboost.feature_importances_\n",
        "indexes = np.argsort(importances)[::-1]\n",
        "\n",
        "columns_xgb = []\n",
        "\n",
        "for i,f in enumerate(indexes):\n",
        "    importance = importances[f]\n",
        "    if importance >= treshold:\n",
        "        column = train[predictors].columns[f]\n",
        "        columns_xgb.append(column)\n",
        "        print(\"{0:2} {1:30} {2:.2f}\".format(i+1,column,importances[f]))"
      ]
    },
    {
      "cell_type": "markdown",
      "metadata": {
        "id": "PCl5EDbiJ6lX"
      },
      "source": [
        "Probamos primero con las features importances del random forest:"
      ]
    },
    {
      "cell_type": "code",
      "execution_count": null,
      "metadata": {
        "id": "30-VBrGNJ6lX"
      },
      "outputs": [],
      "source": [
        "random_forest.fit(train[columns_rf], train[\"target_1\"])\n",
        "preds = random_forest.predict(test[columns_rf])\n",
        "preds = pd.Series(preds, index=test.index)"
      ]
    },
    {
      "cell_type": "code",
      "execution_count": null,
      "metadata": {
        "id": "zy2SVGVCJ6lX",
        "outputId": "ef0d33c2-729a-4ddc-ad55-b277bb56dfa9"
      },
      "outputs": [
        {
          "name": "stdout",
          "output_type": "stream",
          "text": [
            "Precision del Modelo RandomForest:  0.6496913580246914\n",
            "Accuracy del Modelo RandomForest:  0.6492857142857142\n",
            "Recall del Modelo RandomForest:  0.6145985401459854\n",
            "F1 del Modelo RandomForest:  0.6316579144786196\n"
          ]
        }
      ],
      "source": [
        "print('Precision del Modelo RandomForest: ',\n",
        "precision_score(test[\"target_1\"], preds))\n",
        "print('Accuracy del Modelo RandomForest: ',\n",
        "accuracy_score(test[\"target_1\"], preds))\n",
        "print('Recall del Modelo RandomForest: ',\n",
        "recall_score(test[\"target_1\"], preds))\n",
        "print('F1 del Modelo RandomForest: ',\n",
        "f1_score(test[\"target_1\"], preds))"
      ]
    },
    {
      "cell_type": "markdown",
      "metadata": {
        "id": "50ciRIfGJ6lY"
      },
      "source": [
        "Y ahora con las del xgboost:"
      ]
    },
    {
      "cell_type": "code",
      "execution_count": null,
      "metadata": {
        "id": "7SKUEvdMJ6lY"
      },
      "outputs": [],
      "source": [
        "xgboost.fit(train[columns_xgb], train[\"target_1\"])\n",
        "preds = xgboost.predict(test[columns_xgb])\n",
        "preds = pd.Series(preds, index=test.index)"
      ]
    },
    {
      "cell_type": "code",
      "execution_count": null,
      "metadata": {
        "id": "ssD4xasaJ6lY",
        "outputId": "c55124d8-0ec2-45d7-e20b-1e88abc61d22"
      },
      "outputs": [
        {
          "name": "stdout",
          "output_type": "stream",
          "text": [
            "Precision del Modelo XGBoost:  0.6176911544227887\n",
            "Accuracy del Modelo XGBoost:  0.6228571428571429\n",
            "Recall del Modelo XGBoost:  0.6014598540145986\n",
            "F1 del Modelo XGBoost:  0.6094674556213018\n"
          ]
        }
      ],
      "source": [
        "print('Precision del Modelo XGBoost: ',\n",
        "precision_score(test[\"target_1\"], preds))\n",
        "print('Accuracy del Modelo XGBoost: ',\n",
        "accuracy_score(test[\"target_1\"], preds))\n",
        "print('Recall del Modelo XGBoost: ',\n",
        "recall_score(test[\"target_1\"], preds))\n",
        "print('F1 del Modelo XGBoost: ',\n",
        "f1_score(test[\"target_1\"], preds))"
      ]
    },
    {
      "cell_type": "markdown",
      "metadata": {
        "id": "Hzs9WyUiJ6lY"
      },
      "source": [
        "Ahora veremos a 42 periodos:"
      ]
    },
    {
      "cell_type": "code",
      "execution_count": null,
      "metadata": {
        "tags": [],
        "id": "87ymWE0VJ6lY",
        "outputId": "749d88b5-2604-4705-fd6c-b5bcf53b6c79"
      },
      "outputs": [
        {
          "name": "stdout",
          "output_type": "stream",
          "text": [
            " 1 RSI200                         0.05\n",
            " 2 SMA_Volume_Ratio               0.05\n",
            " 3 RSI100                         0.05\n",
            " 4 volume                         0.05\n",
            " 5 RSI50                          0.05\n",
            " 6 STOCH_SLOWK                    0.04\n",
            " 7 ADX6                           0.04\n",
            " 8 STOCH_SLOWD                    0.04\n",
            " 9 SMA_ratio                      0.04\n",
            "10 MACD                           0.04\n",
            "11 ADX50                          0.04\n",
            "12 RSI15                          0.04\n",
            "13 SMA15_Volume                   0.04\n",
            "14 ADX15                          0.03\n",
            "15 RSI20                          0.03\n",
            "16 ADX20                          0.03\n",
            "17 RSI6                           0.03\n",
            "18 ADX100                         0.03\n"
          ]
        }
      ],
      "source": [
        "treshold = 0.03\n",
        "\n",
        "forest = RandomForestClassifier(n_estimators=100, min_samples_split=200, random_state=42)\n",
        "forest.fit(train[predictors], train[\"target_2\"])\n",
        "\n",
        "importances = forest.feature_importances_\n",
        "indexes = np.argsort(importances)[::-1]\n",
        "\n",
        "columns_rf_2 = []\n",
        "\n",
        "for i,f in enumerate(indexes):\n",
        "    importance = importances[f]\n",
        "    if importance >= treshold:\n",
        "        column = train[predictors].columns[f]\n",
        "        columns_rf_2.append(column)\n",
        "        print(\"{0:2} {1:30} {2:.2f}\".format(i+1,column,importances[f]))"
      ]
    },
    {
      "cell_type": "code",
      "execution_count": null,
      "metadata": {
        "id": "nI9AR6rXJ6lZ"
      },
      "outputs": [],
      "source": [
        "random_forest.fit(train[columns_rf_2], train[\"target_2\"])\n",
        "preds = random_forest.predict(test[columns_rf_2])\n",
        "preds = pd.Series(preds, index=test.index)"
      ]
    },
    {
      "cell_type": "code",
      "execution_count": null,
      "metadata": {
        "id": "OxRySS9lJ6lZ",
        "outputId": "191d4ba3-6ae8-4dcf-c5f9-491add3cc13a"
      },
      "outputs": [
        {
          "name": "stdout",
          "output_type": "stream",
          "text": [
            "Precision del Modelo RandomForest:  0.5015974440894568\n",
            "Accuracy del Modelo RandomForest:  0.5114285714285715\n",
            "Recall del Modelo RandomForest:  0.4577259475218659\n",
            "F1 del Modelo RandomForest:  0.47865853658536583\n"
          ]
        }
      ],
      "source": [
        "print('Precision del Modelo RandomForest: ',\n",
        "precision_score(test[\"target_2\"], preds))\n",
        "print('Accuracy del Modelo RandomForest: ',\n",
        "accuracy_score(test[\"target_2\"], preds))\n",
        "print('Recall del Modelo RandomForest: ',\n",
        "recall_score(test[\"target_2\"], preds))\n",
        "print('F1 del Modelo RandomForest: ',\n",
        "f1_score(test[\"target_2\"], preds))"
      ]
    },
    {
      "cell_type": "code",
      "execution_count": null,
      "metadata": {
        "id": "MPB0xjzdJ6lZ",
        "outputId": "65521a6c-f287-4e3d-e247-ad0b8cced46a"
      },
      "outputs": [
        {
          "name": "stdout",
          "output_type": "stream",
          "text": [
            " 1 EMA20                          0.05\n",
            " 2 RSI100                         0.04\n",
            " 3 EMA200                         0.04\n",
            " 4 SMA_5                          0.04\n",
            " 5 STOCH_SLOWD                    0.03\n",
            " 6 RSI200                         0.03\n",
            " 7 SMA_Volume_Ratio               0.03\n",
            " 8 SMA_15                         0.03\n",
            " 9 STOCH_SLOWK                    0.03\n",
            "10 RSI50                          0.03\n",
            "11 ADX200                         0.03\n",
            "12 ADX20                          0.03\n",
            "13 EMA100                         0.03\n",
            "14 RSI15                          0.03\n",
            "15 volume                         0.03\n",
            "16 SMA15_Volume                   0.03\n",
            "17 SMA_ratio                      0.03\n",
            "18 ADX6                           0.03\n"
          ]
        }
      ],
      "source": [
        "treshold = 0.03\n",
        "\n",
        "xgboost.fit(train[predictors], train[\"target_2\"])\n",
        "\n",
        "importances = xgboost.feature_importances_\n",
        "indexes = np.argsort(importances)[::-1]\n",
        "\n",
        "columns_xgb_2 = []\n",
        "\n",
        "for i,f in enumerate(indexes):\n",
        "    importance = importances[f]\n",
        "    if importance >= treshold:\n",
        "        column = train[predictors].columns[f]\n",
        "        columns_xgb_2.append(column)\n",
        "        print(\"{0:2} {1:30} {2:.2f}\".format(i+1,column,importances[f]))"
      ]
    },
    {
      "cell_type": "code",
      "execution_count": null,
      "metadata": {
        "id": "8VIBQak1J6lZ"
      },
      "outputs": [],
      "source": [
        "xgboost.fit(train[columns_xgb_2], train[\"target_2\"])\n",
        "preds = xgboost.predict(test[columns_xgb_2])\n",
        "preds = pd.Series(preds, index=test.index)"
      ]
    },
    {
      "cell_type": "code",
      "execution_count": null,
      "metadata": {
        "id": "Z0ixgK_ZJ6lZ",
        "outputId": "66d82881-4444-4e8e-d05c-b3828b9f29f2"
      },
      "outputs": [
        {
          "name": "stdout",
          "output_type": "stream",
          "text": [
            "Precision del Modelo XGBoost:  0.4816849816849817\n",
            "Accuracy del Modelo XGBoost:  0.4957142857142857\n",
            "Recall del Modelo XGBoost:  0.38338192419825073\n",
            "F1 del Modelo XGBoost:  0.4269480519480519\n"
          ]
        }
      ],
      "source": [
        "print('Precision del Modelo XGBoost: ',\n",
        "precision_score(test[\"target_2\"], preds))\n",
        "print('Accuracy del Modelo XGBoost: ',\n",
        "accuracy_score(test[\"target_2\"], preds))\n",
        "print('Recall del Modelo XGBoost: ',\n",
        "recall_score(test[\"target_2\"], preds))\n",
        "print('F1 del Modelo XGBoost: ',\n",
        "f1_score(test[\"target_2\"], preds))"
      ]
    },
    {
      "cell_type": "code",
      "execution_count": null,
      "metadata": {
        "id": "wmHP7ObgJ6la"
      },
      "outputs": [],
      "source": [
        "### REVISAR CONCLUSIONES"
      ]
    },
    {
      "cell_type": "markdown",
      "metadata": {
        "id": "2BXPmityJ6la"
      },
      "source": [
        "Obtenemos la métrica de precision, y vemos que el modelo acierta en un 92% de las veces, lo cual es una métrica bastante buena pero hay que tener en cuenta que estamos entrenando el modelo con los últimos 100 períodos del dataset, por lo que no estamos seguros de que esta métrica sea real o podemos estar tomando un período de BTC estable en el cual era bastante simple llegar a predecir si el precio subia o bajaba."
      ]
    },
    {
      "cell_type": "markdown",
      "metadata": {
        "id": "Moh4ONfmJ6la"
      },
      "source": [
        "Anteriormente generamos un primer entrenamiento del modelo unicamente con los últimos 100 periodos del dataset a modo de prueba, pero lo que vamos a hacer ahora es generar una funcion para poder hacer el entrenamiento y el test con backtesting y con todo el dataset. \n",
        "Para poder hacerlo con más días, lo haremos con backtest, ya que nos aseguramos que únicamente usamos datos anteriores al período que necesitamos predecir. Si usamos datos de días posteriores para realizar la predicción, el modelo no seria realista ya que en el mundo real no tenemos los datos o la información de lo que va a pasar.\n",
        "Nuestro metodo de backtesting va a iterar a traves de todo el dataset y entrenar el modelo cada 750 filas. Haremos una función para evitar reescribir codigo cada vez que querramos realizar el backtesting. Esta es una primer prueba, pero idealmente entrenariamos el modelo con un intervalo menor a 750 filas, pero en este caso es solo una prueba.\n",
        "Para añadir más precision al resultado del modelo, utilizaremos la funcion predict_proba que permite calcular las probabilidades de las predicciones en un modelo de clasificación, y no únicamente los 0 o 1. Por defecto, el modelo piensa que si hay un 50% o más de chances de que el precio sube, predice que sube, por lo que actualizaremos este valor a 60%, por lo tanto para que el modelo prediga que el precio va a subir, la probabilidad de que ocurra debe ser de un 60% o más. \n",
        "La funcion de backtesting incluye:\n",
        "- Split de los datos en training y test\n",
        "- Entrenamiento del modelo\n",
        "- Usar la funcion de predict_proba para obtener las probabilidades de que el precio suba en lugar de solamente un 1 o 0\n",
        "- Toma la segunda columna del resultado, para asegurar que únicamente tomamos la probabilidad de que el precio sube\n",
        "- Convertir el resultado de un numpy array a un pandas Series para facilitar el trabajo\n",
        "- Si la probabilidad de que el precio suba es mayor al 60%, entonces ese label quedará como 1\n",
        "- Combinar nuestras predicciones con el valor de target real, para poder calcular el error facilmente\n",
        "- Devolver las predicciones"
      ]
    },
    {
      "cell_type": "code",
      "execution_count": null,
      "metadata": {
        "id": "K8zgpwrcJ6la"
      },
      "outputs": [],
      "source": [
        "def backtest(data, model, predictors, start=1000, step=200):\n",
        "    predictions = []\n",
        "    for i in range(start, data.shape[0], step):\n",
        "        train = data.iloc[0:i].copy()\n",
        "        test = data.iloc[i:(i+step)].copy()\n",
        "\n",
        "        # Fitear el modelo elegido\n",
        "        model.fit(train[predictors], train[\"target_1\"])\n",
        "\n",
        "        # Predecir\n",
        "        preds = model.predict_proba(test[predictors])[:,1]\n",
        "        preds = pd.Series(preds, index=test.index)\n",
        "        #\n",
        "        preds[preds > .6] = 1\n",
        "        preds[preds<=.6] = 0\n",
        "\n",
        "        # Combinar las predicciones con el valor real\n",
        "        combined = pd.concat({\"Target\": test[\"target_1\"],\"Predictions\": preds}, axis=1)\n",
        "\n",
        "        predictions.append(combined)\n",
        "\n",
        "    return pd.concat(predictions)"
      ]
    },
    {
      "cell_type": "markdown",
      "metadata": {
        "id": "7il17ocLJ6lb"
      },
      "source": [
        "Primero entrenamos y generamos las predicciones con el modelo XGBoost y colocando un valor de 200 pasos, y vemos que métricas obtenemos."
      ]
    },
    {
      "cell_type": "code",
      "execution_count": null,
      "metadata": {
        "id": "zw0ZryteJ6lb"
      },
      "outputs": [],
      "source": [
        "predictions_xgboost = backtest(df_btc_exp, xgboost, columns_xgb, step=200)"
      ]
    },
    {
      "cell_type": "code",
      "execution_count": null,
      "metadata": {
        "id": "QqkHLBOlJ6lb",
        "outputId": "cf26494d-86cb-44ed-c5a3-d165e9bd6798"
      },
      "outputs": [
        {
          "data": {
            "text/plain": [
              "0.0    3479\n",
              "1.0    2369\n",
              "Name: Predictions, dtype: int64"
            ]
          },
          "execution_count": 110,
          "metadata": {},
          "output_type": "execute_result"
        }
      ],
      "source": [
        "predictions_xgboost[\"Predictions\"].value_counts()"
      ]
    },
    {
      "cell_type": "code",
      "execution_count": null,
      "metadata": {
        "id": "Yjbh1w8NJ6lc",
        "outputId": "53de9dd7-ce76-4ebd-d269-37438ba104e5"
      },
      "outputs": [
        {
          "data": {
            "text/plain": [
              "1.0    2973\n",
              "0.0    2875\n",
              "Name: Target, dtype: int64"
            ]
          },
          "execution_count": 111,
          "metadata": {},
          "output_type": "execute_result"
        }
      ],
      "source": [
        "predictions_xgboost[\"Target\"].value_counts()"
      ]
    },
    {
      "cell_type": "code",
      "execution_count": null,
      "metadata": {
        "id": "IjFfvX90J6lc",
        "outputId": "2cba7b2e-8d7f-4150-aeda-0749234eb63d"
      },
      "outputs": [
        {
          "data": {
            "text/plain": [
              "0.6614605318699873"
            ]
          },
          "execution_count": 112,
          "metadata": {},
          "output_type": "execute_result"
        }
      ],
      "source": [
        "precision_score(predictions_xgboost[\"Target\"], predictions_xgboost[\"Predictions\"])"
      ]
    },
    {
      "cell_type": "code",
      "execution_count": null,
      "metadata": {
        "id": "tYWtpX15J6lc",
        "outputId": "bcad0361-a048-4c4b-cc04-3fdc63fab2b0"
      },
      "outputs": [
        {
          "data": {
            "text/plain": [
              "0.6224350205198358"
            ]
          },
          "execution_count": 113,
          "metadata": {},
          "output_type": "execute_result"
        }
      ],
      "source": [
        "accuracy_score(predictions_xgboost[\"Target\"], predictions_xgboost[\"Predictions\"])"
      ]
    },
    {
      "cell_type": "code",
      "execution_count": null,
      "metadata": {
        "id": "V4mTpj9xJ6lc",
        "outputId": "018c6ed7-efb1-46ab-e81f-280dd17c2094"
      },
      "outputs": [
        {
          "data": {
            "text/plain": [
              "0.5270770265724857"
            ]
          },
          "execution_count": 114,
          "metadata": {},
          "output_type": "execute_result"
        }
      ],
      "source": [
        "recall_score(predictions_xgboost[\"Target\"], predictions_xgboost[\"Predictions\"])"
      ]
    },
    {
      "cell_type": "code",
      "execution_count": null,
      "metadata": {
        "id": "GJauTqgaJ6lc",
        "outputId": "be07dec2-6d91-49f1-d379-a80b9bd01a75"
      },
      "outputs": [
        {
          "data": {
            "text/plain": [
              "0.5866716585548484"
            ]
          },
          "execution_count": 115,
          "metadata": {},
          "output_type": "execute_result"
        }
      ],
      "source": [
        "f1_score(predictions_xgboost[\"Target\"], predictions_xgboost[\"Predictions\"])"
      ]
    },
    {
      "cell_type": "code",
      "execution_count": null,
      "metadata": {
        "id": "goIX7hOfJ6lc"
      },
      "outputs": [],
      "source": [
        "predictions_rf = backtest(df_btc_exp, random_forest, columns_rf, step=200)"
      ]
    },
    {
      "cell_type": "code",
      "execution_count": null,
      "metadata": {
        "id": "hioeHM4EJ6ld",
        "outputId": "dd51cd69-2e88-47f4-9216-ee7cf27719e8"
      },
      "outputs": [
        {
          "data": {
            "text/plain": [
              "0.0    4086\n",
              "1.0    1762\n",
              "Name: Predictions, dtype: int64"
            ]
          },
          "execution_count": 117,
          "metadata": {},
          "output_type": "execute_result"
        }
      ],
      "source": [
        "predictions_rf[\"Predictions\"].value_counts()"
      ]
    },
    {
      "cell_type": "code",
      "execution_count": null,
      "metadata": {
        "id": "VwNCgCREJ6ld",
        "outputId": "bfbbf61e-50a8-4791-f2c4-34cc319a8fe2"
      },
      "outputs": [
        {
          "data": {
            "text/plain": [
              "1.0    2973\n",
              "0.0    2875\n",
              "Name: Target, dtype: int64"
            ]
          },
          "execution_count": 118,
          "metadata": {},
          "output_type": "execute_result"
        }
      ],
      "source": [
        "predictions_rf[\"Target\"].value_counts()"
      ]
    },
    {
      "cell_type": "code",
      "execution_count": null,
      "metadata": {
        "id": "wJLkhD_vJ6ld",
        "outputId": "612cc452-38ef-415f-8202-af8f12fba330"
      },
      "outputs": [
        {
          "data": {
            "text/plain": [
              "0.7162315550510783"
            ]
          },
          "execution_count": 119,
          "metadata": {},
          "output_type": "execute_result"
        }
      ],
      "source": [
        "precision_score(predictions_rf[\"Target\"], predictions_rf[\"Predictions\"])"
      ]
    },
    {
      "cell_type": "code",
      "execution_count": null,
      "metadata": {
        "id": "wcVGyfYDJ6ld",
        "outputId": "71ef5295-cfca-4bbd-9506-c48192d76289"
      },
      "outputs": [
        {
          "data": {
            "text/plain": [
              "0.621922024623803"
            ]
          },
          "execution_count": 120,
          "metadata": {},
          "output_type": "execute_result"
        }
      ],
      "source": [
        "accuracy_score(predictions_rf[\"Target\"], predictions_rf[\"Predictions\"])"
      ]
    },
    {
      "cell_type": "code",
      "execution_count": null,
      "metadata": {
        "id": "2o5Ghk61J6ld",
        "outputId": "fa09546c-e89a-446c-b23e-092791e3661b"
      },
      "outputs": [
        {
          "data": {
            "text/plain": [
              "0.4244870501177262"
            ]
          },
          "execution_count": 121,
          "metadata": {},
          "output_type": "execute_result"
        }
      ],
      "source": [
        "recall_score(predictions_rf[\"Target\"], predictions_rf[\"Predictions\"])"
      ]
    },
    {
      "cell_type": "code",
      "execution_count": null,
      "metadata": {
        "id": "V7GJ84_ZJ6le",
        "outputId": "a8141642-6b9d-4f3c-fdf7-e7a6492966a7"
      },
      "outputs": [
        {
          "data": {
            "text/plain": [
              "0.5330517423442449"
            ]
          },
          "execution_count": 122,
          "metadata": {},
          "output_type": "execute_result"
        }
      ],
      "source": [
        "f1_score(predictions_rf[\"Target\"], predictions_rf[\"Predictions\"])"
      ]
    },
    {
      "cell_type": "code",
      "execution_count": null,
      "metadata": {
        "id": "eJ-qswtPJ6le",
        "outputId": "abba6ebd-f296-4d1d-dab7-95039a9b2a9d"
      },
      "outputs": [
        {
          "data": {
            "text/plain": [
              "((5448, 36), (1400, 36), 6848)"
            ]
          },
          "execution_count": 123,
          "metadata": {},
          "output_type": "execute_result"
        }
      ],
      "source": [
        "train = df_btc_exp.iloc[:-1400]\n",
        "test = df_btc_exp.iloc[-1400:]\n",
        "train.shape, test.shape, train.shape[0]+test.shape[0]"
      ]
    },
    {
      "cell_type": "code",
      "execution_count": null,
      "metadata": {
        "id": "BAmfqJL6J6lf"
      },
      "outputs": [],
      "source": [
        "X_train = train[columns_xgb]\n",
        "X_test = test[columns_xgb]\n",
        "y_train = train['target_1']\n",
        "y_test = test['target_1']"
      ]
    },
    {
      "cell_type": "markdown",
      "metadata": {
        "id": "qE6et7xIJ6lg"
      },
      "source": [
        "#### Optimizacion de hiperparametros XGBoost"
      ]
    },
    {
      "cell_type": "code",
      "execution_count": null,
      "metadata": {
        "id": "ADnK1ZptJ6lg",
        "outputId": "686109b2-a3ac-4a13-8a0a-b021a7cbbfe7"
      },
      "outputs": [
        {
          "data": {
            "text/plain": [
              "58.93"
            ]
          },
          "execution_count": 125,
          "metadata": {},
          "output_type": "execute_result"
        }
      ],
      "source": [
        "params = {\"subsample\":[0.5, 0.75, 1],\n",
        "              \"colsample_bytree\":[0.5, 0.75, 1],\n",
        "              \"max_depth\":[2, 6, 12],\n",
        "              \"min_child_weight\":[1, 5, 15],\n",
        "              \"learning_rate\":[0.01, 0.03, 0.1, 0.3, 0.5],\n",
        "              \"n_estimators\":[50, 100, 200]}\n",
        "\n",
        "# Iterar por cada hiperparametro y encontrar el mejor\n",
        "for e, g in enumerate(ParameterGrid(params)):\n",
        "    xgboost.set_params(**g)\n",
        "    xgboost.fit(X_train, y_train)\n",
        "    score = round(xgboost.score(X_test, y_test) * 100, 2)\n",
        "    if e == 0:\n",
        "        best_score = score\n",
        "        best_params = g\n",
        "    elif score < best_score:\n",
        "        best_score = score\n",
        "        best_params = g\n",
        "\n",
        "\n",
        "# Reentrenar el modelo con los mejores hiperparametros\n",
        "\n",
        "xgboost.set_params(**best_params)\n",
        "xgboost.fit(X_train, y_train)\n",
        "best_score"
      ]
    },
    {
      "cell_type": "code",
      "execution_count": null,
      "metadata": {
        "id": "TJBjRRAtJ6lh",
        "outputId": "d5b83fd6-12fc-4dc0-82dc-6a4ae70aed63"
      },
      "outputs": [
        {
          "data": {
            "text/plain": [
              "{'colsample_bytree': 0.5,\n",
              " 'learning_rate': 0.5,\n",
              " 'max_depth': 6,\n",
              " 'min_child_weight': 5,\n",
              " 'n_estimators': 200,\n",
              " 'subsample': 0.5}"
            ]
          },
          "execution_count": 126,
          "metadata": {},
          "output_type": "execute_result"
        }
      ],
      "source": [
        "best_params"
      ]
    },
    {
      "cell_type": "code",
      "execution_count": null,
      "metadata": {
        "id": "j2hnEWeXJ6lh"
      },
      "outputs": [],
      "source": [
        "predictions_xgboost = backtest(df_btc_exp, xgboost, columns_xgb, start = 750, step = 200)"
      ]
    },
    {
      "cell_type": "code",
      "execution_count": null,
      "metadata": {
        "id": "8xr0-YkCJ6lh",
        "outputId": "bab217ea-3266-4ed9-9845-e0b25caef272"
      },
      "outputs": [
        {
          "data": {
            "text/plain": [
              "0.0    3224\n",
              "1.0    2874\n",
              "Name: Predictions, dtype: int64"
            ]
          },
          "execution_count": 128,
          "metadata": {},
          "output_type": "execute_result"
        }
      ],
      "source": [
        "predictions_xgboost[\"Predictions\"].value_counts()"
      ]
    },
    {
      "cell_type": "code",
      "execution_count": null,
      "metadata": {
        "id": "WyeqOp0gJ6lh",
        "outputId": "fb78e4f7-56f6-4fd8-9e7f-1c3552f8a522"
      },
      "outputs": [
        {
          "data": {
            "text/plain": [
              "1.0    3094\n",
              "0.0    3004\n",
              "Name: Target, dtype: int64"
            ]
          },
          "execution_count": 129,
          "metadata": {},
          "output_type": "execute_result"
        }
      ],
      "source": [
        "predictions_xgboost[\"Target\"].value_counts()"
      ]
    },
    {
      "cell_type": "code",
      "execution_count": null,
      "metadata": {
        "id": "qJcPzEg9J6li",
        "outputId": "c27c1f75-2362-41d3-eafa-35282a902f0f"
      },
      "outputs": [
        {
          "data": {
            "text/plain": [
              "0.6033402922755741"
            ]
          },
          "execution_count": 130,
          "metadata": {},
          "output_type": "execute_result"
        }
      ],
      "source": [
        "precision_score(predictions_xgboost[\"Target\"], predictions_xgboost[\"Predictions\"])"
      ]
    },
    {
      "cell_type": "code",
      "execution_count": null,
      "metadata": {
        "id": "zT81TTpAJ6li",
        "outputId": "3e803ebe-e314-48df-ef8e-3d24086efc7d"
      },
      "outputs": [
        {
          "data": {
            "text/plain": [
              "0.590029517874713"
            ]
          },
          "execution_count": 131,
          "metadata": {},
          "output_type": "execute_result"
        }
      ],
      "source": [
        "accuracy_score(predictions_xgboost[\"Target\"], predictions_xgboost[\"Predictions\"])"
      ]
    },
    {
      "cell_type": "code",
      "execution_count": null,
      "metadata": {
        "id": "9p5waZ5qJ6lj",
        "outputId": "944da5f8-a2e3-4158-bc2e-2b5f1f3fbb40"
      },
      "outputs": [
        {
          "data": {
            "text/plain": [
              "0.5604395604395604"
            ]
          },
          "execution_count": 132,
          "metadata": {},
          "output_type": "execute_result"
        }
      ],
      "source": [
        "recall_score(predictions_xgboost[\"Target\"], predictions_xgboost[\"Predictions\"])"
      ]
    },
    {
      "cell_type": "code",
      "execution_count": null,
      "metadata": {
        "id": "wfe3YgJ3J6lj",
        "outputId": "af18a5cc-d313-4409-f443-d2ea92aebfd4"
      },
      "outputs": [
        {
          "data": {
            "text/plain": [
              "0.5810991957104558"
            ]
          },
          "execution_count": 133,
          "metadata": {},
          "output_type": "execute_result"
        }
      ],
      "source": [
        "f1_score(predictions_xgboost[\"Target\"], predictions_xgboost[\"Predictions\"])"
      ]
    },
    {
      "cell_type": "code",
      "execution_count": null,
      "metadata": {
        "id": "Q2olcWcHJ6lj",
        "outputId": "dcf47bc0-7b42-4b83-94a3-67e2fbf1a90e"
      },
      "outputs": [
        {
          "data": {
            "image/png": "[encoded data removed]",
            "text/plain": [
              "<Figure size 360x360 with 1 Axes>"
            ]
          },
          "metadata": {
            "needs_background": "light"
          },
          "output_type": "display_data"
        }
      ],
      "source": [
        "from sklearn.metrics import confusion_matrix\n",
        "from sklearn.metrics import precision_score, recall_score, f1_score, accuracy_score\n",
        "import matplotlib.pyplot as plt\n",
        "\n",
        "conf_matrix = confusion_matrix(y_true=predictions_xgboost[\"Target\"], y_pred=predictions_xgboost[\"Predictions\"])\n",
        "\n",
        "fig, ax = plt.subplots(figsize=(5, 5))\n",
        "ax.matshow(conf_matrix, cmap=plt.cm.Oranges, alpha=0.3)\n",
        "for i in range(conf_matrix.shape[0]):\n",
        "    for j in range(conf_matrix.shape[1]):\n",
        "        ax.text(x=j, y=i,s=conf_matrix[i, j], va='center', ha='center', size='xx-large')\n",
        "\n",
        "plt.xlabel('Predictions', fontsize=18)\n",
        "plt.ylabel('Actuals', fontsize=18)\n",
        "plt.title('Confusion Matrix', fontsize=18)\n",
        "plt.show()"
      ]
    },
    {
      "cell_type": "code",
      "execution_count": null,
      "metadata": {
        "id": "gn43xKUYJ6lj",
        "outputId": "95b094b7-07d4-4106-edcb-394aa53475ed"
      },
      "outputs": [
        {
          "name": "stdout",
          "output_type": "stream",
          "text": [
            "F1 Score XGBoost: 0.581\n",
            "F1 Score RandomForest: 0.533\n"
          ]
        }
      ],
      "source": [
        "print('F1 Score XGBoost: %.3f' % f1_score(predictions_xgboost[\"Target\"], predictions_xgboost[\"Predictions\"]))\n",
        "print('F1 Score RandomForest: %.3f' % f1_score(predictions_rf[\"Target\"], predictions_rf[\"Predictions\"]))"
      ]
    },
    {
      "cell_type": "markdown",
      "metadata": {
        "id": "7JyptKKLJ6lk"
      },
      "source": [
        "Si bien tenemos buenas métricas en ambos casos, podemos hacer una evaluación de ambos modelos para analizar un poco más en profundidad las métricas.\n",
        "Como vimos anteriormente, sabemos que el modelo se encuentra balanceado, por lo que la métrica de precision en este caso no nos dice mucho acerca de la performance del modelo, sin embargo ambas métricas son altas.\n",
        "Si comparamos las métricas de recall, vemos que el modelo de XGBoost supera al de RandomForest por casi 6 puntos porcentuales, lo cual es bastante alto, y esto nos indica que el modelo clasifica correctamente los valores positivos dentro de todos los positivos que hay en el modelo. Dicho de otra forma, el modelo tiene una probabilidad del 83% de acertar que el precio de la acción sube de todas las veces que el precio efectivamente subió. Si usamos este modelo para tener de input en futuras entradas en long, esto es, apostar a que el precio va a subir y ganar con esto, tendremos un nivel de confianza bastante alto y puede que la mayoria de nuestras operaciones sean satisfactorias.\n",
        "Si evaluamos el accuracy del modelo, sabiendo que el mismo se encuentra balanceado, podemos ver que también el modelo de XGBoost supera al RandomForest por casi 2 puntos porcentuales, lo cual no es mucho, pero sirve de parámetro para saber que el modelo acierta correctamente las predicciones tanto cuando el precio sube como cuando el precio baja, lo cual puede ser de gran utilidad si también queremos ejecutar operaciones de short.\n",
        "Por último vamos a ver la métrica de F1-Score que nos da una visión más general acerca de la performance del modelo, y podemos concluir finalmente que el modelo de XGBoost supera al de RandomForest en todas las métricas, incluida ésta última."
      ]
    },
    {
      "cell_type": "markdown",
      "metadata": {
        "id": "sVMNpQ3bJ6lk"
      },
      "source": [
        "## Parte II - Regresión"
      ]
    },
    {
      "cell_type": "code",
      "execution_count": null,
      "metadata": {
        "id": "QSuik_tKe3Q7"
      },
      "outputs": [],
      "source": [
        "from sklearn.tree import DecisionTreeRegressor\n",
        "from sklearn.ensemble import RandomForestRegressor\n",
        "from sklearn.svm import SVR\n",
        "\n",
        "#Agregar modelo baseline en base a la introduccion de la notebook.\n",
        "dt_regressor = DecisionTreeRegressor()\n",
        "rf_regressor = RandomForestRegressor()\n",
        "xgb_regressor = xgb.XGBRegressor(objective='reg:squarederror')"
      ]
    },
    {
      "cell_type": "code",
      "execution_count": null,
      "metadata": {
        "id": "_XY1JTZze3Q7"
      },
      "outputs": [],
      "source": [
        "df_btc_reg = df_btc_bl[['close','precio_bl']]"
      ]
    },
    {
      "cell_type": "code",
      "execution_count": null,
      "metadata": {
        "id": "fC5IIFRNe3Q8"
      },
      "outputs": [],
      "source": [
        "df_btc_reg_bl = df_btc_bl[['close','precio_bl']]"
      ]
    },
    {
      "cell_type": "code",
      "execution_count": null,
      "metadata": {
        "id": "hEuDcGhRe3Q8",
        "outputId": "40ab910d-7c2f-474a-8f2f-09d66606ae37"
      },
      "outputs": [
        {
          "data": {
            "text/html": [
              "<div>\n",
              "<style scoped>\n",
              "    .dataframe tbody tr th:only-of-type {\n",
              "        vertical-align: middle;\n",
              "    }\n",
              "\n",
              "    .dataframe tbody tr th {\n",
              "        vertical-align: top;\n",
              "    }\n",
              "\n",
              "    .dataframe thead th {\n",
              "        text-align: right;\n",
              "    }\n",
              "</style>\n",
              "<table border=\"1\" class=\"dataframe\">\n",
              "  <thead>\n",
              "    <tr style=\"text-align: right;\">\n",
              "      <th></th>\n",
              "      <th>close</th>\n",
              "      <th>precio_bl</th>\n",
              "    </tr>\n",
              "    <tr>\n",
              "      <th>Fecha</th>\n",
              "      <th></th>\n",
              "      <th></th>\n",
              "    </tr>\n",
              "  </thead>\n",
              "  <tbody>\n",
              "    <tr>\n",
              "      <th>2019-01-10 11:00:00</th>\n",
              "      <td>3726.32</td>\n",
              "      <td>3973.477</td>\n",
              "    </tr>\n",
              "    <tr>\n",
              "      <th>2019-01-10 15:00:00</th>\n",
              "      <td>3573.78</td>\n",
              "      <td>3975.699</td>\n",
              "    </tr>\n",
              "    <tr>\n",
              "      <th>2019-01-10 19:00:00</th>\n",
              "      <td>3583.43</td>\n",
              "      <td>3976.583</td>\n",
              "    </tr>\n",
              "    <tr>\n",
              "      <th>2019-01-10 23:00:00</th>\n",
              "      <td>3579.76</td>\n",
              "      <td>3976.614</td>\n",
              "    </tr>\n",
              "    <tr>\n",
              "      <th>2019-01-11 03:00:00</th>\n",
              "      <td>3584.48</td>\n",
              "      <td>3953.864</td>\n",
              "    </tr>\n",
              "  </tbody>\n",
              "</table>\n",
              "</div>"
            ],
            "text/plain": [
              "                       close  precio_bl\n",
              "Fecha                                  \n",
              "2019-01-10 11:00:00  3726.32   3973.477\n",
              "2019-01-10 15:00:00  3573.78   3975.699\n",
              "2019-01-10 19:00:00  3583.43   3976.583\n",
              "2019-01-10 23:00:00  3579.76   3976.614\n",
              "2019-01-11 03:00:00  3584.48   3953.864"
            ]
          },
          "execution_count": 139,
          "metadata": {},
          "output_type": "execute_result"
        }
      ],
      "source": [
        "df_btc_reg.head()"
      ]
    },
    {
      "cell_type": "code",
      "execution_count": null,
      "metadata": {
        "id": "TUdhjvTVe3Q8"
      },
      "outputs": [],
      "source": [
        "future_periods = 6\n",
        "df_btc_reg['pred'] = df_btc_bl['close'].shift(-future_periods)"
      ]
    },
    {
      "cell_type": "code",
      "execution_count": null,
      "metadata": {
        "id": "9Cak06eMe3Q8",
        "outputId": "21b666db-e18f-4aff-c562-b77445f45821"
      },
      "outputs": [
        {
          "data": {
            "text/html": [
              "<div>\n",
              "<style scoped>\n",
              "    .dataframe tbody tr th:only-of-type {\n",
              "        vertical-align: middle;\n",
              "    }\n",
              "\n",
              "    .dataframe tbody tr th {\n",
              "        vertical-align: top;\n",
              "    }\n",
              "\n",
              "    .dataframe thead th {\n",
              "        text-align: right;\n",
              "    }\n",
              "</style>\n",
              "<table border=\"1\" class=\"dataframe\">\n",
              "  <thead>\n",
              "    <tr style=\"text-align: right;\">\n",
              "      <th></th>\n",
              "      <th>close</th>\n",
              "      <th>precio_bl</th>\n",
              "      <th>pred</th>\n",
              "    </tr>\n",
              "    <tr>\n",
              "      <th>Fecha</th>\n",
              "      <th></th>\n",
              "      <th></th>\n",
              "      <th></th>\n",
              "    </tr>\n",
              "  </thead>\n",
              "  <tbody>\n",
              "    <tr>\n",
              "      <th>2019-01-10 11:00:00</th>\n",
              "      <td>3726.32</td>\n",
              "      <td>3973.477</td>\n",
              "      <td>3598.72</td>\n",
              "    </tr>\n",
              "    <tr>\n",
              "      <th>2019-01-10 15:00:00</th>\n",
              "      <td>3573.78</td>\n",
              "      <td>3975.699</td>\n",
              "      <td>3605.88</td>\n",
              "    </tr>\n",
              "    <tr>\n",
              "      <th>2019-01-10 19:00:00</th>\n",
              "      <td>3583.43</td>\n",
              "      <td>3976.583</td>\n",
              "      <td>3578.85</td>\n",
              "    </tr>\n",
              "    <tr>\n",
              "      <th>2019-01-10 23:00:00</th>\n",
              "      <td>3579.76</td>\n",
              "      <td>3976.614</td>\n",
              "      <td>3594.88</td>\n",
              "    </tr>\n",
              "    <tr>\n",
              "      <th>2019-01-11 03:00:00</th>\n",
              "      <td>3584.48</td>\n",
              "      <td>3953.864</td>\n",
              "      <td>3571.74</td>\n",
              "    </tr>\n",
              "    <tr>\n",
              "      <th>...</th>\n",
              "      <td>...</td>\n",
              "      <td>...</td>\n",
              "      <td>...</td>\n",
              "    </tr>\n",
              "    <tr>\n",
              "      <th>2022-05-01 19:00:00</th>\n",
              "      <td>38306.63</td>\n",
              "      <td>38573.071</td>\n",
              "      <td>NaN</td>\n",
              "    </tr>\n",
              "    <tr>\n",
              "      <th>2022-05-01 23:00:00</th>\n",
              "      <td>38621.62</td>\n",
              "      <td>38474.309</td>\n",
              "      <td>NaN</td>\n",
              "    </tr>\n",
              "    <tr>\n",
              "      <th>2022-05-02 03:00:00</th>\n",
              "      <td>38926.11</td>\n",
              "      <td>38373.731</td>\n",
              "      <td>NaN</td>\n",
              "    </tr>\n",
              "    <tr>\n",
              "      <th>2022-05-02 07:00:00</th>\n",
              "      <td>38711.88</td>\n",
              "      <td>38322.045</td>\n",
              "      <td>NaN</td>\n",
              "    </tr>\n",
              "    <tr>\n",
              "      <th>2022-05-02 11:00:00</th>\n",
              "      <td>38840.00</td>\n",
              "      <td>38260.299</td>\n",
              "      <td>NaN</td>\n",
              "    </tr>\n",
              "  </tbody>\n",
              "</table>\n",
              "<p>7232 rows × 3 columns</p>\n",
              "</div>"
            ],
            "text/plain": [
              "                        close  precio_bl     pred\n",
              "Fecha                                            \n",
              "2019-01-10 11:00:00   3726.32   3973.477  3598.72\n",
              "2019-01-10 15:00:00   3573.78   3975.699  3605.88\n",
              "2019-01-10 19:00:00   3583.43   3976.583  3578.85\n",
              "2019-01-10 23:00:00   3579.76   3976.614  3594.88\n",
              "2019-01-11 03:00:00   3584.48   3953.864  3571.74\n",
              "...                       ...        ...      ...\n",
              "2022-05-01 19:00:00  38306.63  38573.071      NaN\n",
              "2022-05-01 23:00:00  38621.62  38474.309      NaN\n",
              "2022-05-02 03:00:00  38926.11  38373.731      NaN\n",
              "2022-05-02 07:00:00  38711.88  38322.045      NaN\n",
              "2022-05-02 11:00:00  38840.00  38260.299      NaN\n",
              "\n",
              "[7232 rows x 3 columns]"
            ]
          },
          "execution_count": 141,
          "metadata": {},
          "output_type": "execute_result"
        }
      ],
      "source": [
        "df_btc_reg"
      ]
    },
    {
      "cell_type": "markdown",
      "metadata": {
        "id": "YR3mL4uie3Q8"
      },
      "source": [
        "La variable que vamos a predecir es el valor de cierre de BTC, y utilizaremos el mismo dataset que usamos anteriormente, para poder predecir el precio de cierre del activo en 15 períodos posteriores."
      ]
    },
    {
      "cell_type": "code",
      "execution_count": null,
      "metadata": {
        "id": "wJcUPYwbe3Q8"
      },
      "outputs": [],
      "source": [
        "X = np.array(df_btc_reg.drop(['pred','precio_bl'], 1))[:-future_periods]\n",
        "y = np.array(df_btc_reg[['pred','precio_bl']])[:-future_periods]"
      ]
    },
    {
      "cell_type": "code",
      "execution_count": null,
      "metadata": {
        "id": "4jykZNhre3Q9",
        "outputId": "1ff04130-a694-4815-fb85-2638d422523e"
      },
      "outputs": [
        {
          "data": {
            "text/plain": [
              "array([[ 3726.32],\n",
              "       [ 3573.78],\n",
              "       [ 3583.43],\n",
              "       ...,\n",
              "       [37952.66],\n",
              "       [38026.25],\n",
              "       [37991.17]])"
            ]
          },
          "execution_count": 143,
          "metadata": {},
          "output_type": "execute_result"
        }
      ],
      "source": [
        "X"
      ]
    },
    {
      "cell_type": "code",
      "execution_count": null,
      "metadata": {
        "id": "8lZoqw3Ce3Q9",
        "outputId": "233f545b-3674-4e67-99a8-918f5c7594a1"
      },
      "outputs": [
        {
          "data": {
            "text/plain": [
              "array([[ 3598.72 ,  3973.477],\n",
              "       [ 3605.88 ,  3975.699],\n",
              "       [ 3578.85 ,  3976.583],\n",
              "       ...,\n",
              "       [38926.11 , 39116.902],\n",
              "       [38711.88 , 38965.219],\n",
              "       [38840.   , 38811.557]])"
            ]
          },
          "execution_count": 144,
          "metadata": {},
          "output_type": "execute_result"
        }
      ],
      "source": [
        "y"
      ]
    },
    {
      "cell_type": "code",
      "execution_count": null,
      "metadata": {
        "id": "1SpGaM1De3Q9"
      },
      "outputs": [],
      "source": [
        "##Se puede hacr un split random????\n",
        "#los datos no quedan ordenados por el indice\n",
        "#a continuación cambié el split para que no sea random, incorporé un random state para que los resultados se repliquen"
      ]
    },
    {
      "cell_type": "code",
      "execution_count": null,
      "metadata": {
        "id": "fVE-fcIye3Q9"
      },
      "outputs": [],
      "source": [
        "from sklearn.model_selection import train_test_split\n",
        "X_train, X_test, y_train, y_test = train_test_split(X, y, test_size = 0.2,shuffle = False, random_state = 0) #Hacemos un split sin randomizar los datos"
      ]
    },
    {
      "cell_type": "code",
      "execution_count": null,
      "metadata": {
        "id": "m7VzwW0Se3Q9",
        "outputId": "a36eaccf-a6fb-46c2-b3b2-c395af1ae2da"
      },
      "outputs": [
        {
          "data": {
            "text/plain": [
              "array([[50691.73],\n",
              "       [50458.79],\n",
              "       [49693.78],\n",
              "       ...,\n",
              "       [38926.11],\n",
              "       [38711.88],\n",
              "       [38840.  ]])"
            ]
          },
          "execution_count": 147,
          "metadata": {},
          "output_type": "execute_result"
        }
      ],
      "source": [
        "y_test[:,:1]"
      ]
    },
    {
      "cell_type": "code",
      "execution_count": null,
      "metadata": {
        "id": "3xfDWShie3Q-",
        "outputId": "2853b132-ffe2-4e24-cd09-0ae2624ff85a"
      },
      "outputs": [
        {
          "data": {
            "text/plain": [
              "DecisionTreeRegressor()"
            ]
          },
          "execution_count": 148,
          "metadata": {},
          "output_type": "execute_result"
        }
      ],
      "source": [
        "dt_regressor.fit(X_train, y_train[:,:1])"
      ]
    },
    {
      "cell_type": "code",
      "execution_count": null,
      "metadata": {
        "id": "lvMKktHye3Q-",
        "outputId": "065b6bb7-7139-450e-ba13-a538d4709862"
      },
      "outputs": [
        {
          "name": "stdout",
          "output_type": "stream",
          "text": [
            "Baseline Model confidence:  0.9091975427259703\n",
            "MAE: 1871.8211632088519\n",
            "RMSE: 2461.3372304876175\n"
          ]
        }
      ],
      "source": [
        "#Cálculo de las métricas del modelo Baseline\n",
        "from sklearn.metrics import r2_score\n",
        "baseline_confidence = r2_score(y_test[:,:1], y_test[:,1:])\n",
        "\n",
        "print(\"Baseline Model confidence: \", baseline_confidence)\n",
        "print(\"MAE: {}\".format(mean_absolute_error(y_test[:,:1], y_test[:,1:])))\n",
        "print(\"RMSE: {}\".format(math.sqrt(mean_squared_error(y_test[:,:1], y_test[:,1:]))))"
      ]
    },
    {
      "cell_type": "code",
      "execution_count": null,
      "metadata": {
        "id": "QibD8OiTe3Q-",
        "outputId": "ef95bb17-73c3-4481-a4ab-346dd72c4fe3"
      },
      "outputs": [
        {
          "name": "stdout",
          "output_type": "stream",
          "text": [
            "Decision Tree confidence:  0.8777628054999413\n",
            "MAE: 2198.136649377593\n",
            "RMSE: 2855.775129529148\n"
          ]
        }
      ],
      "source": [
        "dt_regressor.fit(X_train, y_train[:,:1])\n",
        "dt_confidence = dt_regressor.score(X_test, y_test[:,:1])\n",
        "y_pred = dt_regressor.predict(X_test)\n",
        "print(\"Decision Tree confidence: \", dt_confidence)\n",
        "print(\"MAE: {}\".format(mean_absolute_error(y_test[:,:1], y_pred)))\n",
        "print(\"RMSE: {}\".format(math.sqrt(mean_squared_error(y_test[:,:1], y_pred))))"
      ]
    },
    {
      "cell_type": "code",
      "execution_count": null,
      "metadata": {
        "id": "JBXcmqMXe3Q-",
        "outputId": "85250813-ce07-4352-b6d2-8553eef964e6"
      },
      "outputs": [
        {
          "name": "stdout",
          "output_type": "stream",
          "text": [
            "RandomForest confidence:  0.9158374251028438\n",
            "MAE: 1850.2075259321261\n",
            "RMSE: 2369.637026181677\n"
          ]
        }
      ],
      "source": [
        "rf_regressor.fit(X_train, y_train[:,:1])\n",
        "y_pred = rf_regressor.predict(X_test)\n",
        "rf_confidence = rf_regressor.score(X_test, y_test[:,:1])\n",
        "print(\"RandomForest confidence: \", rf_confidence)\n",
        "print(\"MAE: {}\".format(mean_absolute_error(y_test[:,:1], y_pred)))\n",
        "print(\"RMSE: {}\".format(math.sqrt(mean_squared_error(y_test[:,:1], y_pred))))"
      ]
    },
    {
      "cell_type": "code",
      "execution_count": null,
      "metadata": {
        "id": "lBa3QeTke3Q-",
        "outputId": "f496c6d3-7926-46c0-ceee-a90c66543dc5"
      },
      "outputs": [
        {
          "name": "stdout",
          "output_type": "stream",
          "text": [
            "XGBoost confidence:  0.9250991999242985\n",
            "MAE: 1699.985825661307\n",
            "RMSE: 2235.4530270884893\n"
          ]
        }
      ],
      "source": [
        "xgb_regressor.fit(X_train, y_train[:,:1])\n",
        "y_pred_xgb = xgb_regressor.predict(X_test)\n",
        "xgb_confidence = xgb_regressor.score(X_test, y_test[:,:1])\n",
        "print(\"XGBoost confidence: \", xgb_confidence)\n",
        "print(\"MAE: {}\".format(mean_absolute_error(y_test[:,:1], y_pred_xgb)))\n",
        "print(\"RMSE: {}\".format(math.sqrt(mean_squared_error(y_test[:,:1], y_pred_xgb))))"
      ]
    },
    {
      "cell_type": "markdown",
      "metadata": {
        "id": "0L3rUGY1O7y8"
      },
      "source": [
        "# Comparación de métricas para regresión:\n",
        "\n",
        "Habiendo hecho una regresión de la base de datos a través del Baseline y  otros cuatro métodos distintos (Decision Tree, Random Forest y Extreme Gradient Boosting), obtuvimos de cada uno de ellos, diferentes métricas para medir el error de los valores obtenidos por regresión, a fin de hacer una comparativa del rendimiento de estos métodos y cuáles predicen mejor el comportamiento de la criptomoneda.\n",
        "\n",
        "---\n",
        "> **Modelo Baseline**\n",
        "\n",
        "\n",
        "* Confidence =\t0,9092\n",
        "* MAE =\t1871,8211\n",
        "* RMSE = \t2461,337\n",
        "\n",
        "\n",
        "> **Decision Tree**\n",
        "\n",
        "\n",
        "* Confidence = \t0,8778\n",
        "* MAE = \t2198,1366\n",
        "* RMSE = \t2855,7751\n",
        "\n",
        ">**Random Forest**\n",
        "\n",
        "* Confidence = \t0,915837\n",
        "* MAE = \t1850,2075\n",
        "* RMSE = \t2369,637\n",
        "\n",
        ">**XGBoost**\n",
        "\n",
        "* Confidence =\t0,9251\n",
        "* MAE = \t1699,986\n",
        "* RMSE = \t2235,453"
      ]
    },
    {
      "cell_type": "markdown",
      "metadata": {
        "id": "mjuHzGOhO7y8"
      },
      "source": [
        "Si comparamos las diferentes métricas para estimar la regresión, como el Error Absoluto Medio (MAE) o la Raiz del Error Cuadrático Medio (RMSE), teniendo como parametro base las metrícas obtenidas por el Baseline, se puede ver que los valores de error de todos los estimadores, nunca son inferiores a los que se obtuvieron del baseline. Si bien es notorio que algunos tienen un comportamiento muy bueno al performar la regresión, otros fracasan rotundamente. \n",
        " \n",
        " A continuación, mostraremos cuánto es el porcentaje de diferencia entre las métricas del baseline y de los estimadores utilizados. Los mismos serán ordenados del mejor al peor "
      ]
    },
    {
      "cell_type": "markdown",
      "metadata": {
        "id": "-SA0UXyTO7y8"
      },
      "source": [
        "\n",
        "\n",
        "\n",
        "1.   XGBoost\n",
        "* MAE : -9,18%\n",
        "* RMSE : -9,18% \n",
        "2.   Random Forest\n",
        "* MAE : -1,15%\n",
        "* RMSE : -3,73%\n",
        "3.   Desition tree\n",
        "*  MAE: 17,43%\n",
        "* RMSE : 16,03%\n",
        "\n",
        "Comparando estos estimadores, vemos que el XGBoost presenta un MAE y un RMSE 9% más bajo que el Baseline, por lo que es el que mejor regresión ha dado en comparación con los otros estimadores.\n",
        "\n",
        " RandomForest posee un Error Absoluto Medio y un RMSE de 1,15% y 3,7% menores que el baseline, por lo que sigue siendo superior al Baseline, pero no supera al XGBoost. \n",
        "\n",
        " Finalmente el DesitionTree presenta metricas MAE y RMSE del 16% a 17% superiores a la del Baseline, por lo que no sería recomendable utilizar este estimador para la predicción de esta criptomoneda.\n",
        "\n"
      ]
    },
    {
      "cell_type": "markdown",
      "metadata": {
        "id": "WvmhbzkeO7y8"
      },
      "source": [
        "Otro parámetro también medido para cada uno de los estimadores es el coeficiente de determinación R^2 , a través de la función score. \n",
        "\n",
        "De igual manera que la comparación realizada con las otras métricas de regresión, se toma como parametro base el coeficiente de determinación R^2 obtenido del Baseline. Si lo comparamos con los R^2 obtenidos de los estimadores utilizados, posible ver que para XGBoost y Random Forest, los valores de R^2 son entre 0,73% y 1,75% superiores al score del Baseline. \n",
        "\n",
        "-----\n",
        "Valores de R^2: \n",
        "\n",
        "\n",
        "1.   Baseline: 0,9092\n",
        "2.   XGBoost: 0,9251\n",
        "3.   RandomForest: 0,9158\n",
        "4.   Desition Tree: 0,8778\n",
        "\n",
        "Para el caso del DesitionTree, el coeficiente de determinación está por debajo del de Baseline, por lo que no sería de utilidad utilizar este estimador para tareas de regresión en criptomonedas."
      ]
    }
  ],
  "metadata": {
    "kernelspec": {
      "display_name": "Python 3 (ipykernel)",
      "language": "python",
      "name": "python3"
    },
    "language_info": {
      "codemirror_mode": {
        "name": "ipython",
        "version": 3
      },
      "file_extension": ".py",
      "mimetype": "text/x-python",
      "name": "python",
      "nbconvert_exporter": "python",
      "pygments_lexer": "ipython3",
      "version": "3.9.12"
    },
    "colab": {
      "provenance": []
    }
  },
  "nbformat": 4,
  "nbformat_minor": 0
}