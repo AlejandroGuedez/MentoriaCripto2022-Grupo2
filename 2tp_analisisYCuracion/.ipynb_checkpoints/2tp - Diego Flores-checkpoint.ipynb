{
 "cells": [
  {
   "cell_type": "markdown",
   "metadata": {},
   "source": [
    "# Selección de cripto activos para una cartera de inversión"
   ]
  },
  {
   "cell_type": "markdown",
   "metadata": {},
   "source": [
    "![picture](https://drive.google.com/uc?export=view&id=1ihM3JEKP-XPaoX9b5bwymu_IF4ntTlz-)"
   ]
  },
  {
   "cell_type": "markdown",
   "metadata": {},
   "source": [
    "# Trabajo Práctico 2 -  Análisis y Curación"
   ]
  },
  {
   "cell_type": "markdown",
   "metadata": {},
   "source": [
    "## Introducción\n",
    "\n",
    "\n",
    "A lo largo de este práctico continuaremos con la exploración del dataset iniciada en el práctio anterior, donde notamos algunas características propias de las series temporales. \n",
    "Además, vimos que no se trata de series estacionarias y en nuestro caso no apreciamos patrones de estacionalidad para la serie de tiempo de los precios.\n",
    "\n",
    "En la siguiente notebook, se presentan las actividades relacionadas a Análisis y Curación. Buscamos identificar e implementar los pasos necesarios para la limpieza de la base de datos, así como también analizar cruces de datos con mayor profundidad. Para esto, los invito a chequear la siguiente [lista](https://dimewiki.worldbank.org/Checklist:_Data_Cleaning), donde se muestran una serie de puntos a tener en cuenta a la hora de tratar nuestros datos."
   ]
  },
  {
   "cell_type": "markdown",
   "metadata": {},
   "source": [
    "# 📖 ¡Actividades! \n",
    "\n",
    "\n",
    "Recuerden que la ciencia de datos es un proceso no lineal y continuo, es decir, si los datos requieren de mayor procesamiento para satisfacer las necesidades de algoritmos de machine learning, vamos a volver a la etapa inicial para, por ejemplo, crear nuevas features, tomar decisiones diferentes sobre valores faltantes o valores atípicos (outliers), descartar features, entre otras. ¡Manos a la obra!\n",
    "\n",
    "Recomendación: Traten de crear funciones de manera de automatizar la mayor cantidad de pasos posibles. \n",
    "\n",
    "## Parte I \n",
    "\n",
    "- En el práctico anterior trabajamos con un conjunto de datos preprocesados, los invito a inspeccionar el siguiente conjunto de datos (link). Como pueden ver, el sistema que define las fechas no es el mismo que trabajamos durante el práctico anterior, en este caso las fechas se encuetran en tiempo Unix. Investiguen este sistema y convierta las fechas a tipo datetime. \n",
    "Para mayor información pueden ver:\n",
    "    \n",
    "    - [Convertir Epoch a Datetime en Python](https://www.delftstack.com/es/howto/python/python-convert-epoch-to-datetime/)\n",
    "\n",
    "\n",
    "- Indaguen sobre la existencia de valores faltantes. Diferencien entre datos perdidos e inexistentes. Seleccionen un activo y visualicen utilizando la librería Missingno ¿Si uno de los precios falta, también faltan los datos en las demás columnas? ¿Cuál creen que sería la mejor forma de tratarlos? ¿Por qué? Analicen formas de imputarlos, por ejemplo, \n",
    "\n",
    "    - reemplazar el faltante con el valor de la media/mediana,\n",
    "    - utilizar regresión. \n",
    "    - métodos backward/forward fill. \n",
    "    - Splines, etc. \n",
    "    \n",
    "Para mayor información puede ver el siguiente link [Imputación](https://rpubs.com/wilsonsr/804544)\n",
    "\n",
    "**Para discutir:** ¿Cuáles podrían ser las razones de la falta de datos, si es que esto ocurre?\n",
    "\n",
    "\n",
    "- ¿Hay índices repetidos? Resuelvan. \n",
    "\n",
    "\n",
    "- Para aprovechar en mayor medida los datos disponibles, analicen dividir los datos en dos posibles conjuntos de acuerdo a la disponibilidad de información según fechas.\n",
    "\n",
    "\n",
    "- ¿Podría mejorarse la forma en la que está presentada la información? Recuerden que serán necesarios todos los precios de los activos para el cálculo de features. \n",
    "\n",
    "\n",
    "- Seleccionen un activo (y alguna de las columnas referidos a precios) y confeccionen un diagrama de dispersión entre el mismo y su valor retardado un período. Repita el mismo procedimiento con sus valores retardado 2, 3 y 4 períodos. \n",
    "\n",
    "\n",
    "- Grafiquen e interpreten las funciones de autocorrelación (ACF) y autocorrelación parcial (PACF), para el precio del activo elegido en el punto anterior. El siguiente [link](https://machinelearningmastery.com/gentle-introduction-autocorrelation-partial-autocorrelation/) puede ser útil para introducirlos en el tema.\n",
    "\n",
    "\n",
    "## Parte II \n",
    "\n",
    "En esta instancia trabajaremos con algunos features extras que iremos generando a partir de los precios disponibles. Para ello los invito a investigar [talib](http://mrjbq7.github.io/ta-lib/doc_index.html), una de las librerías de python para análisis técnico.\n",
    "\n",
    "- Agreguen la serie de tasas de rendimientos de cada activo. \n",
    "\n",
    "\n",
    "- Calculen las medias móviles de los precios tomando n periodos hacia atrás (n a elección).  \n",
    "\n",
    "\n",
    "- ¿Conocen algunos indicadores técnicos? Entre los más conocidos podemos mencionar: [RSI](https://admiralmarkets.com/es/education/articles/forex-indicators/como-sacar-beneficio-del-indicador-de-trading-rsi), [MADC](https://admiralmarkets.com/es/education/articles/forex-indicators/macd), [ADX](https://economipedia.com/definiciones/indicador-adx-average-directional-index.html), etc... Pueden construirlos o calcularlos a partir de la librería.\n",
    "\n",
    "\n",
    "- Si por ejemplo, una característica tiene una varianza de un orden de magnitud mayor que la de las otras características, podría dominar la función objetivo y hacer que el estimador no pueda aprender de otras características correctamente como se esperaba. Para lograr esto se debe llevar a cabo un escalado o normalizado de datos. ¿Cuál es la diferencia?\n",
    "\n",
    "## Opcional\n",
    "\n",
    "- Para alguno/s de los activos, detecten las correlaciones entre los features generados utilizando la función Heatmap().\n",
    "\n",
    "\n",
    "\n",
    "\n",
    "**¡Recuerde!** \n",
    "\n",
    "Nunca Modificar los Datos Crudos u Originales Al finalizar la limpieza, deberán guardar el dataset resultante, para asegurarse de no modificar los datos originales."
   ]
  },
  {
   "cell_type": "markdown",
   "metadata": {},
   "source": [
    "# Fecha de entrega\n",
    "\n",
    "- __Versión preliminar: 17/6__ "
   ]
  },
  {
   "cell_type": "markdown",
   "metadata": {},
   "source": [
    "# Condiciones de entrega\n",
    "\n",
    "Realizar un informe en el cual se presenten los resultados y conclusiones del análisis desarrollado. El mismo debe estar pensado para un público técnico pero que desconoce los aspectos propios del problema a resolver. Dicho informe puede ser un notebook, a condición de que en el mismo se efectúe un análisis escrito suficientemente detallado de los resultados. "
   ]
  },
  {
   "cell_type": "code",
   "execution_count": 1,
   "metadata": {},
   "outputs": [],
   "source": [
    "import pandas as pd\n",
    "import numpy as np\n",
    "\n",
    "from plotly.offline import init_notebook_mode, iplot\n",
    "import plotly.graph_objs as go\n",
    "import matplotlib.pyplot as plt\n",
    "\n",
    "from scipy.stats import norm\n",
    "from statsmodels.tsa.stattools import adfuller\n",
    "from statsmodels.graphics.tsaplots import plot_acf, plot_pacf\n",
    "from statsmodels.tsa.arima_process import ArmaProcess\n",
    "from pylab import rcParams\n",
    "import statsmodels.api as sm\n",
    "\n",
    "from sklearn.preprocessing import MinMaxScaler\n",
    "\n",
    "import seaborn as sns\n",
    "import os\n",
    "import time\n",
    "import missingno as msno\n",
    "\n",
    "\n",
    "import warnings\n",
    "warnings.filterwarnings(\"ignore\") "
   ]
  },
  {
   "cell_type": "markdown",
   "metadata": {},
   "source": [
    "Importamos la funcion \"create_dataframe\" que creamos en el primer práctico para poder leer todos los archivos e unirlos en un solo dataframe"
   ]
  },
  {
   "cell_type": "code",
   "execution_count": 2,
   "metadata": {},
   "outputs": [],
   "source": [
    "def create_dataFrame(path):\n",
    "    df = pd.DataFrame()\n",
    "    files_list = os.listdir(path)\n",
    "    for file in files_list:\n",
    "        file_path = path + '/' + file\n",
    "        if os.path.isfile(file_path):\n",
    "            if df.empty:\n",
    "                df = active_name(file_path, file)\n",
    "            else:\n",
    "                df = pd.concat([df, active_name(file_path, file)], axis = 0)\n",
    "    return df     \n",
    "\n",
    "def active_name(file, name):\n",
    "    try:\n",
    "        df = pd.read_csv(file,\n",
    "                      index_col = 0,\n",
    "                         #parse_dates = True, \n",
    "                         #dayfirst = True\n",
    "                        )\n",
    "        df.loc[:, 'active'] = name[:-4]\n",
    "        return df\n",
    "    except:\n",
    "        print('Error en %s'% file)"
   ]
  },
  {
   "cell_type": "markdown",
   "metadata": {},
   "source": [
    "# Parte I"
   ]
  },
  {
   "cell_type": "markdown",
   "metadata": {},
   "source": [
    "En este caso leemos los archivos de la carpeta raw_data, para simular que recibimos los archivos directamente desde la fuente, y asi poder transformar el índice que se encuentra en formato Unix en datetime."
   ]
  },
  {
   "cell_type": "code",
   "execution_count": 3,
   "metadata": {},
   "outputs": [
    {
     "data": {
      "text/plain": [
       "((116390, 6),\n",
       "                 open    high     low   close     volume   active\n",
       " unix                                                            \n",
       " 1.546312e+12  5.9317  5.9546  5.8500  5.9503  251674.71  BNBUSDT\n",
       " 1.546326e+12  5.9439  5.9707  5.8808  5.9439  242875.60  BNBUSDT\n",
       " 1.546340e+12  5.9440  5.9793  5.8887  5.8948  172789.33  BNBUSDT\n",
       " 1.546355e+12  5.8942  5.8948  5.7735  5.8109  153940.65  BNBUSDT\n",
       " 1.546369e+12  5.8011  5.9451  5.8010  5.9148  202066.15  BNBUSDT\n",
       " 1.546384e+12  5.9148  6.0000  5.9006  5.9749  217243.81  BNBUSDT\n",
       " 1.546398e+12  5.9754  5.9952  5.8528  5.8576  176959.11  BNBUSDT\n",
       " 1.546412e+12  5.8548  5.9350  5.8371  5.9004  458312.05  BNBUSDT\n",
       " 1.546427e+12  5.9005  5.9500  5.8757  5.9104  418948.13  BNBUSDT\n",
       " 1.546441e+12  5.9076  6.0000  5.8910  5.9475  349169.51  BNBUSDT)"
      ]
     },
     "execution_count": 3,
     "metadata": {},
     "output_type": "execute_result"
    }
   ],
   "source": [
    "df_all = create_dataFrame('../raw_data/')\n",
    "df_all.shape, df_all.head(10)"
   ]
  },
  {
   "cell_type": "markdown",
   "metadata": {},
   "source": [
    "set(df_all.active)Verificamos la lista de activos que cargamos en el dataframe unico."
   ]
  },
  {
   "cell_type": "code",
   "execution_count": 4,
   "metadata": {},
   "outputs": [
    {
     "data": {
      "text/plain": [
       "{'AAVEUSDT',\n",
       " 'ADAUSDT',\n",
       " 'AXSUSDT',\n",
       " 'BCHUSDT',\n",
       " 'BNBUSDT',\n",
       " 'BTCUSDT',\n",
       " 'COMPUSDT',\n",
       " 'DASHUSDT',\n",
       " 'DOGEUSDT',\n",
       " 'DOTUSDT',\n",
       " 'EOSUSDT',\n",
       " 'ETCUSDT',\n",
       " 'ETHUSDT',\n",
       " 'LINKUSDT',\n",
       " 'LTCUSDT',\n",
       " 'LUNAUSDT',\n",
       " 'NEOUSDT',\n",
       " 'XMRUSDT',\n",
       " 'XRPUSDT'}"
      ]
     },
     "execution_count": 4,
     "metadata": {},
     "output_type": "execute_result"
    }
   ],
   "source": [
    "set(df_all.active)"
   ]
  },
  {
   "cell_type": "markdown",
   "metadata": {},
   "source": [
    "Para transformar el índice en formato datetime, utilizaremos la función to_datetime que pertenece a Pandas, y permite ingresar la fecha en formato de milisegundos de Unix y poder transformarlo a un lenguaje más legible."
   ]
  },
  {
   "cell_type": "code",
   "execution_count": 5,
   "metadata": {},
   "outputs": [
    {
     "data": {
      "text/html": [
       "<div>\n",
       "<style scoped>\n",
       "    .dataframe tbody tr th:only-of-type {\n",
       "        vertical-align: middle;\n",
       "    }\n",
       "\n",
       "    .dataframe tbody tr th {\n",
       "        vertical-align: top;\n",
       "    }\n",
       "\n",
       "    .dataframe thead th {\n",
       "        text-align: right;\n",
       "    }\n",
       "</style>\n",
       "<table border=\"1\" class=\"dataframe\">\n",
       "  <thead>\n",
       "    <tr style=\"text-align: right;\">\n",
       "      <th></th>\n",
       "      <th>open</th>\n",
       "      <th>high</th>\n",
       "      <th>low</th>\n",
       "      <th>close</th>\n",
       "      <th>volume</th>\n",
       "      <th>active</th>\n",
       "    </tr>\n",
       "    <tr>\n",
       "      <th>unix</th>\n",
       "      <th></th>\n",
       "      <th></th>\n",
       "      <th></th>\n",
       "      <th></th>\n",
       "      <th></th>\n",
       "      <th></th>\n",
       "    </tr>\n",
       "  </thead>\n",
       "  <tbody>\n",
       "    <tr>\n",
       "      <th>2019-01-01 03:00:00</th>\n",
       "      <td>5.9317</td>\n",
       "      <td>5.9546</td>\n",
       "      <td>5.8500</td>\n",
       "      <td>5.9503</td>\n",
       "      <td>251674.710</td>\n",
       "      <td>BNBUSDT</td>\n",
       "    </tr>\n",
       "    <tr>\n",
       "      <th>2019-01-01 07:00:00</th>\n",
       "      <td>5.9439</td>\n",
       "      <td>5.9707</td>\n",
       "      <td>5.8808</td>\n",
       "      <td>5.9439</td>\n",
       "      <td>242875.600</td>\n",
       "      <td>BNBUSDT</td>\n",
       "    </tr>\n",
       "    <tr>\n",
       "      <th>2019-01-01 11:00:00</th>\n",
       "      <td>5.9440</td>\n",
       "      <td>5.9793</td>\n",
       "      <td>5.8887</td>\n",
       "      <td>5.8948</td>\n",
       "      <td>172789.330</td>\n",
       "      <td>BNBUSDT</td>\n",
       "    </tr>\n",
       "    <tr>\n",
       "      <th>2019-01-01 15:00:00</th>\n",
       "      <td>5.8942</td>\n",
       "      <td>5.8948</td>\n",
       "      <td>5.7735</td>\n",
       "      <td>5.8109</td>\n",
       "      <td>153940.650</td>\n",
       "      <td>BNBUSDT</td>\n",
       "    </tr>\n",
       "    <tr>\n",
       "      <th>2019-01-01 19:00:00</th>\n",
       "      <td>5.8011</td>\n",
       "      <td>5.9451</td>\n",
       "      <td>5.8010</td>\n",
       "      <td>5.9148</td>\n",
       "      <td>202066.150</td>\n",
       "      <td>BNBUSDT</td>\n",
       "    </tr>\n",
       "    <tr>\n",
       "      <th>...</th>\n",
       "      <td>...</td>\n",
       "      <td>...</td>\n",
       "      <td>...</td>\n",
       "      <td>...</td>\n",
       "      <td>...</td>\n",
       "      <td>...</td>\n",
       "    </tr>\n",
       "    <tr>\n",
       "      <th>2022-05-04 23:00:00</th>\n",
       "      <td>114.8000</td>\n",
       "      <td>116.6000</td>\n",
       "      <td>114.6000</td>\n",
       "      <td>116.2000</td>\n",
       "      <td>4948.635</td>\n",
       "      <td>COMPUSDT</td>\n",
       "    </tr>\n",
       "    <tr>\n",
       "      <th>2022-05-05 03:00:00</th>\n",
       "      <td>116.1000</td>\n",
       "      <td>117.2000</td>\n",
       "      <td>113.4000</td>\n",
       "      <td>114.1000</td>\n",
       "      <td>4401.759</td>\n",
       "      <td>COMPUSDT</td>\n",
       "    </tr>\n",
       "    <tr>\n",
       "      <th>2022-05-05 07:00:00</th>\n",
       "      <td>113.9000</td>\n",
       "      <td>115.1000</td>\n",
       "      <td>112.5000</td>\n",
       "      <td>114.6000</td>\n",
       "      <td>4563.413</td>\n",
       "      <td>COMPUSDT</td>\n",
       "    </tr>\n",
       "    <tr>\n",
       "      <th>2022-05-05 11:00:00</th>\n",
       "      <td>114.5000</td>\n",
       "      <td>116.2000</td>\n",
       "      <td>107.4000</td>\n",
       "      <td>108.0000</td>\n",
       "      <td>16761.492</td>\n",
       "      <td>COMPUSDT</td>\n",
       "    </tr>\n",
       "    <tr>\n",
       "      <th>2022-05-05 15:00:00</th>\n",
       "      <td>107.9000</td>\n",
       "      <td>NaN</td>\n",
       "      <td>NaN</td>\n",
       "      <td>NaN</td>\n",
       "      <td>NaN</td>\n",
       "      <td>COMPUSDT</td>\n",
       "    </tr>\n",
       "  </tbody>\n",
       "</table>\n",
       "<p>116390 rows × 6 columns</p>\n",
       "</div>"
      ],
      "text/plain": [
       "                         open      high       low     close      volume  \\\n",
       "unix                                                                      \n",
       "2019-01-01 03:00:00    5.9317    5.9546    5.8500    5.9503  251674.710   \n",
       "2019-01-01 07:00:00    5.9439    5.9707    5.8808    5.9439  242875.600   \n",
       "2019-01-01 11:00:00    5.9440    5.9793    5.8887    5.8948  172789.330   \n",
       "2019-01-01 15:00:00    5.8942    5.8948    5.7735    5.8109  153940.650   \n",
       "2019-01-01 19:00:00    5.8011    5.9451    5.8010    5.9148  202066.150   \n",
       "...                       ...       ...       ...       ...         ...   \n",
       "2022-05-04 23:00:00  114.8000  116.6000  114.6000  116.2000    4948.635   \n",
       "2022-05-05 03:00:00  116.1000  117.2000  113.4000  114.1000    4401.759   \n",
       "2022-05-05 07:00:00  113.9000  115.1000  112.5000  114.6000    4563.413   \n",
       "2022-05-05 11:00:00  114.5000  116.2000  107.4000  108.0000   16761.492   \n",
       "2022-05-05 15:00:00  107.9000       NaN       NaN       NaN         NaN   \n",
       "\n",
       "                       active  \n",
       "unix                           \n",
       "2019-01-01 03:00:00   BNBUSDT  \n",
       "2019-01-01 07:00:00   BNBUSDT  \n",
       "2019-01-01 11:00:00   BNBUSDT  \n",
       "2019-01-01 15:00:00   BNBUSDT  \n",
       "2019-01-01 19:00:00   BNBUSDT  \n",
       "...                       ...  \n",
       "2022-05-04 23:00:00  COMPUSDT  \n",
       "2022-05-05 03:00:00  COMPUSDT  \n",
       "2022-05-05 07:00:00  COMPUSDT  \n",
       "2022-05-05 11:00:00  COMPUSDT  \n",
       "2022-05-05 15:00:00  COMPUSDT  \n",
       "\n",
       "[116390 rows x 6 columns]"
      ]
     },
     "execution_count": 5,
     "metadata": {},
     "output_type": "execute_result"
    }
   ],
   "source": [
    "df_all.index = pd.to_datetime(df_all.index.map(int), unit = 'ms', origin = 'unix')\n",
    "df_all"
   ]
  },
  {
   "cell_type": "markdown",
   "metadata": {},
   "source": [
    "Vamos a agregar al dataframe las columnas de dia, mes, año, dia de la semana, profit y volumen real, para facilitar su análisis posteriormente."
   ]
  },
  {
   "cell_type": "code",
   "execution_count": 6,
   "metadata": {},
   "outputs": [
    {
     "data": {
      "text/html": [
       "<div>\n",
       "<style scoped>\n",
       "    .dataframe tbody tr th:only-of-type {\n",
       "        vertical-align: middle;\n",
       "    }\n",
       "\n",
       "    .dataframe tbody tr th {\n",
       "        vertical-align: top;\n",
       "    }\n",
       "\n",
       "    .dataframe thead th {\n",
       "        text-align: right;\n",
       "    }\n",
       "</style>\n",
       "<table border=\"1\" class=\"dataframe\">\n",
       "  <thead>\n",
       "    <tr style=\"text-align: right;\">\n",
       "      <th></th>\n",
       "      <th>open</th>\n",
       "      <th>high</th>\n",
       "      <th>low</th>\n",
       "      <th>close</th>\n",
       "      <th>volume</th>\n",
       "      <th>active</th>\n",
       "      <th>day</th>\n",
       "      <th>month</th>\n",
       "      <th>year</th>\n",
       "      <th>weekday</th>\n",
       "      <th>profit</th>\n",
       "    </tr>\n",
       "    <tr>\n",
       "      <th>unix</th>\n",
       "      <th></th>\n",
       "      <th></th>\n",
       "      <th></th>\n",
       "      <th></th>\n",
       "      <th></th>\n",
       "      <th></th>\n",
       "      <th></th>\n",
       "      <th></th>\n",
       "      <th></th>\n",
       "      <th></th>\n",
       "      <th></th>\n",
       "    </tr>\n",
       "  </thead>\n",
       "  <tbody>\n",
       "    <tr>\n",
       "      <th>2019-01-01 03:00:00</th>\n",
       "      <td>5.9317</td>\n",
       "      <td>5.9546</td>\n",
       "      <td>5.8500</td>\n",
       "      <td>5.9503</td>\n",
       "      <td>251674.71</td>\n",
       "      <td>BNBUSDT</td>\n",
       "      <td>1</td>\n",
       "      <td>1</td>\n",
       "      <td>2019</td>\n",
       "      <td>Tuesday</td>\n",
       "      <td>0.313569</td>\n",
       "    </tr>\n",
       "    <tr>\n",
       "      <th>2019-01-01 07:00:00</th>\n",
       "      <td>5.9439</td>\n",
       "      <td>5.9707</td>\n",
       "      <td>5.8808</td>\n",
       "      <td>5.9439</td>\n",
       "      <td>242875.60</td>\n",
       "      <td>BNBUSDT</td>\n",
       "      <td>1</td>\n",
       "      <td>1</td>\n",
       "      <td>2019</td>\n",
       "      <td>Tuesday</td>\n",
       "      <td>0.000000</td>\n",
       "    </tr>\n",
       "    <tr>\n",
       "      <th>2019-01-01 11:00:00</th>\n",
       "      <td>5.9440</td>\n",
       "      <td>5.9793</td>\n",
       "      <td>5.8887</td>\n",
       "      <td>5.8948</td>\n",
       "      <td>172789.33</td>\n",
       "      <td>BNBUSDT</td>\n",
       "      <td>1</td>\n",
       "      <td>1</td>\n",
       "      <td>2019</td>\n",
       "      <td>Tuesday</td>\n",
       "      <td>-0.827725</td>\n",
       "    </tr>\n",
       "    <tr>\n",
       "      <th>2019-01-01 15:00:00</th>\n",
       "      <td>5.8942</td>\n",
       "      <td>5.8948</td>\n",
       "      <td>5.7735</td>\n",
       "      <td>5.8109</td>\n",
       "      <td>153940.65</td>\n",
       "      <td>BNBUSDT</td>\n",
       "      <td>1</td>\n",
       "      <td>1</td>\n",
       "      <td>2019</td>\n",
       "      <td>Tuesday</td>\n",
       "      <td>-1.413254</td>\n",
       "    </tr>\n",
       "    <tr>\n",
       "      <th>2019-01-01 19:00:00</th>\n",
       "      <td>5.8011</td>\n",
       "      <td>5.9451</td>\n",
       "      <td>5.8010</td>\n",
       "      <td>5.9148</td>\n",
       "      <td>202066.15</td>\n",
       "      <td>BNBUSDT</td>\n",
       "      <td>1</td>\n",
       "      <td>1</td>\n",
       "      <td>2019</td>\n",
       "      <td>Tuesday</td>\n",
       "      <td>1.959973</td>\n",
       "    </tr>\n",
       "    <tr>\n",
       "      <th>2019-01-01 23:00:00</th>\n",
       "      <td>5.9148</td>\n",
       "      <td>6.0000</td>\n",
       "      <td>5.9006</td>\n",
       "      <td>5.9749</td>\n",
       "      <td>217243.81</td>\n",
       "      <td>BNBUSDT</td>\n",
       "      <td>1</td>\n",
       "      <td>1</td>\n",
       "      <td>2019</td>\n",
       "      <td>Tuesday</td>\n",
       "      <td>1.016095</td>\n",
       "    </tr>\n",
       "    <tr>\n",
       "      <th>2019-01-02 03:00:00</th>\n",
       "      <td>5.9754</td>\n",
       "      <td>5.9952</td>\n",
       "      <td>5.8528</td>\n",
       "      <td>5.8576</td>\n",
       "      <td>176959.11</td>\n",
       "      <td>BNBUSDT</td>\n",
       "      <td>2</td>\n",
       "      <td>1</td>\n",
       "      <td>2019</td>\n",
       "      <td>Wednesday</td>\n",
       "      <td>-1.971416</td>\n",
       "    </tr>\n",
       "    <tr>\n",
       "      <th>2019-01-02 07:00:00</th>\n",
       "      <td>5.8548</td>\n",
       "      <td>5.9350</td>\n",
       "      <td>5.8371</td>\n",
       "      <td>5.9004</td>\n",
       "      <td>458312.05</td>\n",
       "      <td>BNBUSDT</td>\n",
       "      <td>2</td>\n",
       "      <td>1</td>\n",
       "      <td>2019</td>\n",
       "      <td>Wednesday</td>\n",
       "      <td>0.778848</td>\n",
       "    </tr>\n",
       "    <tr>\n",
       "      <th>2019-01-02 11:00:00</th>\n",
       "      <td>5.9005</td>\n",
       "      <td>5.9500</td>\n",
       "      <td>5.8757</td>\n",
       "      <td>5.9104</td>\n",
       "      <td>418948.13</td>\n",
       "      <td>BNBUSDT</td>\n",
       "      <td>2</td>\n",
       "      <td>1</td>\n",
       "      <td>2019</td>\n",
       "      <td>Wednesday</td>\n",
       "      <td>0.167782</td>\n",
       "    </tr>\n",
       "    <tr>\n",
       "      <th>2019-01-02 15:00:00</th>\n",
       "      <td>5.9076</td>\n",
       "      <td>6.0000</td>\n",
       "      <td>5.8910</td>\n",
       "      <td>5.9475</td>\n",
       "      <td>349169.51</td>\n",
       "      <td>BNBUSDT</td>\n",
       "      <td>2</td>\n",
       "      <td>1</td>\n",
       "      <td>2019</td>\n",
       "      <td>Wednesday</td>\n",
       "      <td>0.675401</td>\n",
       "    </tr>\n",
       "  </tbody>\n",
       "</table>\n",
       "</div>"
      ],
      "text/plain": [
       "                       open    high     low   close     volume   active  day  \\\n",
       "unix                                                                           \n",
       "2019-01-01 03:00:00  5.9317  5.9546  5.8500  5.9503  251674.71  BNBUSDT    1   \n",
       "2019-01-01 07:00:00  5.9439  5.9707  5.8808  5.9439  242875.60  BNBUSDT    1   \n",
       "2019-01-01 11:00:00  5.9440  5.9793  5.8887  5.8948  172789.33  BNBUSDT    1   \n",
       "2019-01-01 15:00:00  5.8942  5.8948  5.7735  5.8109  153940.65  BNBUSDT    1   \n",
       "2019-01-01 19:00:00  5.8011  5.9451  5.8010  5.9148  202066.15  BNBUSDT    1   \n",
       "2019-01-01 23:00:00  5.9148  6.0000  5.9006  5.9749  217243.81  BNBUSDT    1   \n",
       "2019-01-02 03:00:00  5.9754  5.9952  5.8528  5.8576  176959.11  BNBUSDT    2   \n",
       "2019-01-02 07:00:00  5.8548  5.9350  5.8371  5.9004  458312.05  BNBUSDT    2   \n",
       "2019-01-02 11:00:00  5.9005  5.9500  5.8757  5.9104  418948.13  BNBUSDT    2   \n",
       "2019-01-02 15:00:00  5.9076  6.0000  5.8910  5.9475  349169.51  BNBUSDT    2   \n",
       "\n",
       "                     month  year    weekday    profit  \n",
       "unix                                                   \n",
       "2019-01-01 03:00:00      1  2019    Tuesday  0.313569  \n",
       "2019-01-01 07:00:00      1  2019    Tuesday  0.000000  \n",
       "2019-01-01 11:00:00      1  2019    Tuesday -0.827725  \n",
       "2019-01-01 15:00:00      1  2019    Tuesday -1.413254  \n",
       "2019-01-01 19:00:00      1  2019    Tuesday  1.959973  \n",
       "2019-01-01 23:00:00      1  2019    Tuesday  1.016095  \n",
       "2019-01-02 03:00:00      1  2019  Wednesday -1.971416  \n",
       "2019-01-02 07:00:00      1  2019  Wednesday  0.778848  \n",
       "2019-01-02 11:00:00      1  2019  Wednesday  0.167782  \n",
       "2019-01-02 15:00:00      1  2019  Wednesday  0.675401  "
      ]
     },
     "execution_count": 6,
     "metadata": {},
     "output_type": "execute_result"
    }
   ],
   "source": [
    "df_all['day'] = df_all.index.day\n",
    "df_all['month'] = df_all.index.month\n",
    "df_all['year'] = df_all.index.year\n",
    "df_all['weekday'] = df_all.index.day_name()\n",
    "df_all['profit'] = 100*(df_all['close'] - df_all['open']) / df_all['open']\n",
    "df_all.head(10)"
   ]
  },
  {
   "cell_type": "markdown",
   "metadata": {},
   "source": [
    "Creamos la funcion \"status\" que recibe como parámetro un dataframe y permite identificar facilmente la cantidad de filas, los valores faltantes por fila, la cantidad de ceros, valores únicos y los tipos de datos"
   ]
  },
  {
   "cell_type": "code",
   "execution_count": 7,
   "metadata": {},
   "outputs": [],
   "source": [
    "def status(data):\n",
    "\n",
    "    data2=data \n",
    "    # total de rows\n",
    "    tot_rows=len(data2)\n",
    "    # total de nan\n",
    "    d2=data2.isnull().sum().reset_index()\n",
    "    d2.columns=['variable', 'q_nan']\n",
    "    # percentage of nan\n",
    "    d2[['p_nan']]=d2[['q_nan']]/tot_rows\n",
    "    # num of zeros\n",
    "    d2['q_zeros']=(data2==0).sum().values\n",
    "    # perc of zeros\n",
    "    d2['p_zeros']=d2[['q_zeros']]/tot_rows\n",
    "    # total unique values\n",
    "    d2['unique']=data2.nunique().values\n",
    "    # get data types per column\n",
    "    d2['type']=[str(x) for x in data2.dtypes.values]\n",
    "    \n",
    "    return(d2)"
   ]
  },
  {
   "cell_type": "code",
   "execution_count": 8,
   "metadata": {},
   "outputs": [
    {
     "data": {
      "text/html": [
       "<div>\n",
       "<style scoped>\n",
       "    .dataframe tbody tr th:only-of-type {\n",
       "        vertical-align: middle;\n",
       "    }\n",
       "\n",
       "    .dataframe tbody tr th {\n",
       "        vertical-align: top;\n",
       "    }\n",
       "\n",
       "    .dataframe thead th {\n",
       "        text-align: right;\n",
       "    }\n",
       "</style>\n",
       "<table border=\"1\" class=\"dataframe\">\n",
       "  <thead>\n",
       "    <tr style=\"text-align: right;\">\n",
       "      <th></th>\n",
       "      <th>variable</th>\n",
       "      <th>q_nan</th>\n",
       "      <th>p_nan</th>\n",
       "      <th>q_zeros</th>\n",
       "      <th>p_zeros</th>\n",
       "      <th>unique</th>\n",
       "      <th>type</th>\n",
       "    </tr>\n",
       "  </thead>\n",
       "  <tbody>\n",
       "    <tr>\n",
       "      <th>0</th>\n",
       "      <td>open</td>\n",
       "      <td>0</td>\n",
       "      <td>0.000000</td>\n",
       "      <td>0</td>\n",
       "      <td>0.000000</td>\n",
       "      <td>82819</td>\n",
       "      <td>float64</td>\n",
       "    </tr>\n",
       "    <tr>\n",
       "      <th>1</th>\n",
       "      <td>high</td>\n",
       "      <td>274</td>\n",
       "      <td>0.002354</td>\n",
       "      <td>0</td>\n",
       "      <td>0.000000</td>\n",
       "      <td>77285</td>\n",
       "      <td>float64</td>\n",
       "    </tr>\n",
       "    <tr>\n",
       "      <th>2</th>\n",
       "      <td>low</td>\n",
       "      <td>274</td>\n",
       "      <td>0.002354</td>\n",
       "      <td>0</td>\n",
       "      <td>0.000000</td>\n",
       "      <td>77364</td>\n",
       "      <td>float64</td>\n",
       "    </tr>\n",
       "    <tr>\n",
       "      <th>3</th>\n",
       "      <td>close</td>\n",
       "      <td>274</td>\n",
       "      <td>0.002354</td>\n",
       "      <td>0</td>\n",
       "      <td>0.000000</td>\n",
       "      <td>82547</td>\n",
       "      <td>float64</td>\n",
       "    </tr>\n",
       "    <tr>\n",
       "      <th>4</th>\n",
       "      <td>volume</td>\n",
       "      <td>274</td>\n",
       "      <td>0.002354</td>\n",
       "      <td>0</td>\n",
       "      <td>0.000000</td>\n",
       "      <td>116113</td>\n",
       "      <td>float64</td>\n",
       "    </tr>\n",
       "    <tr>\n",
       "      <th>5</th>\n",
       "      <td>active</td>\n",
       "      <td>0</td>\n",
       "      <td>0.000000</td>\n",
       "      <td>0</td>\n",
       "      <td>0.000000</td>\n",
       "      <td>19</td>\n",
       "      <td>object</td>\n",
       "    </tr>\n",
       "    <tr>\n",
       "      <th>6</th>\n",
       "      <td>day</td>\n",
       "      <td>0</td>\n",
       "      <td>0.000000</td>\n",
       "      <td>0</td>\n",
       "      <td>0.000000</td>\n",
       "      <td>31</td>\n",
       "      <td>int64</td>\n",
       "    </tr>\n",
       "    <tr>\n",
       "      <th>7</th>\n",
       "      <td>month</td>\n",
       "      <td>0</td>\n",
       "      <td>0.000000</td>\n",
       "      <td>0</td>\n",
       "      <td>0.000000</td>\n",
       "      <td>12</td>\n",
       "      <td>int64</td>\n",
       "    </tr>\n",
       "    <tr>\n",
       "      <th>8</th>\n",
       "      <td>year</td>\n",
       "      <td>0</td>\n",
       "      <td>0.000000</td>\n",
       "      <td>0</td>\n",
       "      <td>0.000000</td>\n",
       "      <td>4</td>\n",
       "      <td>int64</td>\n",
       "    </tr>\n",
       "    <tr>\n",
       "      <th>9</th>\n",
       "      <td>weekday</td>\n",
       "      <td>0</td>\n",
       "      <td>0.000000</td>\n",
       "      <td>0</td>\n",
       "      <td>0.000000</td>\n",
       "      <td>7</td>\n",
       "      <td>object</td>\n",
       "    </tr>\n",
       "    <tr>\n",
       "      <th>10</th>\n",
       "      <td>profit</td>\n",
       "      <td>274</td>\n",
       "      <td>0.002354</td>\n",
       "      <td>449</td>\n",
       "      <td>0.003858</td>\n",
       "      <td>115005</td>\n",
       "      <td>float64</td>\n",
       "    </tr>\n",
       "  </tbody>\n",
       "</table>\n",
       "</div>"
      ],
      "text/plain": [
       "   variable  q_nan     p_nan  q_zeros   p_zeros  unique     type\n",
       "0      open      0  0.000000        0  0.000000   82819  float64\n",
       "1      high    274  0.002354        0  0.000000   77285  float64\n",
       "2       low    274  0.002354        0  0.000000   77364  float64\n",
       "3     close    274  0.002354        0  0.000000   82547  float64\n",
       "4    volume    274  0.002354        0  0.000000  116113  float64\n",
       "5    active      0  0.000000        0  0.000000      19   object\n",
       "6       day      0  0.000000        0  0.000000      31    int64\n",
       "7     month      0  0.000000        0  0.000000      12    int64\n",
       "8      year      0  0.000000        0  0.000000       4    int64\n",
       "9   weekday      0  0.000000        0  0.000000       7   object\n",
       "10   profit    274  0.002354      449  0.003858  115005  float64"
      ]
     },
     "execution_count": 8,
     "metadata": {},
     "output_type": "execute_result"
    }
   ],
   "source": [
    "status(df_all)"
   ]
  },
  {
   "cell_type": "markdown",
   "metadata": {},
   "source": [
    "Como resultado vemos que las columnas high, low, close, volume, profit y real_volume tienen valores faltantes, pero en relacion a la cantidad de datos el porcentaje es muy bajo. Consideramos que es importante completar estas filas de datos faltantes utilizando alguna función de imputación, ya que al ser series temporales, es importante tener los datos completos. La imputación de datos faltantes no la haremos en esta notebook debido a que necesita una mayor profundidad de análisis para ver que método de imputación es el adecuado."
   ]
  },
  {
   "cell_type": "code",
   "execution_count": 9,
   "metadata": {},
   "outputs": [
    {
     "name": "stdout",
     "output_type": "stream",
     "text": [
      "La moneda BCHUSDT tiene valores entre 2019-11-28 11:00:00 y 2022-05-05 15:00:00\n",
      "La moneda ETCUSDT tiene valores entre 2019-01-01 03:00:00 y 2022-05-05 15:00:00\n",
      "La moneda LUNAUSDT tiene valores entre 2020-08-21 11:00:00 y 2022-05-05 15:00:00\n",
      "La moneda AAVEUSDT tiene valores entre 2020-10-15 03:00:00 y 2022-05-05 15:00:00\n",
      "La moneda BTCUSDT tiene valores entre 2019-01-01 03:00:00 y 2022-05-05 15:00:00\n",
      "La moneda XRPUSDT tiene valores entre 2019-01-01 03:00:00 y 2022-05-05 15:00:00\n",
      "La moneda DOTUSDT tiene valores entre 2020-08-18 23:00:00 y 2022-05-05 15:00:00\n",
      "La moneda BNBUSDT tiene valores entre 2019-01-01 03:00:00 y 2022-05-05 15:00:00\n",
      "La moneda AXSUSDT tiene valores entre 2020-11-04 15:00:00 y 2022-05-05 15:00:00\n",
      "La moneda ETHUSDT tiene valores entre 2019-01-01 03:00:00 y 2022-05-05 15:00:00\n",
      "La moneda LINKUSDT tiene valores entre 2019-01-16 11:00:00 y 2022-05-05 15:00:00\n",
      "La moneda XMRUSDT tiene valores entre 2019-03-15 07:00:00 y 2022-05-05 15:00:00\n",
      "La moneda DASHUSDT tiene valores entre 2019-03-28 07:00:00 y 2022-05-05 15:00:00\n",
      "La moneda LTCUSDT tiene valores entre 2019-01-01 03:00:00 y 2022-05-05 15:00:00\n",
      "La moneda ADAUSDT tiene valores entre 2019-01-01 03:00:00 y 2022-05-05 15:00:00\n",
      "La moneda DOGEUSDT tiene valores entre 2019-07-05 15:00:00 y 2022-05-05 15:00:00\n",
      "La moneda EOSUSDT tiene valores entre 2019-01-01 03:00:00 y 2022-05-05 15:00:00\n",
      "La moneda NEOUSDT tiene valores entre 2019-01-01 03:00:00 y 2022-05-05 15:00:00\n",
      "La moneda COMPUSDT tiene valores entre 2020-06-25 07:00:00 y 2022-05-05 15:00:00\n"
     ]
    }
   ],
   "source": [
    "for cripto in set(df_all.active):\n",
    "    print(\"La moneda {} tiene valores entre {} y {}\".format(cripto, df_all[df_all.active == cripto].index.min(), df_all[df_all.active == cripto].index.max()))"
   ]
  },
  {
   "cell_type": "markdown",
   "metadata": {},
   "source": [
    "Aqui podemos ver un poco mejor el período de análisis de cada activo, y vemos que no todos empiezan desde la misma fecha, por lo que luego hay que analizar que período considerar para que sea uniforme para todos los activos."
   ]
  },
  {
   "cell_type": "markdown",
   "metadata": {},
   "source": [
    "# Outliers"
   ]
  },
  {
   "cell_type": "markdown",
   "metadata": {},
   "source": [
    "Definimos la funcion \"quantil\" que devuelve los cuantiles 25 y 75 de la columna analizada. Vamos a utilizar la técnica de cuantiles para poder identificar posibles outliers en los datos, y luego analizaremos que hacer con ellos."
   ]
  },
  {
   "cell_type": "code",
   "execution_count": 10,
   "metadata": {
    "id": "raLIHtSh0lk8"
   },
   "outputs": [],
   "source": [
    "def quantil(x):\n",
    "    return x.quantile(0.25)[0], x.quantile(0.75)[0]"
   ]
  },
  {
   "cell_type": "code",
   "execution_count": 11,
   "metadata": {
    "colab": {
     "base_uri": "https://localhost:8080/"
    },
    "id": "6JThPS6HTB9Q",
    "outputId": "a765539d-8fb5-45ce-d630-502c09c072df"
   },
   "outputs": [
    {
     "name": "stdout",
     "output_type": "stream",
     "text": [
      "Para la cripto BCHUSDT hay en total 127 outliers de un total de 5328\n",
      "Para la cripto ETCUSDT hay en total 118 outliers de un total de 7307\n",
      "Para la cripto LUNAUSDT hay en total 0 outliers de un total de 3729\n",
      "Para la cripto AAVEUSDT hay en total 1 outliers de un total de 3401\n",
      "Para la cripto BTCUSDT hay en total 0 outliers de un total de 7307\n",
      "Para la cripto XRPUSDT hay en total 109 outliers de un total de 7307\n",
      "Para la cripto DOTUSDT hay en total 0 outliers de un total de 3744\n",
      "Para la cripto BNBUSDT hay en total 0 outliers de un total de 7307\n",
      "Para la cripto AXSUSDT hay en total 0 outliers de un total de 3278\n",
      "Para la cripto ETHUSDT hay en total 0 outliers de un total de 7307\n",
      "Para la cripto LINKUSDT hay en total 13 outliers de un total de 7215\n",
      "Para la cripto XMRUSDT hay en total 28 outliers de un total de 6870\n",
      "Para la cripto DASHUSDT hay en total 235 outliers de un total de 6792\n",
      "Para la cripto LTCUSDT hay en total 94 outliers de un total de 7307\n",
      "Para la cripto ADAUSDT hay en total 25 outliers de un total de 7307\n",
      "Para la cripto DOGEUSDT hay en total 93 outliers de un total de 6199\n",
      "Para la cripto EOSUSDT hay en total 221 outliers de un total de 7307\n",
      "Para la cripto NEOUSDT hay en total 389 outliers de un total de 7307\n",
      "Para la cripto COMPUSDT hay en total 40 outliers de un total de 4071\n"
     ]
    }
   ],
   "source": [
    "for cripto in set(df_all.active):\n",
    "    aux = df_all[df_all.active == cripto]\n",
    "    close = aux[['close']]\n",
    "    q1,q3 = quantil(close)\n",
    "    lim1 = q1 - 1.5*(q3-q1)\n",
    "    lim2 = q3 + 1.5*(q3-q1)\n",
    "    outliers = len(aux[aux.close < lim1]) + len(aux[aux.close > lim2])\n",
    "    print('Para la cripto {} hay en total {} outliers de un total de {}'.format(cripto, outliers, len(aux)))"
   ]
  },
  {
   "cell_type": "markdown",
   "metadata": {},
   "source": [
    "Vemos que la cantidad de outliers no es significativa, y sabemos que la volatilidad de las criptomonedas es muy alta, por lo que no consideramos que estos valores sean realmente outliers, sino que los precios de estos activos fluctuan entre rangos de valores muy altos y es su normalidad."
   ]
  },
  {
   "cell_type": "code",
   "execution_count": 12,
   "metadata": {},
   "outputs": [],
   "source": [
    "df_all['real_volume'] = df_all['volume'] * df_all['close']"
   ]
  },
  {
   "cell_type": "markdown",
   "metadata": {},
   "source": [
    "Armamos un dataframe con el volumen promedio de cada moneda expresado en USD, para luego poder hacer un filtro de las monedas más operadas."
   ]
  },
  {
   "cell_type": "code",
   "execution_count": 13,
   "metadata": {},
   "outputs": [
    {
     "data": {
      "text/html": [
       "<div>\n",
       "<style scoped>\n",
       "    .dataframe tbody tr th:only-of-type {\n",
       "        vertical-align: middle;\n",
       "    }\n",
       "\n",
       "    .dataframe tbody tr th {\n",
       "        vertical-align: top;\n",
       "    }\n",
       "\n",
       "    .dataframe thead th {\n",
       "        text-align: right;\n",
       "    }\n",
       "</style>\n",
       "<table border=\"1\" class=\"dataframe\">\n",
       "  <thead>\n",
       "    <tr style=\"text-align: right;\">\n",
       "      <th></th>\n",
       "      <th>active</th>\n",
       "      <th>volume_mean</th>\n",
       "    </tr>\n",
       "  </thead>\n",
       "  <tbody>\n",
       "    <tr>\n",
       "      <th>0</th>\n",
       "      <td>BTCUSDT</td>\n",
       "      <td>244886204.08548</td>\n",
       "    </tr>\n",
       "    <tr>\n",
       "      <th>1</th>\n",
       "      <td>ETHUSDT</td>\n",
       "      <td>146360371.850161</td>\n",
       "    </tr>\n",
       "    <tr>\n",
       "      <th>2</th>\n",
       "      <td>DOGEUSDT</td>\n",
       "      <td>57963096.884683</td>\n",
       "    </tr>\n",
       "    <tr>\n",
       "      <th>3</th>\n",
       "      <td>BNBUSDT</td>\n",
       "      <td>56224182.699765</td>\n",
       "    </tr>\n",
       "    <tr>\n",
       "      <th>4</th>\n",
       "      <td>DOTUSDT</td>\n",
       "      <td>48914318.793262</td>\n",
       "    </tr>\n",
       "    <tr>\n",
       "      <th>5</th>\n",
       "      <td>XRPUSDT</td>\n",
       "      <td>46001088.214649</td>\n",
       "    </tr>\n",
       "    <tr>\n",
       "      <th>6</th>\n",
       "      <td>ADAUSDT</td>\n",
       "      <td>34792918.219712</td>\n",
       "    </tr>\n",
       "    <tr>\n",
       "      <th>7</th>\n",
       "      <td>LUNAUSDT</td>\n",
       "      <td>30804809.494855</td>\n",
       "    </tr>\n",
       "    <tr>\n",
       "      <th>8</th>\n",
       "      <td>AXSUSDT</td>\n",
       "      <td>18325040.339165</td>\n",
       "    </tr>\n",
       "    <tr>\n",
       "      <th>9</th>\n",
       "      <td>LINKUSDT</td>\n",
       "      <td>17316878.799902</td>\n",
       "    </tr>\n",
       "    <tr>\n",
       "      <th>10</th>\n",
       "      <td>LTCUSDT</td>\n",
       "      <td>17111206.437869</td>\n",
       "    </tr>\n",
       "    <tr>\n",
       "      <th>11</th>\n",
       "      <td>BCHUSDT</td>\n",
       "      <td>13704525.857275</td>\n",
       "    </tr>\n",
       "    <tr>\n",
       "      <th>12</th>\n",
       "      <td>EOSUSDT</td>\n",
       "      <td>13640652.122771</td>\n",
       "    </tr>\n",
       "    <tr>\n",
       "      <th>13</th>\n",
       "      <td>ETCUSDT</td>\n",
       "      <td>11681943.9314</td>\n",
       "    </tr>\n",
       "    <tr>\n",
       "      <th>14</th>\n",
       "      <td>AAVEUSDT</td>\n",
       "      <td>9933048.935381</td>\n",
       "    </tr>\n",
       "    <tr>\n",
       "      <th>15</th>\n",
       "      <td>NEOUSDT</td>\n",
       "      <td>4189314.041793</td>\n",
       "    </tr>\n",
       "    <tr>\n",
       "      <th>16</th>\n",
       "      <td>DASHUSDT</td>\n",
       "      <td>3221602.184297</td>\n",
       "    </tr>\n",
       "    <tr>\n",
       "      <th>17</th>\n",
       "      <td>COMPUSDT</td>\n",
       "      <td>3024318.239679</td>\n",
       "    </tr>\n",
       "    <tr>\n",
       "      <th>18</th>\n",
       "      <td>XMRUSDT</td>\n",
       "      <td>2805892.522346</td>\n",
       "    </tr>\n",
       "  </tbody>\n",
       "</table>\n",
       "</div>"
      ],
      "text/plain": [
       "      active       volume_mean\n",
       "0    BTCUSDT   244886204.08548\n",
       "1    ETHUSDT  146360371.850161\n",
       "2   DOGEUSDT   57963096.884683\n",
       "3    BNBUSDT   56224182.699765\n",
       "4    DOTUSDT   48914318.793262\n",
       "5    XRPUSDT   46001088.214649\n",
       "6    ADAUSDT   34792918.219712\n",
       "7   LUNAUSDT   30804809.494855\n",
       "8    AXSUSDT   18325040.339165\n",
       "9   LINKUSDT   17316878.799902\n",
       "10   LTCUSDT   17111206.437869\n",
       "11   BCHUSDT   13704525.857275\n",
       "12   EOSUSDT   13640652.122771\n",
       "13   ETCUSDT     11681943.9314\n",
       "14  AAVEUSDT    9933048.935381\n",
       "15   NEOUSDT    4189314.041793\n",
       "16  DASHUSDT    3221602.184297\n",
       "17  COMPUSDT    3024318.239679\n",
       "18   XMRUSDT    2805892.522346"
      ]
     },
     "execution_count": 13,
     "metadata": {},
     "output_type": "execute_result"
    }
   ],
   "source": [
    "df_volume = pd.DataFrame(columns=['active','volume_mean'])\n",
    "i = 0\n",
    "for active in set(df_all.active):\n",
    "    df_volume.loc[i, 'volume_mean'] = df_all[df_all.active == active]['real_volume'].mean()\n",
    "    df_volume.loc[i, 'active'] = active\n",
    "    i += 1\n",
    "\n",
    "df_volume.sort_values(by='volume_mean', ascending=False).reset_index(drop=True)"
   ]
  },
  {
   "cell_type": "markdown",
   "metadata": {},
   "source": [
    "Vemos que las 5 monedas con mayor volumen son BTC, ETH, DOGE, BNB y DOT. Los análisis que realicemos de ahora en adelante los haremos sobre estas 5 monedas para facilitar su comprensión, y para eso, generamos un nuevo dataframe con el resultado del filtro."
   ]
  },
  {
   "cell_type": "code",
   "execution_count": 14,
   "metadata": {},
   "outputs": [
    {
     "data": {
      "text/plain": [
       "(31864, 12)"
      ]
     },
     "execution_count": 14,
     "metadata": {},
     "output_type": "execute_result"
    }
   ],
   "source": [
    "top_volume = list(df_volume.sort_values(by='volume_mean', ascending = False)['active'].head(5))\n",
    "df_filtered = df_all[df_all.active.isin(top_volume)]\n",
    "df_filtered.shape"
   ]
  },
  {
   "cell_type": "markdown",
   "metadata": {},
   "source": [
    "De las 5 cripto con mayor volumen, tomamos DOGE para evaluar la cantidad de datos faltantes"
   ]
  },
  {
   "cell_type": "code",
   "execution_count": 15,
   "metadata": {},
   "outputs": [
    {
     "data": {
      "text/plain": [
       "<AxesSubplot:>"
      ]
     },
     "execution_count": 15,
     "metadata": {},
     "output_type": "execute_result"
    },
    {
     "data": {
      "image/png": "[encoded data removed]",
      "text/plain": [
       "<Figure size 1080x720 with 2 Axes>"
      ]
     },
     "metadata": {
      "needs_background": "light"
     },
     "output_type": "display_data"
    }
   ],
   "source": [
    "msno.matrix(df_filtered[df_filtered.active == 'DOGEUSDT'], figsize=(15, 10), fontsize=12, color=[0,0,0.2])"
   ]
  },
  {
   "cell_type": "code",
   "execution_count": 16,
   "metadata": {},
   "outputs": [
    {
     "name": "stdout",
     "output_type": "stream",
     "text": [
      "Para la cripto DOGEUSDT hay en total 93 outliers de un total de 6199, representa un 2% de nulos.\n"
     ]
    }
   ],
   "source": [
    "aux = df_all[df_all.active == 'DOGEUSDT']\n",
    "close = aux[['close']]\n",
    "q1,q3 = quantil(close)\n",
    "lim1 = q1 - 1.5*(q3-q1)\n",
    "lim2 = q3 + 1.5*(q3-q1)\n",
    "outliers = len(aux[aux.close < lim1]) + len(aux[aux.close > lim2])\n",
    "print('Para la cripto {} hay en total {} outliers de un total de {}, representa un {}% de nulos.'.format('DOGEUSDT', outliers, len(aux), round((outliers/len(aux))*100)))"
   ]
  },
  {
   "cell_type": "markdown",
   "metadata": {},
   "source": [
    "# Parte II"
   ]
  },
  {
   "cell_type": "code",
   "execution_count": 19,
   "metadata": {},
   "outputs": [],
   "source": [
    "import talib"
   ]
  },
  {
   "cell_type": "raw",
   "metadata": {},
   "source": [
    "En esta instancia trabajaremos con algunos features extras que iremos generando a partir de los precios disponibles. Para ello los invito a investigar talib, una de las librerías de python para análisis técnico.\n",
    "\n",
    "Agreguen la serie de tasas de rendimientos de cada activo.\n",
    "Calculen las medias móviles de los precios tomando n periodos hacia atrás (n a elección).\n",
    "¿Conocen algunos indicadores técnicos? Entre los más conocidos podemos mencionar: RSI, MADC, ADX, etc... Pueden construirlos o calcularlos a partir de la librería.\n",
    "Si por ejemplo, una característica tiene una varianza de un orden de magnitud mayor que la de las otras características, podría dominar la función objetivo y hacer que el estimador no pueda aprender de otras características correctamente como se esperaba. Para lograr esto se debe llevar a cabo un escalado o normalizado de datos. ¿Cuál es la diferencia?"
   ]
  },
  {
   "cell_type": "code",
   "execution_count": null,
   "metadata": {},
   "outputs": [],
   "source": [
    "for i in set(df_filtered.active):\n",
    "    df_filtered['EMA200'] = talib.EMA(df_filtered.close, timeperiod=200)"
   ]
  },
  {
   "cell_type": "code",
   "execution_count": 28,
   "metadata": {},
   "outputs": [
    {
     "data": {
      "text/plain": [
       "unix\n",
       "2019-01-01 03:00:00   NaN\n",
       "2019-01-01 07:00:00   NaN\n",
       "2019-01-01 11:00:00   NaN\n",
       "2019-01-01 15:00:00   NaN\n",
       "2019-01-01 19:00:00   NaN\n",
       "                       ..\n",
       "2022-05-04 23:00:00   NaN\n",
       "2022-05-05 03:00:00   NaN\n",
       "2022-05-05 07:00:00   NaN\n",
       "2022-05-05 11:00:00   NaN\n",
       "2022-05-05 15:00:00   NaN\n",
       "Length: 7307, dtype: float64"
      ]
     },
     "execution_count": 28,
     "metadata": {},
     "output_type": "execute_result"
    }
   ],
   "source": [
    "output = talib.MA(df_filtered[(df_filtered.active == 'BTCUSDT') & (df_filtered.close.isna())].close)\n",
    "output"
   ]
  },
  {
   "cell_type": "code",
   "execution_count": 29,
   "metadata": {},
   "outputs": [
    {
     "data": {
      "text/plain": [
       "unix\n",
       "2019-01-01 03:00:00     3703.56\n",
       "2019-01-01 07:00:00     3713.07\n",
       "2019-01-01 11:00:00     3698.53\n",
       "2019-01-01 15:00:00     3659.41\n",
       "2019-01-01 19:00:00     3711.20\n",
       "                         ...   \n",
       "2022-05-04 23:00:00    39773.33\n",
       "2022-05-05 03:00:00    39549.28\n",
       "2022-05-05 07:00:00    39513.66\n",
       "2022-05-05 11:00:00    38209.00\n",
       "2022-05-05 15:00:00         NaN\n",
       "Name: close, Length: 7307, dtype: float64"
      ]
     },
     "execution_count": 29,
     "metadata": {},
     "output_type": "execute_result"
    }
   ],
   "source": [
    "df_filtered[df_filtered.active == 'BTCUSDT'].close"
   ]
  },
  {
   "cell_type": "code",
   "execution_count": null,
   "metadata": {},
   "outputs": [],
   "source": []
  }
 ],
 "metadata": {
  "kernelspec": {
   "display_name": "Python 3 (ipykernel)",
   "language": "python",
   "name": "python3"
  },
  "language_info": {
   "codemirror_mode": {
    "name": "ipython",
    "version": 3
   },
   "file_extension": ".py",
   "mimetype": "text/x-python",
   "name": "python",
   "nbconvert_exporter": "python",
   "pygments_lexer": "ipython3",
   "version": "3.9.12"
  }
 },
 "nbformat": 4,
 "nbformat_minor": 4
}
