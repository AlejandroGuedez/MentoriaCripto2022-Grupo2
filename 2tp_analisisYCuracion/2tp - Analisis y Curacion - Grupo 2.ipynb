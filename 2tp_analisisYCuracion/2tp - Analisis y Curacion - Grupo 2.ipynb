{
 "cells": [
  {
   "cell_type": "markdown",
   "metadata": {},
   "source": [
    "# Selección de cripto activos para una cartera de inversión"
   ]
  },
  {
   "cell_type": "markdown",
   "metadata": {},
   "source": [
    "![picture](https://drive.google.com/uc?export=view&id=1ihM3JEKP-XPaoX9b5bwymu_IF4ntTlz-)"
   ]
  },
  {
   "cell_type": "markdown",
   "metadata": {},
   "source": [
    "# Trabajo Práctico 2 -  Análisis y Curación"
   ]
  },
  {
   "cell_type": "markdown",
   "metadata": {},
   "source": [
    "## Introducción\n",
    "\n",
    "\n",
    "A lo largo de este práctico continuaremos con la exploración del dataset iniciada en el práctio anterior, donde notamos algunas características propias de las series temporales. \n",
    "Además, vimos que no se trata de series estacionarias y en nuestro caso no apreciamos patrones de estacionalidad para la serie de tiempo de los precios.\n",
    "\n",
    "En la siguiente notebook, se presentan las actividades relacionadas a Análisis y Curación. Buscamos identificar e implementar los pasos necesarios para la limpieza de la base de datos, así como también analizar cruces de datos con mayor profundidad. Para esto, los invito a chequear la siguiente [lista](https://dimewiki.worldbank.org/Checklist:_Data_Cleaning), donde se muestran una serie de puntos a tener en cuenta a la hora de tratar nuestros datos."
   ]
  },
  {
   "cell_type": "markdown",
   "metadata": {},
   "source": [
    "# 📖 ¡Actividades! \n",
    "\n",
    "\n",
    "Recuerden que la ciencia de datos es un proceso no lineal y continuo, es decir, si los datos requieren de mayor procesamiento para satisfacer las necesidades de algoritmos de machine learning, vamos a volver a la etapa inicial para, por ejemplo, crear nuevas features, tomar decisiones diferentes sobre valores faltantes o valores atípicos (outliers), descartar features, entre otras. ¡Manos a la obra!\n",
    "\n",
    "Recomendación: Traten de crear funciones de manera de automatizar la mayor cantidad de pasos posibles. \n",
    "\n",
    "## Parte I \n",
    "\n",
    "- En el práctico anterior trabajamos con un conjunto de datos preprocesados, los invito a inspeccionar el siguiente conjunto de datos (link). Como pueden ver, el sistema que define las fechas no es el mismo que trabajamos durante el práctico anterior, en este caso las fechas se encuetran en tiempo Unix. Investiguen este sistema y convierta las fechas a tipo datetime. \n",
    "Para mayor información pueden ver:\n",
    "    \n",
    "    - [Convertir Epoch a Datetime en Python](https://www.delftstack.com/es/howto/python/python-convert-epoch-to-datetime/)\n",
    "\n",
    "\n",
    "- Indaguen sobre la existencia de valores faltantes. Diferencien entre datos perdidos e inexistentes. Seleccionen un activo y visualicen utilizando la librería Missingno ¿Si uno de los precios falta, también faltan los datos en las demás columnas? ¿Cuál creen que sería la mejor forma de tratarlos? ¿Por qué? Analicen formas de imputarlos, por ejemplo, \n",
    "\n",
    "    - reemplazar el faltante con el valor de la media/mediana,\n",
    "    - utilizar regresión. \n",
    "    - métodos backward/forward fill. \n",
    "    - Splines, etc. \n",
    "    \n",
    "Para mayor información puede ver el siguiente link [Imputación](https://rpubs.com/wilsonsr/804544)\n",
    "\n",
    "**Para discutir:** ¿Cuáles podrían ser las razones de la falta de datos, si es que esto ocurre?\n",
    "\n",
    "\n",
    "- ¿Hay índices repetidos? Resuelvan. \n",
    "\n",
    "\n",
    "- Para aprovechar en mayor medida los datos disponibles, analicen dividir los datos en dos posibles conjuntos de acuerdo a la disponibilidad de información según fechas.\n",
    "\n",
    "\n",
    "- ¿Podría mejorarse la forma en la que está presentada la información? Recuerden que serán necesarios todos los precios de los activos para el cálculo de features. \n",
    "\n",
    "\n",
    "- Seleccionen un activo (y alguna de las columnas referidos a precios) y confeccionen un diagrama de dispersión entre el mismo y su valor retardado un período. Repita el mismo procedimiento con sus valores retardado 2, 3 y 4 períodos. \n",
    "\n",
    "\n",
    "- Grafiquen e interpreten las funciones de autocorrelación (ACF) y autocorrelación parcial (PACF), para el precio del activo elegido en el punto anterior. El siguiente [link](https://machinelearningmastery.com/gentle-introduction-autocorrelation-partial-autocorrelation/) puede ser útil para introducirlos en el tema.\n",
    "\n",
    "\n",
    "## Parte II \n",
    "\n",
    "En esta instancia trabajaremos con algunos features extras que iremos generando a partir de los precios disponibles. Para ello los invito a investigar [talib](http://mrjbq7.github.io/ta-lib/doc_index.html), una de las librerías de python para análisis técnico.\n",
    "\n",
    "- Agreguen la serie de tasas de rendimientos de cada activo. \n",
    "\n",
    "\n",
    "- Calculen las medias móviles de los precios tomando n periodos hacia atrás (n a elección).  \n",
    "\n",
    "\n",
    "- ¿Conocen algunos indicadores técnicos? Entre los más conocidos podemos mencionar: [RSI](https://admiralmarkets.com/es/education/articles/forex-indicators/como-sacar-beneficio-del-indicador-de-trading-rsi), [MADC](https://admiralmarkets.com/es/education/articles/forex-indicators/macd), [ADX](https://economipedia.com/definiciones/indicador-adx-average-directional-index.html), etc... Pueden construirlos o calcularlos a partir de la librería.\n",
    "\n",
    "\n",
    "- Si por ejemplo, una característica tiene una varianza de un orden de magnitud mayor que la de las otras características, podría dominar la función objetivo y hacer que el estimador no pueda aprender de otras características correctamente como se esperaba. Para lograr esto se debe llevar a cabo un escalado o normalizado de datos. ¿Cuál es la diferencia?\n",
    "\n",
    "## Opcional\n",
    "\n",
    "- Para alguno/s de los activos, detecten las correlaciones entre los features generados utilizando la función Heatmap().\n",
    "\n",
    "\n",
    "\n",
    "\n",
    "**¡Recuerde!** \n",
    "\n",
    "Nunca Modificar los Datos Crudos u Originales Al finalizar la limpieza, deberán guardar el dataset resultante, para asegurarse de no modificar los datos originales."
   ]
  },
  {
   "cell_type": "markdown",
   "metadata": {},
   "source": [
    "# Fecha de entrega\n",
    "\n",
    "- __Versión preliminar: 17/6__ "
   ]
  },
  {
   "cell_type": "markdown",
   "metadata": {},
   "source": [
    "# Condiciones de entrega\n",
    "\n",
    "Realizar un informe en el cual se presenten los resultados y conclusiones del análisis desarrollado. El mismo debe estar pensado para un público técnico pero que desconoce los aspectos propios del problema a resolver. Dicho informe puede ser un notebook, a condición de que en el mismo se efectúe un análisis escrito suficientemente detallado de los resultados. "
   ]
  },
  {
   "cell_type": "code",
   "execution_count": 1,
   "metadata": {},
   "outputs": [],
   "source": [
    "import pandas as pd\n",
    "import numpy as np\n",
    "\n",
    "from plotly.offline import init_notebook_mode, iplot\n",
    "import plotly.graph_objs as go\n",
    "import matplotlib.pyplot as plt\n",
    "\n",
    "from scipy.stats import norm\n",
    "from statsmodels.tsa.stattools import adfuller\n",
    "from statsmodels.graphics.tsaplots import plot_acf, plot_pacf\n",
    "from statsmodels.tsa.arima_process import ArmaProcess\n",
    "from pylab import rcParams\n",
    "import statsmodels.api as sm\n",
    "\n",
    "from sklearn.preprocessing import MinMaxScaler\n",
    "\n",
    "import seaborn as sns\n",
    "import os\n",
    "import time\n",
    "# import missingno as msno\n",
    "\n",
    "# import talib as ta\n",
    "\n",
    "import warnings\n",
    "warnings.filterwarnings(\"ignore\") "
   ]
  },
  {
   "cell_type": "markdown",
   "metadata": {},
   "source": [
    "Importamos la funcion \"create_dataframe\" que creamos en el primer práctico para poder leer todos los archivos e unirlos en un solo dataframe"
   ]
  },
  {
   "cell_type": "code",
   "execution_count": 2,
   "metadata": {},
   "outputs": [],
   "source": [
    "def create_dataFrame(path):\n",
    "    df = pd.DataFrame()\n",
    "    files_list = os.listdir(path)\n",
    "    for file in files_list:\n",
    "        file_path = path + '/' + file\n",
    "        if os.path.isfile(file_path):\n",
    "            if df.empty:\n",
    "                df = active_name(file_path, file)\n",
    "            else:\n",
    "                df = pd.concat([df, active_name(file_path, file)], axis = 0)\n",
    "    return df     \n",
    "\n",
    "def active_name(file, name):\n",
    "    try:\n",
    "        df = pd.read_csv(file)\n",
    "        df.loc[:, 'active'] = name[:-4]\n",
    "        return df\n",
    "    except:\n",
    "        print('Error en %s'% file)"
   ]
  },
  {
   "cell_type": "markdown",
   "metadata": {},
   "source": [
    "# Parte I"
   ]
  },
  {
   "cell_type": "markdown",
   "metadata": {},
   "source": [
    "En este caso leemos los archivos de la carpeta raw_data, para simular que recibimos los archivos directamente desde la fuente, y asi poder transformar el índice que se encuentra en formato Unix en datetime."
   ]
  },
  {
   "cell_type": "code",
   "execution_count": 3,
   "metadata": {},
   "outputs": [
    {
     "data": {
      "text/plain": [
       "((116390, 7),\n",
       "            unix    open    high     low   close     volume    active\n",
       " 0  1.602731e+12  51.430  59.000  46.158  49.031  25203.494  AAVEUSDT\n",
       " 1  1.602745e+12  49.150  49.446  44.514  44.668  19997.896  AAVEUSDT\n",
       " 2  1.602760e+12  44.629  48.482  44.392  47.000  22164.784  AAVEUSDT\n",
       " 3  1.602774e+12  47.201  48.017  45.889  46.976   8229.208  AAVEUSDT\n",
       " 4  1.602788e+12  46.976  47.997  45.673  45.800   7019.526  AAVEUSDT\n",
       " 5  1.602803e+12  45.801  45.891  42.000  43.719  38813.044  AAVEUSDT\n",
       " 6  1.602817e+12  43.707  43.707  40.649  41.426  20515.319  AAVEUSDT\n",
       " 7  1.602832e+12  41.450  42.792  39.911  41.556  20748.984  AAVEUSDT\n",
       " 8  1.602846e+12  41.474  42.256  40.837  41.743   9247.422  AAVEUSDT\n",
       " 9  1.602860e+12  41.721  41.830  40.370  40.873   6514.351  AAVEUSDT)"
      ]
     },
     "execution_count": 3,
     "metadata": {},
     "output_type": "execute_result"
    }
   ],
   "source": [
    "df_all = create_dataFrame('../raw_data/')\n",
    "df_all.shape, df_all.head(10)"
   ]
  },
  {
   "cell_type": "markdown",
   "metadata": {},
   "source": [
    "set(df_all.active)Verificamos la lista de activos que cargamos en el dataframe unico."
   ]
  },
  {
   "cell_type": "code",
   "execution_count": 4,
   "metadata": {},
   "outputs": [
    {
     "data": {
      "text/plain": [
       "{'AAVEUSDT',\n",
       " 'ADAUSDT',\n",
       " 'AXSUSDT',\n",
       " 'BCHUSDT',\n",
       " 'BNBUSDT',\n",
       " 'BTCUSDT',\n",
       " 'COMPUSDT',\n",
       " 'DASHUSDT',\n",
       " 'DOGEUSDT',\n",
       " 'DOTUSDT',\n",
       " 'EOSUSDT',\n",
       " 'ETCUSDT',\n",
       " 'ETHUSDT',\n",
       " 'LINKUSDT',\n",
       " 'LTCUSDT',\n",
       " 'LUNAUSDT',\n",
       " 'NEOUSDT',\n",
       " 'XMRUSDT',\n",
       " 'XRPUSDT'}"
      ]
     },
     "execution_count": 4,
     "metadata": {},
     "output_type": "execute_result"
    }
   ],
   "source": [
    "set(df_all.active)"
   ]
  },
  {
   "cell_type": "markdown",
   "metadata": {},
   "source": [
    "Para transformar el índice en formato datetime, utilizaremos la función to_datetime que pertenece a Pandas, y permite ingresar la fecha en formato de milisegundos de Unix y poder transformarlo a un lenguaje más legible."
   ]
  },
  {
   "cell_type": "code",
   "execution_count": 5,
   "metadata": {},
   "outputs": [
    {
     "data": {
      "text/html": [
       "<div>\n",
       "<style scoped>\n",
       "    .dataframe tbody tr th:only-of-type {\n",
       "        vertical-align: middle;\n",
       "    }\n",
       "\n",
       "    .dataframe tbody tr th {\n",
       "        vertical-align: top;\n",
       "    }\n",
       "\n",
       "    .dataframe thead th {\n",
       "        text-align: right;\n",
       "    }\n",
       "</style>\n",
       "<table border=\"1\" class=\"dataframe\">\n",
       "  <thead>\n",
       "    <tr style=\"text-align: right;\">\n",
       "      <th></th>\n",
       "      <th>open</th>\n",
       "      <th>high</th>\n",
       "      <th>low</th>\n",
       "      <th>close</th>\n",
       "      <th>volume</th>\n",
       "      <th>active</th>\n",
       "    </tr>\n",
       "    <tr>\n",
       "      <th>Fecha</th>\n",
       "      <th></th>\n",
       "      <th></th>\n",
       "      <th></th>\n",
       "      <th></th>\n",
       "      <th></th>\n",
       "      <th></th>\n",
       "    </tr>\n",
       "  </thead>\n",
       "  <tbody>\n",
       "    <tr>\n",
       "      <th>2022-05-05 15:00:00</th>\n",
       "      <td>0.6170</td>\n",
       "      <td>NaN</td>\n",
       "      <td>NaN</td>\n",
       "      <td>NaN</td>\n",
       "      <td>NaN</td>\n",
       "      <td>XRPUSDT</td>\n",
       "    </tr>\n",
       "    <tr>\n",
       "      <th>2022-05-05 15:00:00</th>\n",
       "      <td>31.4300</td>\n",
       "      <td>NaN</td>\n",
       "      <td>NaN</td>\n",
       "      <td>NaN</td>\n",
       "      <td>NaN</td>\n",
       "      <td>AXSUSDT</td>\n",
       "    </tr>\n",
       "    <tr>\n",
       "      <th>2022-05-05 15:00:00</th>\n",
       "      <td>11.4000</td>\n",
       "      <td>NaN</td>\n",
       "      <td>NaN</td>\n",
       "      <td>NaN</td>\n",
       "      <td>NaN</td>\n",
       "      <td>LINKUSDT</td>\n",
       "    </tr>\n",
       "    <tr>\n",
       "      <th>2022-05-05 15:00:00</th>\n",
       "      <td>29.7900</td>\n",
       "      <td>NaN</td>\n",
       "      <td>NaN</td>\n",
       "      <td>NaN</td>\n",
       "      <td>NaN</td>\n",
       "      <td>ETCUSDT</td>\n",
       "    </tr>\n",
       "    <tr>\n",
       "      <th>2022-05-05 15:00:00</th>\n",
       "      <td>215.1000</td>\n",
       "      <td>NaN</td>\n",
       "      <td>NaN</td>\n",
       "      <td>NaN</td>\n",
       "      <td>NaN</td>\n",
       "      <td>XMRUSDT</td>\n",
       "    </tr>\n",
       "    <tr>\n",
       "      <th>...</th>\n",
       "      <td>...</td>\n",
       "      <td>...</td>\n",
       "      <td>...</td>\n",
       "      <td>...</td>\n",
       "      <td>...</td>\n",
       "      <td>...</td>\n",
       "    </tr>\n",
       "    <tr>\n",
       "      <th>2019-01-01 03:00:00</th>\n",
       "      <td>7.3740</td>\n",
       "      <td>7.43000</td>\n",
       "      <td>7.35200</td>\n",
       "      <td>7.40900</td>\n",
       "      <td>39067.819</td>\n",
       "      <td>NEOUSDT</td>\n",
       "    </tr>\n",
       "    <tr>\n",
       "      <th>2019-01-01 03:00:00</th>\n",
       "      <td>4.9419</td>\n",
       "      <td>5.11270</td>\n",
       "      <td>4.93790</td>\n",
       "      <td>5.04560</td>\n",
       "      <td>45501.840</td>\n",
       "      <td>ETCUSDT</td>\n",
       "    </tr>\n",
       "    <tr>\n",
       "      <th>2019-01-01 03:00:00</th>\n",
       "      <td>2.5206</td>\n",
       "      <td>2.56000</td>\n",
       "      <td>2.52040</td>\n",
       "      <td>2.53830</td>\n",
       "      <td>474419.580</td>\n",
       "      <td>EOSUSDT</td>\n",
       "    </tr>\n",
       "    <tr>\n",
       "      <th>2019-01-01 03:00:00</th>\n",
       "      <td>0.3464</td>\n",
       "      <td>0.35368</td>\n",
       "      <td>0.34617</td>\n",
       "      <td>0.35073</td>\n",
       "      <td>5565085.000</td>\n",
       "      <td>XRPUSDT</td>\n",
       "    </tr>\n",
       "    <tr>\n",
       "      <th>2019-01-01 03:00:00</th>\n",
       "      <td>5.9317</td>\n",
       "      <td>5.95460</td>\n",
       "      <td>5.85000</td>\n",
       "      <td>5.95030</td>\n",
       "      <td>251674.710</td>\n",
       "      <td>BNBUSDT</td>\n",
       "    </tr>\n",
       "  </tbody>\n",
       "</table>\n",
       "<p>116390 rows × 6 columns</p>\n",
       "</div>"
      ],
      "text/plain": [
       "                         open     high      low    close       volume  \\\n",
       "Fecha                                                                   \n",
       "2022-05-05 15:00:00    0.6170      NaN      NaN      NaN          NaN   \n",
       "2022-05-05 15:00:00   31.4300      NaN      NaN      NaN          NaN   \n",
       "2022-05-05 15:00:00   11.4000      NaN      NaN      NaN          NaN   \n",
       "2022-05-05 15:00:00   29.7900      NaN      NaN      NaN          NaN   \n",
       "2022-05-05 15:00:00  215.1000      NaN      NaN      NaN          NaN   \n",
       "...                       ...      ...      ...      ...          ...   \n",
       "2019-01-01 03:00:00    7.3740  7.43000  7.35200  7.40900    39067.819   \n",
       "2019-01-01 03:00:00    4.9419  5.11270  4.93790  5.04560    45501.840   \n",
       "2019-01-01 03:00:00    2.5206  2.56000  2.52040  2.53830   474419.580   \n",
       "2019-01-01 03:00:00    0.3464  0.35368  0.34617  0.35073  5565085.000   \n",
       "2019-01-01 03:00:00    5.9317  5.95460  5.85000  5.95030   251674.710   \n",
       "\n",
       "                       active  \n",
       "Fecha                          \n",
       "2022-05-05 15:00:00   XRPUSDT  \n",
       "2022-05-05 15:00:00   AXSUSDT  \n",
       "2022-05-05 15:00:00  LINKUSDT  \n",
       "2022-05-05 15:00:00   ETCUSDT  \n",
       "2022-05-05 15:00:00   XMRUSDT  \n",
       "...                       ...  \n",
       "2019-01-01 03:00:00   NEOUSDT  \n",
       "2019-01-01 03:00:00   ETCUSDT  \n",
       "2019-01-01 03:00:00   EOSUSDT  \n",
       "2019-01-01 03:00:00   XRPUSDT  \n",
       "2019-01-01 03:00:00   BNBUSDT  \n",
       "\n",
       "[116390 rows x 6 columns]"
      ]
     },
     "execution_count": 5,
     "metadata": {},
     "output_type": "execute_result"
    }
   ],
   "source": [
    "df_all['unix'] = pd.to_datetime(df_all['unix'],unit='ms')\n",
    "df_all.rename(columns={'unix':'Fecha'},inplace=True)\n",
    "df_all.set_index('Fecha', inplace = True)\n",
    "df_all.sort_values(by=['Fecha'],ascending=False)"
   ]
  },
  {
   "cell_type": "markdown",
   "metadata": {},
   "source": [
    "Vamos a agregar al dataframe las columnas de dia, mes, año, dia de la semana, profit y volumen real, para facilitar su análisis posteriormente."
   ]
  },
  {
   "cell_type": "code",
   "execution_count": 6,
   "metadata": {},
   "outputs": [
    {
     "data": {
      "text/html": [
       "<div>\n",
       "<style scoped>\n",
       "    .dataframe tbody tr th:only-of-type {\n",
       "        vertical-align: middle;\n",
       "    }\n",
       "\n",
       "    .dataframe tbody tr th {\n",
       "        vertical-align: top;\n",
       "    }\n",
       "\n",
       "    .dataframe thead th {\n",
       "        text-align: right;\n",
       "    }\n",
       "</style>\n",
       "<table border=\"1\" class=\"dataframe\">\n",
       "  <thead>\n",
       "    <tr style=\"text-align: right;\">\n",
       "      <th></th>\n",
       "      <th>open</th>\n",
       "      <th>high</th>\n",
       "      <th>low</th>\n",
       "      <th>close</th>\n",
       "      <th>volume</th>\n",
       "      <th>active</th>\n",
       "      <th>day</th>\n",
       "      <th>month</th>\n",
       "      <th>year</th>\n",
       "      <th>weekday</th>\n",
       "      <th>profit</th>\n",
       "    </tr>\n",
       "    <tr>\n",
       "      <th>Fecha</th>\n",
       "      <th></th>\n",
       "      <th></th>\n",
       "      <th></th>\n",
       "      <th></th>\n",
       "      <th></th>\n",
       "      <th></th>\n",
       "      <th></th>\n",
       "      <th></th>\n",
       "      <th></th>\n",
       "      <th></th>\n",
       "      <th></th>\n",
       "    </tr>\n",
       "  </thead>\n",
       "  <tbody>\n",
       "    <tr>\n",
       "      <th>2020-10-15 03:00:00</th>\n",
       "      <td>51.430</td>\n",
       "      <td>59.000</td>\n",
       "      <td>46.158</td>\n",
       "      <td>49.031</td>\n",
       "      <td>25203.494</td>\n",
       "      <td>AAVEUSDT</td>\n",
       "      <td>15</td>\n",
       "      <td>10</td>\n",
       "      <td>2020</td>\n",
       "      <td>Thursday</td>\n",
       "      <td>-4.664593</td>\n",
       "    </tr>\n",
       "    <tr>\n",
       "      <th>2020-10-15 07:00:00</th>\n",
       "      <td>49.150</td>\n",
       "      <td>49.446</td>\n",
       "      <td>44.514</td>\n",
       "      <td>44.668</td>\n",
       "      <td>19997.896</td>\n",
       "      <td>AAVEUSDT</td>\n",
       "      <td>15</td>\n",
       "      <td>10</td>\n",
       "      <td>2020</td>\n",
       "      <td>Thursday</td>\n",
       "      <td>-9.119023</td>\n",
       "    </tr>\n",
       "    <tr>\n",
       "      <th>2020-10-15 11:00:00</th>\n",
       "      <td>44.629</td>\n",
       "      <td>48.482</td>\n",
       "      <td>44.392</td>\n",
       "      <td>47.000</td>\n",
       "      <td>22164.784</td>\n",
       "      <td>AAVEUSDT</td>\n",
       "      <td>15</td>\n",
       "      <td>10</td>\n",
       "      <td>2020</td>\n",
       "      <td>Thursday</td>\n",
       "      <td>5.312689</td>\n",
       "    </tr>\n",
       "    <tr>\n",
       "      <th>2020-10-15 15:00:00</th>\n",
       "      <td>47.201</td>\n",
       "      <td>48.017</td>\n",
       "      <td>45.889</td>\n",
       "      <td>46.976</td>\n",
       "      <td>8229.208</td>\n",
       "      <td>AAVEUSDT</td>\n",
       "      <td>15</td>\n",
       "      <td>10</td>\n",
       "      <td>2020</td>\n",
       "      <td>Thursday</td>\n",
       "      <td>-0.476685</td>\n",
       "    </tr>\n",
       "    <tr>\n",
       "      <th>2020-10-15 19:00:00</th>\n",
       "      <td>46.976</td>\n",
       "      <td>47.997</td>\n",
       "      <td>45.673</td>\n",
       "      <td>45.800</td>\n",
       "      <td>7019.526</td>\n",
       "      <td>AAVEUSDT</td>\n",
       "      <td>15</td>\n",
       "      <td>10</td>\n",
       "      <td>2020</td>\n",
       "      <td>Thursday</td>\n",
       "      <td>-2.503406</td>\n",
       "    </tr>\n",
       "    <tr>\n",
       "      <th>2020-10-15 23:00:00</th>\n",
       "      <td>45.801</td>\n",
       "      <td>45.891</td>\n",
       "      <td>42.000</td>\n",
       "      <td>43.719</td>\n",
       "      <td>38813.044</td>\n",
       "      <td>AAVEUSDT</td>\n",
       "      <td>15</td>\n",
       "      <td>10</td>\n",
       "      <td>2020</td>\n",
       "      <td>Thursday</td>\n",
       "      <td>-4.545752</td>\n",
       "    </tr>\n",
       "    <tr>\n",
       "      <th>2020-10-16 03:00:00</th>\n",
       "      <td>43.707</td>\n",
       "      <td>43.707</td>\n",
       "      <td>40.649</td>\n",
       "      <td>41.426</td>\n",
       "      <td>20515.319</td>\n",
       "      <td>AAVEUSDT</td>\n",
       "      <td>16</td>\n",
       "      <td>10</td>\n",
       "      <td>2020</td>\n",
       "      <td>Friday</td>\n",
       "      <td>-5.218844</td>\n",
       "    </tr>\n",
       "    <tr>\n",
       "      <th>2020-10-16 07:00:00</th>\n",
       "      <td>41.450</td>\n",
       "      <td>42.792</td>\n",
       "      <td>39.911</td>\n",
       "      <td>41.556</td>\n",
       "      <td>20748.984</td>\n",
       "      <td>AAVEUSDT</td>\n",
       "      <td>16</td>\n",
       "      <td>10</td>\n",
       "      <td>2020</td>\n",
       "      <td>Friday</td>\n",
       "      <td>0.255730</td>\n",
       "    </tr>\n",
       "    <tr>\n",
       "      <th>2020-10-16 11:00:00</th>\n",
       "      <td>41.474</td>\n",
       "      <td>42.256</td>\n",
       "      <td>40.837</td>\n",
       "      <td>41.743</td>\n",
       "      <td>9247.422</td>\n",
       "      <td>AAVEUSDT</td>\n",
       "      <td>16</td>\n",
       "      <td>10</td>\n",
       "      <td>2020</td>\n",
       "      <td>Friday</td>\n",
       "      <td>0.648599</td>\n",
       "    </tr>\n",
       "    <tr>\n",
       "      <th>2020-10-16 15:00:00</th>\n",
       "      <td>41.721</td>\n",
       "      <td>41.830</td>\n",
       "      <td>40.370</td>\n",
       "      <td>40.873</td>\n",
       "      <td>6514.351</td>\n",
       "      <td>AAVEUSDT</td>\n",
       "      <td>16</td>\n",
       "      <td>10</td>\n",
       "      <td>2020</td>\n",
       "      <td>Friday</td>\n",
       "      <td>-2.032550</td>\n",
       "    </tr>\n",
       "  </tbody>\n",
       "</table>\n",
       "</div>"
      ],
      "text/plain": [
       "                       open    high     low   close     volume    active  day  \\\n",
       "Fecha                                                                           \n",
       "2020-10-15 03:00:00  51.430  59.000  46.158  49.031  25203.494  AAVEUSDT   15   \n",
       "2020-10-15 07:00:00  49.150  49.446  44.514  44.668  19997.896  AAVEUSDT   15   \n",
       "2020-10-15 11:00:00  44.629  48.482  44.392  47.000  22164.784  AAVEUSDT   15   \n",
       "2020-10-15 15:00:00  47.201  48.017  45.889  46.976   8229.208  AAVEUSDT   15   \n",
       "2020-10-15 19:00:00  46.976  47.997  45.673  45.800   7019.526  AAVEUSDT   15   \n",
       "2020-10-15 23:00:00  45.801  45.891  42.000  43.719  38813.044  AAVEUSDT   15   \n",
       "2020-10-16 03:00:00  43.707  43.707  40.649  41.426  20515.319  AAVEUSDT   16   \n",
       "2020-10-16 07:00:00  41.450  42.792  39.911  41.556  20748.984  AAVEUSDT   16   \n",
       "2020-10-16 11:00:00  41.474  42.256  40.837  41.743   9247.422  AAVEUSDT   16   \n",
       "2020-10-16 15:00:00  41.721  41.830  40.370  40.873   6514.351  AAVEUSDT   16   \n",
       "\n",
       "                     month  year   weekday    profit  \n",
       "Fecha                                                 \n",
       "2020-10-15 03:00:00     10  2020  Thursday -4.664593  \n",
       "2020-10-15 07:00:00     10  2020  Thursday -9.119023  \n",
       "2020-10-15 11:00:00     10  2020  Thursday  5.312689  \n",
       "2020-10-15 15:00:00     10  2020  Thursday -0.476685  \n",
       "2020-10-15 19:00:00     10  2020  Thursday -2.503406  \n",
       "2020-10-15 23:00:00     10  2020  Thursday -4.545752  \n",
       "2020-10-16 03:00:00     10  2020    Friday -5.218844  \n",
       "2020-10-16 07:00:00     10  2020    Friday  0.255730  \n",
       "2020-10-16 11:00:00     10  2020    Friday  0.648599  \n",
       "2020-10-16 15:00:00     10  2020    Friday -2.032550  "
      ]
     },
     "execution_count": 6,
     "metadata": {},
     "output_type": "execute_result"
    }
   ],
   "source": [
    "df_all['day'] = df_all.index.day\n",
    "df_all['month'] = df_all.index.month\n",
    "df_all['year'] = df_all.index.year\n",
    "df_all['weekday'] = df_all.index.day_name()\n",
    "df_all['profit'] = 100*(df_all['close'] - df_all['open']) / df_all['open']\n",
    "df_all.head(10)"
   ]
  },
  {
   "cell_type": "markdown",
   "metadata": {},
   "source": [
    "Creamos la funcion \"status\" que recibe como parámetro un dataframe y permite identificar facilmente la cantidad de filas, los valores faltantes por fila, la cantidad de ceros, valores únicos y los tipos de datos"
   ]
  },
  {
   "cell_type": "code",
   "execution_count": 7,
   "metadata": {},
   "outputs": [],
   "source": [
    "def status(data):\n",
    "\n",
    "    data2=data \n",
    "    # total de rows\n",
    "    tot_rows=len(data2)\n",
    "    # total de nan\n",
    "    d2=data2.isnull().sum().reset_index()\n",
    "    d2.columns=['variable', 'q_nan']\n",
    "    # percentage of nan\n",
    "    d2[['p_nan']]=d2[['q_nan']]/tot_rows\n",
    "    # num of zeros\n",
    "    d2['q_zeros']=(data2==0).sum().values\n",
    "    # perc of zeros\n",
    "    d2['p_zeros']=d2[['q_zeros']]/tot_rows\n",
    "    # total unique values\n",
    "    d2['unique']=data2.nunique().values\n",
    "    # get data types per column\n",
    "    d2['type']=[str(x) for x in data2.dtypes.values]\n",
    "    \n",
    "    return(d2)"
   ]
  },
  {
   "cell_type": "code",
   "execution_count": 8,
   "metadata": {},
   "outputs": [
    {
     "data": {
      "text/html": [
       "<div>\n",
       "<style scoped>\n",
       "    .dataframe tbody tr th:only-of-type {\n",
       "        vertical-align: middle;\n",
       "    }\n",
       "\n",
       "    .dataframe tbody tr th {\n",
       "        vertical-align: top;\n",
       "    }\n",
       "\n",
       "    .dataframe thead th {\n",
       "        text-align: right;\n",
       "    }\n",
       "</style>\n",
       "<table border=\"1\" class=\"dataframe\">\n",
       "  <thead>\n",
       "    <tr style=\"text-align: right;\">\n",
       "      <th></th>\n",
       "      <th>variable</th>\n",
       "      <th>q_nan</th>\n",
       "      <th>p_nan</th>\n",
       "      <th>q_zeros</th>\n",
       "      <th>p_zeros</th>\n",
       "      <th>unique</th>\n",
       "      <th>type</th>\n",
       "    </tr>\n",
       "  </thead>\n",
       "  <tbody>\n",
       "    <tr>\n",
       "      <th>0</th>\n",
       "      <td>open</td>\n",
       "      <td>0</td>\n",
       "      <td>0.000000</td>\n",
       "      <td>0</td>\n",
       "      <td>0.000000</td>\n",
       "      <td>82819</td>\n",
       "      <td>float64</td>\n",
       "    </tr>\n",
       "    <tr>\n",
       "      <th>1</th>\n",
       "      <td>high</td>\n",
       "      <td>274</td>\n",
       "      <td>0.002354</td>\n",
       "      <td>0</td>\n",
       "      <td>0.000000</td>\n",
       "      <td>77285</td>\n",
       "      <td>float64</td>\n",
       "    </tr>\n",
       "    <tr>\n",
       "      <th>2</th>\n",
       "      <td>low</td>\n",
       "      <td>274</td>\n",
       "      <td>0.002354</td>\n",
       "      <td>0</td>\n",
       "      <td>0.000000</td>\n",
       "      <td>77364</td>\n",
       "      <td>float64</td>\n",
       "    </tr>\n",
       "    <tr>\n",
       "      <th>3</th>\n",
       "      <td>close</td>\n",
       "      <td>274</td>\n",
       "      <td>0.002354</td>\n",
       "      <td>0</td>\n",
       "      <td>0.000000</td>\n",
       "      <td>82547</td>\n",
       "      <td>float64</td>\n",
       "    </tr>\n",
       "    <tr>\n",
       "      <th>4</th>\n",
       "      <td>volume</td>\n",
       "      <td>274</td>\n",
       "      <td>0.002354</td>\n",
       "      <td>0</td>\n",
       "      <td>0.000000</td>\n",
       "      <td>116113</td>\n",
       "      <td>float64</td>\n",
       "    </tr>\n",
       "    <tr>\n",
       "      <th>5</th>\n",
       "      <td>active</td>\n",
       "      <td>0</td>\n",
       "      <td>0.000000</td>\n",
       "      <td>0</td>\n",
       "      <td>0.000000</td>\n",
       "      <td>19</td>\n",
       "      <td>object</td>\n",
       "    </tr>\n",
       "    <tr>\n",
       "      <th>6</th>\n",
       "      <td>day</td>\n",
       "      <td>0</td>\n",
       "      <td>0.000000</td>\n",
       "      <td>0</td>\n",
       "      <td>0.000000</td>\n",
       "      <td>31</td>\n",
       "      <td>int64</td>\n",
       "    </tr>\n",
       "    <tr>\n",
       "      <th>7</th>\n",
       "      <td>month</td>\n",
       "      <td>0</td>\n",
       "      <td>0.000000</td>\n",
       "      <td>0</td>\n",
       "      <td>0.000000</td>\n",
       "      <td>12</td>\n",
       "      <td>int64</td>\n",
       "    </tr>\n",
       "    <tr>\n",
       "      <th>8</th>\n",
       "      <td>year</td>\n",
       "      <td>0</td>\n",
       "      <td>0.000000</td>\n",
       "      <td>0</td>\n",
       "      <td>0.000000</td>\n",
       "      <td>4</td>\n",
       "      <td>int64</td>\n",
       "    </tr>\n",
       "    <tr>\n",
       "      <th>9</th>\n",
       "      <td>weekday</td>\n",
       "      <td>0</td>\n",
       "      <td>0.000000</td>\n",
       "      <td>0</td>\n",
       "      <td>0.000000</td>\n",
       "      <td>7</td>\n",
       "      <td>object</td>\n",
       "    </tr>\n",
       "    <tr>\n",
       "      <th>10</th>\n",
       "      <td>profit</td>\n",
       "      <td>274</td>\n",
       "      <td>0.002354</td>\n",
       "      <td>449</td>\n",
       "      <td>0.003858</td>\n",
       "      <td>115005</td>\n",
       "      <td>float64</td>\n",
       "    </tr>\n",
       "  </tbody>\n",
       "</table>\n",
       "</div>"
      ],
      "text/plain": [
       "   variable  q_nan     p_nan  q_zeros   p_zeros  unique     type\n",
       "0      open      0  0.000000        0  0.000000   82819  float64\n",
       "1      high    274  0.002354        0  0.000000   77285  float64\n",
       "2       low    274  0.002354        0  0.000000   77364  float64\n",
       "3     close    274  0.002354        0  0.000000   82547  float64\n",
       "4    volume    274  0.002354        0  0.000000  116113  float64\n",
       "5    active      0  0.000000        0  0.000000      19   object\n",
       "6       day      0  0.000000        0  0.000000      31    int64\n",
       "7     month      0  0.000000        0  0.000000      12    int64\n",
       "8      year      0  0.000000        0  0.000000       4    int64\n",
       "9   weekday      0  0.000000        0  0.000000       7   object\n",
       "10   profit    274  0.002354      449  0.003858  115005  float64"
      ]
     },
     "execution_count": 8,
     "metadata": {},
     "output_type": "execute_result"
    }
   ],
   "source": [
    "status(df_all)"
   ]
  },
  {
   "cell_type": "markdown",
   "metadata": {},
   "source": [
    "Como resultado vemos que las columnas high, low, close, volume, profit y real_volume tienen valores faltantes, pero en relacion a la cantidad de datos el porcentaje es muy bajo. Consideramos que es importante completar estas filas de datos faltantes utilizando alguna función de imputación, ya que al ser series temporales, es importante tener los datos completos."
   ]
  },
  {
   "cell_type": "code",
   "execution_count": 9,
   "metadata": {},
   "outputs": [
    {
     "name": "stdout",
     "output_type": "stream",
     "text": [
      "La moneda ETCUSDT tiene valores entre 2019-01-01 03:00:00 y 2022-05-05 15:00:00\n",
      "La moneda XRPUSDT tiene valores entre 2019-01-01 03:00:00 y 2022-05-05 15:00:00\n",
      "La moneda EOSUSDT tiene valores entre 2019-01-01 03:00:00 y 2022-05-05 15:00:00\n",
      "La moneda AXSUSDT tiene valores entre 2020-11-04 15:00:00 y 2022-05-05 15:00:00\n",
      "La moneda ADAUSDT tiene valores entre 2019-01-01 03:00:00 y 2022-05-05 15:00:00\n",
      "La moneda LINKUSDT tiene valores entre 2019-01-16 11:00:00 y 2022-05-05 15:00:00\n",
      "La moneda DOGEUSDT tiene valores entre 2019-07-05 15:00:00 y 2022-05-05 15:00:00\n",
      "La moneda BTCUSDT tiene valores entre 2019-01-01 03:00:00 y 2022-05-05 15:00:00\n",
      "La moneda AAVEUSDT tiene valores entre 2020-10-15 03:00:00 y 2022-05-05 15:00:00\n",
      "La moneda DASHUSDT tiene valores entre 2019-03-28 07:00:00 y 2022-05-05 15:00:00\n",
      "La moneda BNBUSDT tiene valores entre 2019-01-01 03:00:00 y 2022-05-05 15:00:00\n",
      "La moneda XMRUSDT tiene valores entre 2019-03-15 07:00:00 y 2022-05-05 15:00:00\n",
      "La moneda LTCUSDT tiene valores entre 2019-01-01 03:00:00 y 2022-05-05 15:00:00\n",
      "La moneda DOTUSDT tiene valores entre 2020-08-18 23:00:00 y 2022-05-05 15:00:00\n",
      "La moneda LUNAUSDT tiene valores entre 2020-08-21 11:00:00 y 2022-05-05 15:00:00\n",
      "La moneda NEOUSDT tiene valores entre 2019-01-01 03:00:00 y 2022-05-05 15:00:00\n",
      "La moneda COMPUSDT tiene valores entre 2020-06-25 07:00:00 y 2022-05-05 15:00:00\n",
      "La moneda ETHUSDT tiene valores entre 2019-01-01 03:00:00 y 2022-05-05 15:00:00\n",
      "La moneda BCHUSDT tiene valores entre 2019-11-28 11:00:00 y 2022-05-05 15:00:00\n"
     ]
    }
   ],
   "source": [
    "for cripto in set(df_all.active):\n",
    "    print(\"La moneda {} tiene valores entre {} y {}\".format(cripto, df_all[df_all.active == cripto].index.min(), df_all[df_all.active == cripto].index.max()))"
   ]
  },
  {
   "cell_type": "markdown",
   "metadata": {},
   "source": [
    "Aqui podemos ver un poco mejor el período de análisis de cada activo, y vemos que no todos empiezan desde la misma fecha, por lo que luego hay que analizar que período considerar para que sea uniforme para todos los activos."
   ]
  },
  {
   "cell_type": "markdown",
   "metadata": {},
   "source": [
    "# Outliers"
   ]
  },
  {
   "cell_type": "markdown",
   "metadata": {},
   "source": [
    "Definimos la funcion \"quantil\" que devuelve los cuantiles 25 y 75 de la columna analizada. Vamos a utilizar la técnica de cuantiles para poder identificar posibles outliers en los datos, y luego analizaremos que hacer con ellos."
   ]
  },
  {
   "cell_type": "code",
   "execution_count": 10,
   "metadata": {
    "id": "raLIHtSh0lk8"
   },
   "outputs": [],
   "source": [
    "def quantil(x):\n",
    "    return x.quantile(0.25)[0], x.quantile(0.75)[0]"
   ]
  },
  {
   "cell_type": "code",
   "execution_count": 11,
   "metadata": {
    "colab": {
     "base_uri": "https://localhost:8080/"
    },
    "id": "6JThPS6HTB9Q",
    "outputId": "a765539d-8fb5-45ce-d630-502c09c072df"
   },
   "outputs": [
    {
     "name": "stdout",
     "output_type": "stream",
     "text": [
      "El activo ETCUSDT NO tiene índices repetidos, y tiene 118 outliers de un total de 7307.\n",
      "El activo XRPUSDT NO tiene índices repetidos, y tiene 109 outliers de un total de 7307.\n",
      "El activo EOSUSDT NO tiene índices repetidos, y tiene 221 outliers de un total de 7307.\n",
      "El activo AXSUSDT NO tiene índices repetidos, y tiene 0 outliers de un total de 3278.\n",
      "El activo ADAUSDT NO tiene índices repetidos, y tiene 25 outliers de un total de 7307.\n",
      "El activo LINKUSDT NO tiene índices repetidos, y tiene 13 outliers de un total de 7215.\n",
      "El activo DOGEUSDT NO tiene índices repetidos, y tiene 93 outliers de un total de 6199.\n",
      "El activo BTCUSDT NO tiene índices repetidos, y tiene 0 outliers de un total de 7307.\n",
      "El activo AAVEUSDT NO tiene índices repetidos, y tiene 1 outliers de un total de 3401.\n",
      "El activo DASHUSDT NO tiene índices repetidos, y tiene 235 outliers de un total de 6792.\n",
      "El activo BNBUSDT NO tiene índices repetidos, y tiene 0 outliers de un total de 7307.\n",
      "El activo XMRUSDT NO tiene índices repetidos, y tiene 28 outliers de un total de 6870.\n",
      "El activo LTCUSDT NO tiene índices repetidos, y tiene 94 outliers de un total de 7307.\n",
      "El activo DOTUSDT NO tiene índices repetidos, y tiene 0 outliers de un total de 3744.\n",
      "El activo LUNAUSDT NO tiene índices repetidos, y tiene 0 outliers de un total de 3729.\n",
      "El activo NEOUSDT NO tiene índices repetidos, y tiene 389 outliers de un total de 7307.\n",
      "El activo COMPUSDT NO tiene índices repetidos, y tiene 40 outliers de un total de 4071.\n",
      "El activo ETHUSDT NO tiene índices repetidos, y tiene 0 outliers de un total de 7307.\n",
      "El activo BCHUSDT NO tiene índices repetidos, y tiene 127 outliers de un total de 5328.\n"
     ]
    }
   ],
   "source": [
    "for cripto in set(df_all.active):\n",
    "    aux = df_all[df_all.active == cripto]\n",
    "    close = aux[['close']]\n",
    "    q1,q3 = quantil(close)\n",
    "    lim1 = q1 - 1.5*(q3-q1)\n",
    "    lim2 = q3 + 1.5*(q3-q1)\n",
    "    outliers = len(aux[aux.close < lim1]) + len(aux[aux.close > lim2])\n",
    "    if aux.index.has_duplicates:\n",
    "        print('El activo {} tiene índices repetidos, y tiene {} outliers de un total de {}.'.format(cripto, outliers, len(aux)))\n",
    "    else:\n",
    "        print('El activo {} NO tiene índices repetidos, y tiene {} outliers de un total de {}.'.format(cripto, outliers, len(aux)))"
   ]
  },
  {
   "cell_type": "markdown",
   "metadata": {},
   "source": [
    "Vemos que la cantidad de outliers no es significativa, y sabemos que la volatilidad de las criptomonedas es muy alta, por lo que no consideramos que estos valores sean realmente outliers, sino que los precios de estos activos fluctuan entre rangos de valores muy altos y es su normalidad."
   ]
  },
  {
   "cell_type": "code",
   "execution_count": 12,
   "metadata": {},
   "outputs": [],
   "source": [
    "df_all['real_volume'] = df_all['volume'] * df_all['close']"
   ]
  },
  {
   "cell_type": "markdown",
   "metadata": {},
   "source": [
    "Armamos un dataframe con el volumen promedio de cada moneda expresado en USD, para luego poder hacer un filtro de las monedas más operadas."
   ]
  },
  {
   "cell_type": "code",
   "execution_count": 13,
   "metadata": {},
   "outputs": [
    {
     "data": {
      "text/html": [
       "<div>\n",
       "<style scoped>\n",
       "    .dataframe tbody tr th:only-of-type {\n",
       "        vertical-align: middle;\n",
       "    }\n",
       "\n",
       "    .dataframe tbody tr th {\n",
       "        vertical-align: top;\n",
       "    }\n",
       "\n",
       "    .dataframe thead th {\n",
       "        text-align: right;\n",
       "    }\n",
       "</style>\n",
       "<table border=\"1\" class=\"dataframe\">\n",
       "  <thead>\n",
       "    <tr style=\"text-align: right;\">\n",
       "      <th></th>\n",
       "      <th>active</th>\n",
       "      <th>volume_mean</th>\n",
       "      <th>porcentaje</th>\n",
       "    </tr>\n",
       "  </thead>\n",
       "  <tbody>\n",
       "    <tr>\n",
       "      <th>0</th>\n",
       "      <td>BTCUSDT</td>\n",
       "      <td>2.44886e+08</td>\n",
       "      <td>34.3898</td>\n",
       "    </tr>\n",
       "    <tr>\n",
       "      <th>1</th>\n",
       "      <td>ETHUSDT</td>\n",
       "      <td>1.4636e+08</td>\n",
       "      <td>20.5537</td>\n",
       "    </tr>\n",
       "    <tr>\n",
       "      <th>2</th>\n",
       "      <td>DOGEUSDT</td>\n",
       "      <td>5.79631e+07</td>\n",
       "      <td>6.90381</td>\n",
       "    </tr>\n",
       "    <tr>\n",
       "      <th>3</th>\n",
       "      <td>BNBUSDT</td>\n",
       "      <td>5.62242e+07</td>\n",
       "      <td>7.89567</td>\n",
       "    </tr>\n",
       "    <tr>\n",
       "      <th>4</th>\n",
       "      <td>DOTUSDT</td>\n",
       "      <td>4.89143e+07</td>\n",
       "      <td>3.52031</td>\n",
       "    </tr>\n",
       "    <tr>\n",
       "      <th>5</th>\n",
       "      <td>XRPUSDT</td>\n",
       "      <td>4.60011e+07</td>\n",
       "      <td>6.46002</td>\n",
       "    </tr>\n",
       "    <tr>\n",
       "      <th>6</th>\n",
       "      <td>ADAUSDT</td>\n",
       "      <td>3.47929e+07</td>\n",
       "      <td>4.88603</td>\n",
       "    </tr>\n",
       "    <tr>\n",
       "      <th>7</th>\n",
       "      <td>LUNAUSDT</td>\n",
       "      <td>3.08048e+07</td>\n",
       "      <td>2.20809</td>\n",
       "    </tr>\n",
       "    <tr>\n",
       "      <th>8</th>\n",
       "      <td>AXSUSDT</td>\n",
       "      <td>1.8325e+07</td>\n",
       "      <td>1.15433</td>\n",
       "    </tr>\n",
       "    <tr>\n",
       "      <th>9</th>\n",
       "      <td>LINKUSDT</td>\n",
       "      <td>1.73169e+07</td>\n",
       "      <td>2.40115</td>\n",
       "    </tr>\n",
       "    <tr>\n",
       "      <th>10</th>\n",
       "      <td>LTCUSDT</td>\n",
       "      <td>1.71112e+07</td>\n",
       "      <td>2.40296</td>\n",
       "    </tr>\n",
       "    <tr>\n",
       "      <th>11</th>\n",
       "      <td>BCHUSDT</td>\n",
       "      <td>1.37045e+07</td>\n",
       "      <td>1.40315</td>\n",
       "    </tr>\n",
       "    <tr>\n",
       "      <th>12</th>\n",
       "      <td>EOSUSDT</td>\n",
       "      <td>1.36407e+07</td>\n",
       "      <td>1.91558</td>\n",
       "    </tr>\n",
       "    <tr>\n",
       "      <th>13</th>\n",
       "      <td>ETCUSDT</td>\n",
       "      <td>1.16819e+07</td>\n",
       "      <td>1.64029</td>\n",
       "    </tr>\n",
       "    <tr>\n",
       "      <th>14</th>\n",
       "      <td>AAVEUSDT</td>\n",
       "      <td>9.93305e+06</td>\n",
       "      <td>0.649239</td>\n",
       "    </tr>\n",
       "    <tr>\n",
       "      <th>15</th>\n",
       "      <td>NEOUSDT</td>\n",
       "      <td>4.18931e+06</td>\n",
       "      <td>0.588313</td>\n",
       "    </tr>\n",
       "    <tr>\n",
       "      <th>16</th>\n",
       "      <td>DASHUSDT</td>\n",
       "      <td>3.2216e+06</td>\n",
       "      <td>0.420517</td>\n",
       "    </tr>\n",
       "    <tr>\n",
       "      <th>17</th>\n",
       "      <td>COMPUSDT</td>\n",
       "      <td>3.02432e+06</td>\n",
       "      <td>0.236649</td>\n",
       "    </tr>\n",
       "    <tr>\n",
       "      <th>18</th>\n",
       "      <td>XMRUSDT</td>\n",
       "      <td>2.80589e+06</td>\n",
       "      <td>0.370416</td>\n",
       "    </tr>\n",
       "  </tbody>\n",
       "</table>\n",
       "</div>"
      ],
      "text/plain": [
       "      active  volume_mean porcentaje\n",
       "0    BTCUSDT  2.44886e+08    34.3898\n",
       "1    ETHUSDT   1.4636e+08    20.5537\n",
       "2   DOGEUSDT  5.79631e+07    6.90381\n",
       "3    BNBUSDT  5.62242e+07    7.89567\n",
       "4    DOTUSDT  4.89143e+07    3.52031\n",
       "5    XRPUSDT  4.60011e+07    6.46002\n",
       "6    ADAUSDT  3.47929e+07    4.88603\n",
       "7   LUNAUSDT  3.08048e+07    2.20809\n",
       "8    AXSUSDT   1.8325e+07    1.15433\n",
       "9   LINKUSDT  1.73169e+07    2.40115\n",
       "10   LTCUSDT  1.71112e+07    2.40296\n",
       "11   BCHUSDT  1.37045e+07    1.40315\n",
       "12   EOSUSDT  1.36407e+07    1.91558\n",
       "13   ETCUSDT  1.16819e+07    1.64029\n",
       "14  AAVEUSDT  9.93305e+06   0.649239\n",
       "15   NEOUSDT  4.18931e+06   0.588313\n",
       "16  DASHUSDT   3.2216e+06   0.420517\n",
       "17  COMPUSDT  3.02432e+06   0.236649\n",
       "18   XMRUSDT  2.80589e+06   0.370416"
      ]
     },
     "execution_count": 13,
     "metadata": {},
     "output_type": "execute_result"
    }
   ],
   "source": [
    "df_volume = pd.DataFrame(columns=['active','volume_mean','porcentaje'])\n",
    "i = 0\n",
    "for active in set(df_all.active):\n",
    "    df_volume.loc[i, 'volume_mean'] = df_all[df_all.active == active]['real_volume'].mean()\n",
    "    df_volume.loc[i, 'active'] = active\n",
    "    df_volume.loc[i, 'porcentaje'] = (df_all[df_all.active == active]['real_volume'].sum() / df_all['real_volume'].sum()) * 100\n",
    "    i += 1\n",
    "\n",
    "df_volume.sort_values(by='volume_mean', ascending=False).reset_index(drop=True)"
   ]
  },
  {
   "cell_type": "code",
   "execution_count": 14,
   "metadata": {},
   "outputs": [
    {
     "data": {
      "text/plain": [
       "99.99999999999999"
      ]
     },
     "execution_count": 14,
     "metadata": {},
     "output_type": "execute_result"
    }
   ],
   "source": [
    "df_volume.porcentaje.sum()"
   ]
  },
  {
   "cell_type": "markdown",
   "metadata": {},
   "source": [
    "Vemos que las 5 monedas con mayor volumen son BTC, ETH, DOGE, BNB y DOT. Los análisis que realicemos de ahora en adelante los haremos sobre estas 5 monedas para facilitar su comprensión, y para eso, generamos un nuevo dataframe con el resultado del filtro."
   ]
  },
  {
   "cell_type": "code",
   "execution_count": 15,
   "metadata": {},
   "outputs": [
    {
     "data": {
      "text/plain": [
       "(31864, 12)"
      ]
     },
     "execution_count": 15,
     "metadata": {},
     "output_type": "execute_result"
    }
   ],
   "source": [
    "top_volume = list(df_volume.sort_values(by='volume_mean', ascending = False)['active'].head(5))\n",
    "df_filtered = df_all[df_all.active.isin(top_volume)]\n",
    "df_filtered.shape"
   ]
  },
  {
   "cell_type": "markdown",
   "metadata": {},
   "source": [
    "De las 5 cripto con mayor volumen, tomamos DOGE para evaluar la cantidad de datos faltantes"
   ]
  },
  {
   "cell_type": "code",
   "execution_count": 16,
   "metadata": {},
   "outputs": [
    {
     "ename": "NameError",
     "evalue": "name 'msno' is not defined",
     "output_type": "error",
     "traceback": [
      "\u001b[1;31m---------------------------------------------------------------------------\u001b[0m",
      "\u001b[1;31mNameError\u001b[0m                                 Traceback (most recent call last)",
      "\u001b[1;32m<ipython-input-16-d77ba83abc6e>\u001b[0m in \u001b[0;36m<module>\u001b[1;34m\u001b[0m\n\u001b[1;32m----> 1\u001b[1;33m \u001b[0mmsno\u001b[0m\u001b[1;33m.\u001b[0m\u001b[0mmatrix\u001b[0m\u001b[1;33m(\u001b[0m\u001b[0mdf_filtered\u001b[0m\u001b[1;33m[\u001b[0m\u001b[0mdf_filtered\u001b[0m\u001b[1;33m.\u001b[0m\u001b[0mactive\u001b[0m \u001b[1;33m==\u001b[0m \u001b[1;34m'DOGEUSDT'\u001b[0m\u001b[1;33m]\u001b[0m\u001b[1;33m,\u001b[0m \u001b[0mfigsize\u001b[0m\u001b[1;33m=\u001b[0m\u001b[1;33m(\u001b[0m\u001b[1;36m15\u001b[0m\u001b[1;33m,\u001b[0m \u001b[1;36m10\u001b[0m\u001b[1;33m)\u001b[0m\u001b[1;33m,\u001b[0m \u001b[0mfontsize\u001b[0m\u001b[1;33m=\u001b[0m\u001b[1;36m12\u001b[0m\u001b[1;33m,\u001b[0m \u001b[0mcolor\u001b[0m\u001b[1;33m=\u001b[0m\u001b[1;33m[\u001b[0m\u001b[1;36m0\u001b[0m\u001b[1;33m,\u001b[0m\u001b[1;36m0\u001b[0m\u001b[1;33m,\u001b[0m\u001b[1;36m0.2\u001b[0m\u001b[1;33m]\u001b[0m\u001b[1;33m)\u001b[0m\u001b[1;33m\u001b[0m\u001b[1;33m\u001b[0m\u001b[0m\n\u001b[0m",
      "\u001b[1;31mNameError\u001b[0m: name 'msno' is not defined"
     ]
    }
   ],
   "source": [
    "msno.matrix(df_filtered[df_filtered.active == 'DOGEUSDT'], figsize=(15, 10), fontsize=12, color=[0,0,0.2])"
   ]
  },
  {
   "cell_type": "code",
   "execution_count": 17,
   "metadata": {},
   "outputs": [
    {
     "name": "stdout",
     "output_type": "stream",
     "text": [
      "Para la cripto DOGEUSDT hay 96 valores nulos de un total de 6199, representa un 2.0% del total.\n"
     ]
    }
   ],
   "source": [
    "aux = df_all[df_all.active == 'DOGEUSDT']\n",
    "close = aux[['close']]\n",
    "q1,q3 = quantil(close)\n",
    "lim1 = q1 - 1.5*(q3-q1)\n",
    "lim2 = q3 + 1.5*(q3-q1)\n",
    "outliers = len(aux[aux.close < lim1]) + len(aux[aux.close > lim2])\n",
    "print('Para la cripto {} hay {} valores nulos de un total de {}, representa un {}% del total.'.format('DOGEUSDT', aux.isna().sum().sum(), len(aux), round((aux.isna().sum().sum()/len(aux))*100)))"
   ]
  },
  {
   "cell_type": "markdown",
   "metadata": {},
   "source": [
    "Una vez analizado los valores faltante y su comportamiento, decidimos eliminar las ultimas filas ya que su representacion se debe a que para el momento que se tomaron los datos, el periodo de tiempo de las 4 horas no habia terminado.\n",
    "\n",
    "Tambien dado que la cantidad de datos faltantes es muy baja para todos los activos, asi como tambíen debido a que los datos faltantes en todos los casos aparecen aislados (una unica fila faltante rodeada por filas con datos completos), hemos decidido aplicar un método de imputación sencillo en el que a la fila de datos faltantes le asignamos los valores de una fila contigua. Optamos por el método Backwardfill, utilizando para la imputación los valores de la fila siguiente. "
   ]
  },
  {
   "cell_type": "code",
   "execution_count": 18,
   "metadata": {},
   "outputs": [],
   "source": [
    "#Función para eliminar la última fila de cada activo porque está vacía\n",
    "def drop_lr (dataframe):\n",
    "    for active in set(dataframe.active): \n",
    "        mask =  dataframe['active'] == active\n",
    "        index_i = dataframe[mask].tail(1).index\n",
    "        dataframe.drop(index = index_i, inplace=True)\n",
    "    return (dataframe)\n",
    "\n",
    "df_all = drop_lr(df_all) #Eliminamos la última fila de datos de cada activo porque en todos los casos solo cuenta con el valor de \"Open\" y falta el resto de valores . "
   ]
  },
  {
   "cell_type": "code",
   "execution_count": 19,
   "metadata": {},
   "outputs": [],
   "source": [
    "#Función para imputar valores faltantes mediante un Backward fill \n",
    "def imput (dataframe):\n",
    "    for active in set(dataframe.active): \n",
    "        mask =  dataframe['active'] == active\n",
    "        dataframe[mask]=dataframe[mask].bfill(axis='rows', inplace=False, limit=None, downcast=None)\n",
    "    return (dataframe)\n",
    "\n",
    "df_all = imput(df_all) #imputamos los valores faltantes "
   ]
  },
  {
   "cell_type": "code",
   "execution_count": 20,
   "metadata": {},
   "outputs": [
    {
     "data": {
      "text/html": [
       "<div>\n",
       "<style scoped>\n",
       "    .dataframe tbody tr th:only-of-type {\n",
       "        vertical-align: middle;\n",
       "    }\n",
       "\n",
       "    .dataframe tbody tr th {\n",
       "        vertical-align: top;\n",
       "    }\n",
       "\n",
       "    .dataframe thead th {\n",
       "        text-align: right;\n",
       "    }\n",
       "</style>\n",
       "<table border=\"1\" class=\"dataframe\">\n",
       "  <thead>\n",
       "    <tr style=\"text-align: right;\">\n",
       "      <th></th>\n",
       "      <th>variable</th>\n",
       "      <th>q_nan</th>\n",
       "      <th>p_nan</th>\n",
       "      <th>q_zeros</th>\n",
       "      <th>p_zeros</th>\n",
       "      <th>unique</th>\n",
       "      <th>type</th>\n",
       "    </tr>\n",
       "  </thead>\n",
       "  <tbody>\n",
       "    <tr>\n",
       "      <th>0</th>\n",
       "      <td>open</td>\n",
       "      <td>0</td>\n",
       "      <td>0.0</td>\n",
       "      <td>0</td>\n",
       "      <td>0.000000</td>\n",
       "      <td>82723</td>\n",
       "      <td>float64</td>\n",
       "    </tr>\n",
       "    <tr>\n",
       "      <th>1</th>\n",
       "      <td>high</td>\n",
       "      <td>0</td>\n",
       "      <td>0.0</td>\n",
       "      <td>0</td>\n",
       "      <td>0.000000</td>\n",
       "      <td>77211</td>\n",
       "      <td>float64</td>\n",
       "    </tr>\n",
       "    <tr>\n",
       "      <th>2</th>\n",
       "      <td>low</td>\n",
       "      <td>0</td>\n",
       "      <td>0.0</td>\n",
       "      <td>0</td>\n",
       "      <td>0.000000</td>\n",
       "      <td>77289</td>\n",
       "      <td>float64</td>\n",
       "    </tr>\n",
       "    <tr>\n",
       "      <th>3</th>\n",
       "      <td>close</td>\n",
       "      <td>0</td>\n",
       "      <td>0.0</td>\n",
       "      <td>0</td>\n",
       "      <td>0.000000</td>\n",
       "      <td>82461</td>\n",
       "      <td>float64</td>\n",
       "    </tr>\n",
       "    <tr>\n",
       "      <th>4</th>\n",
       "      <td>volume</td>\n",
       "      <td>0</td>\n",
       "      <td>0.0</td>\n",
       "      <td>0</td>\n",
       "      <td>0.000000</td>\n",
       "      <td>115771</td>\n",
       "      <td>float64</td>\n",
       "    </tr>\n",
       "    <tr>\n",
       "      <th>5</th>\n",
       "      <td>active</td>\n",
       "      <td>0</td>\n",
       "      <td>0.0</td>\n",
       "      <td>0</td>\n",
       "      <td>0.000000</td>\n",
       "      <td>19</td>\n",
       "      <td>object</td>\n",
       "    </tr>\n",
       "    <tr>\n",
       "      <th>6</th>\n",
       "      <td>day</td>\n",
       "      <td>0</td>\n",
       "      <td>0.0</td>\n",
       "      <td>0</td>\n",
       "      <td>0.000000</td>\n",
       "      <td>31</td>\n",
       "      <td>int64</td>\n",
       "    </tr>\n",
       "    <tr>\n",
       "      <th>7</th>\n",
       "      <td>month</td>\n",
       "      <td>0</td>\n",
       "      <td>0.0</td>\n",
       "      <td>0</td>\n",
       "      <td>0.000000</td>\n",
       "      <td>12</td>\n",
       "      <td>int64</td>\n",
       "    </tr>\n",
       "    <tr>\n",
       "      <th>8</th>\n",
       "      <td>year</td>\n",
       "      <td>0</td>\n",
       "      <td>0.0</td>\n",
       "      <td>0</td>\n",
       "      <td>0.000000</td>\n",
       "      <td>4</td>\n",
       "      <td>int64</td>\n",
       "    </tr>\n",
       "    <tr>\n",
       "      <th>9</th>\n",
       "      <td>weekday</td>\n",
       "      <td>0</td>\n",
       "      <td>0.0</td>\n",
       "      <td>0</td>\n",
       "      <td>0.000000</td>\n",
       "      <td>7</td>\n",
       "      <td>object</td>\n",
       "    </tr>\n",
       "    <tr>\n",
       "      <th>10</th>\n",
       "      <td>profit</td>\n",
       "      <td>0</td>\n",
       "      <td>0.0</td>\n",
       "      <td>445</td>\n",
       "      <td>0.003835</td>\n",
       "      <td>114676</td>\n",
       "      <td>float64</td>\n",
       "    </tr>\n",
       "    <tr>\n",
       "      <th>11</th>\n",
       "      <td>real_volume</td>\n",
       "      <td>0</td>\n",
       "      <td>0.0</td>\n",
       "      <td>0</td>\n",
       "      <td>0.000000</td>\n",
       "      <td>115774</td>\n",
       "      <td>float64</td>\n",
       "    </tr>\n",
       "  </tbody>\n",
       "</table>\n",
       "</div>"
      ],
      "text/plain": [
       "       variable  q_nan  p_nan  q_zeros   p_zeros  unique     type\n",
       "0          open      0    0.0        0  0.000000   82723  float64\n",
       "1          high      0    0.0        0  0.000000   77211  float64\n",
       "2           low      0    0.0        0  0.000000   77289  float64\n",
       "3         close      0    0.0        0  0.000000   82461  float64\n",
       "4        volume      0    0.0        0  0.000000  115771  float64\n",
       "5        active      0    0.0        0  0.000000      19   object\n",
       "6           day      0    0.0        0  0.000000      31    int64\n",
       "7         month      0    0.0        0  0.000000      12    int64\n",
       "8          year      0    0.0        0  0.000000       4    int64\n",
       "9       weekday      0    0.0        0  0.000000       7   object\n",
       "10       profit      0    0.0      445  0.003835  114676  float64\n",
       "11  real_volume      0    0.0        0  0.000000  115774  float64"
      ]
     },
     "execution_count": 20,
     "metadata": {},
     "output_type": "execute_result"
    }
   ],
   "source": [
    "status(df_all)"
   ]
  },
  {
   "cell_type": "markdown",
   "metadata": {},
   "source": [
    "# Parte II"
   ]
  },
  {
   "cell_type": "markdown",
   "metadata": {},
   "source": [
    "En esta instancia trabajaremos con algunos features extras que iremos generando a partir de los precios disponibles. Para ello los invito a investigar talib, una de las librerías de python para análisis técnico.\n",
    "\n",
    "Agreguen la serie de tasas de rendimientos de cada activo.\n",
    "Calculen las medias móviles de los precios tomando n periodos hacia atrás (n a elección).\n",
    "¿Conocen algunos indicadores técnicos? Entre los más conocidos podemos mencionar: RSI, MADC, ADX, etc... Pueden construirlos o calcularlos a partir de la librería.\n",
    "Si por ejemplo, una característica tiene una varianza de un orden de magnitud mayor que la de las otras características, podría dominar la función objetivo y hacer que el estimador no pueda aprender de otras características correctamente como se esperaba. Para lograr esto se debe llevar a cabo un escalado o normalizado de datos. ¿Cuál es la diferencia?"
   ]
  },
  {
   "cell_type": "markdown",
   "metadata": {},
   "source": [
    "Antes de calcular features, tenemos que imputar los valores faltantes ya que sino la librería no va a poder hacer los cálculos necesarios. Utilizaremos ffill para imputar los nulos, y en la misma iteración calcularemos los indicadores técnicos para usar posteriormente."
   ]
  },
  {
   "cell_type": "code",
   "execution_count": 21,
   "metadata": {},
   "outputs": [
    {
     "ename": "NameError",
     "evalue": "name 'ta' is not defined",
     "output_type": "error",
     "traceback": [
      "\u001b[1;31m---------------------------------------------------------------------------\u001b[0m",
      "\u001b[1;31mNameError\u001b[0m                                 Traceback (most recent call last)",
      "\u001b[1;32m<ipython-input-21-8a79126a6f28>\u001b[0m in \u001b[0;36m<module>\u001b[1;34m\u001b[0m\n\u001b[0;32m      3\u001b[0m     \u001b[0maux\u001b[0m \u001b[1;33m=\u001b[0m \u001b[0mdf_all\u001b[0m\u001b[1;33m[\u001b[0m\u001b[0mdf_all\u001b[0m\u001b[1;33m.\u001b[0m\u001b[0mactive\u001b[0m \u001b[1;33m==\u001b[0m \u001b[0mi\u001b[0m\u001b[1;33m]\u001b[0m\u001b[1;33m\u001b[0m\u001b[1;33m\u001b[0m\u001b[0m\n\u001b[0;32m      4\u001b[0m     \u001b[0maux\u001b[0m \u001b[1;33m=\u001b[0m \u001b[0maux\u001b[0m\u001b[1;33m.\u001b[0m\u001b[0mfillna\u001b[0m\u001b[1;33m(\u001b[0m\u001b[0mmethod\u001b[0m\u001b[1;33m=\u001b[0m\u001b[1;34m'ffill'\u001b[0m\u001b[1;33m)\u001b[0m\u001b[1;33m\u001b[0m\u001b[1;33m\u001b[0m\u001b[0m\n\u001b[1;32m----> 5\u001b[1;33m     \u001b[0maux\u001b[0m\u001b[1;33m[\u001b[0m\u001b[1;34m'EMA200'\u001b[0m\u001b[1;33m]\u001b[0m \u001b[1;33m=\u001b[0m \u001b[0mta\u001b[0m\u001b[1;33m.\u001b[0m\u001b[0mEMA\u001b[0m\u001b[1;33m(\u001b[0m\u001b[0maux\u001b[0m\u001b[1;33m[\u001b[0m\u001b[1;34m'close'\u001b[0m\u001b[1;33m]\u001b[0m\u001b[1;33m,\u001b[0m\u001b[1;36m200\u001b[0m\u001b[1;33m)\u001b[0m\u001b[1;33m\u001b[0m\u001b[1;33m\u001b[0m\u001b[0m\n\u001b[0m\u001b[0;32m      6\u001b[0m     \u001b[0maux\u001b[0m\u001b[1;33m[\u001b[0m\u001b[1;34m'EMA100'\u001b[0m\u001b[1;33m]\u001b[0m \u001b[1;33m=\u001b[0m \u001b[0mta\u001b[0m\u001b[1;33m.\u001b[0m\u001b[0mEMA\u001b[0m\u001b[1;33m(\u001b[0m\u001b[0maux\u001b[0m\u001b[1;33m[\u001b[0m\u001b[1;34m'close'\u001b[0m\u001b[1;33m]\u001b[0m\u001b[1;33m,\u001b[0m\u001b[1;36m100\u001b[0m\u001b[1;33m)\u001b[0m\u001b[1;33m\u001b[0m\u001b[1;33m\u001b[0m\u001b[0m\n\u001b[0;32m      7\u001b[0m     \u001b[0maux\u001b[0m\u001b[1;33m[\u001b[0m\u001b[1;34m'EMA50'\u001b[0m\u001b[1;33m]\u001b[0m \u001b[1;33m=\u001b[0m \u001b[0mta\u001b[0m\u001b[1;33m.\u001b[0m\u001b[0mEMA\u001b[0m\u001b[1;33m(\u001b[0m\u001b[0maux\u001b[0m\u001b[1;33m[\u001b[0m\u001b[1;34m'close'\u001b[0m\u001b[1;33m]\u001b[0m\u001b[1;33m,\u001b[0m\u001b[1;36m50\u001b[0m\u001b[1;33m)\u001b[0m\u001b[1;33m\u001b[0m\u001b[1;33m\u001b[0m\u001b[0m\n",
      "\u001b[1;31mNameError\u001b[0m: name 'ta' is not defined"
     ]
    }
   ],
   "source": [
    "contador = 0\n",
    "for i in set(df_all.active):\n",
    "    aux = df_all[df_all.active == i]\n",
    "    aux = aux.fillna(method='ffill')\n",
    "    aux['EMA200'] = ta.EMA(aux['close'],200)\n",
    "    aux['EMA100'] = ta.EMA(aux['close'],100)\n",
    "    aux['EMA50'] = ta.EMA(aux['close'],50)\n",
    "    aux['EMA20'] = ta.EMA(aux['close'],20)\n",
    "    aux['RSI200'] = ta.RSI(aux['close'],200)\n",
    "    aux['ADX200'] = ta.ADX(aux['high'], aux['low'], aux['close'],200)\n",
    "    aux['MACD'] = ta.MACD(aux['close'], fastperiod=12, slowperiod=26, signalperiod=9)[0]\n",
    "    if contador == 0:\n",
    "        df_final = aux.copy()\n",
    "        contador += 1\n",
    "    else:\n",
    "        df_final = pd.concat([df_final, aux])\n",
    "        \n",
    "df_final"
   ]
  },
  {
   "cell_type": "markdown",
   "metadata": {},
   "source": [
    "Recorro todo el dataframe y me quedo con el minimo de cada indice para ir armando una lista con la primer fecha que aparece en cada activo. Luego de esa lista, me quedo con el valor máximo, que va a coincidir con todos los activos y va a ser nuestro punto de partida para partir de ahi con todos los activos."
   ]
  },
  {
   "cell_type": "code",
   "execution_count": 37,
   "metadata": {},
   "outputs": [
    {
     "data": {
      "text/plain": [
       "Timestamp('2020-11-04 15:00:00')"
      ]
     },
     "execution_count": 37,
     "metadata": {},
     "output_type": "execute_result"
    }
   ],
   "source": [
    "contador = 0\n",
    "minimos = []\n",
    "for i in set(df_final.active):\n",
    "    aux = df_final[df_final.active == i]\n",
    "    min_aux = aux.index.min()\n",
    "    minimos.append(min_aux)\n",
    "\n",
    "max_total = minimos[np.argmax(np.asarray(minimos))]\n",
    "max_total"
   ]
  },
  {
   "cell_type": "code",
   "execution_count": 54,
   "metadata": {},
   "outputs": [],
   "source": [
    "minimos.sort()"
   ]
  },
  {
   "cell_type": "code",
   "execution_count": 55,
   "metadata": {},
   "outputs": [
    {
     "data": {
      "text/plain": [
       "[Timestamp('2019-01-01 03:00:00'),\n",
       " Timestamp('2019-01-01 03:00:00'),\n",
       " Timestamp('2019-01-01 03:00:00'),\n",
       " Timestamp('2019-01-01 03:00:00'),\n",
       " Timestamp('2019-01-01 03:00:00'),\n",
       " Timestamp('2019-01-01 03:00:00'),\n",
       " Timestamp('2019-01-01 03:00:00'),\n",
       " Timestamp('2019-01-01 03:00:00'),\n",
       " Timestamp('2019-01-01 03:00:00'),\n",
       " Timestamp('2019-01-16 11:00:00'),\n",
       " Timestamp('2019-03-15 07:00:00'),\n",
       " Timestamp('2019-03-28 07:00:00'),\n",
       " Timestamp('2019-07-05 15:00:00'),\n",
       " Timestamp('2019-11-28 11:00:00'),\n",
       " Timestamp('2020-06-25 07:00:00'),\n",
       " Timestamp('2020-08-18 23:00:00'),\n",
       " Timestamp('2020-08-21 11:00:00'),\n",
       " Timestamp('2020-10-15 03:00:00'),\n",
       " Timestamp('2020-11-04 15:00:00')]"
      ]
     },
     "execution_count": 55,
     "metadata": {},
     "output_type": "execute_result"
    }
   ],
   "source": [
    "minimos"
   ]
  },
  {
   "cell_type": "markdown",
   "metadata": {},
   "source": [
    "Recorro nuevamente el dataframe pero ahora hago un slice a partir de la fecha que obtuve en la celda anterior."
   ]
  },
  {
   "cell_type": "code",
   "execution_count": 38,
   "metadata": {},
   "outputs": [
    {
     "data": {
      "text/plain": [
       "(62282, 19)"
      ]
     },
     "execution_count": 38,
     "metadata": {},
     "output_type": "execute_result"
    }
   ],
   "source": [
    "contador = 0\n",
    "\n",
    "for i in set(df_final.active):\n",
    "    aux = df_final[df_final.active == i]\n",
    "    aux_1 = aux[max_total:]\n",
    "    if contador == 0:\n",
    "        df_final_max = aux_1.copy()\n",
    "        contador += 1\n",
    "    else:\n",
    "        df_final_max = pd.concat([df_final_max, aux_1])    \n",
    "\n",
    "df_final_max.shape"
   ]
  },
  {
   "cell_type": "code",
   "execution_count": 56,
   "metadata": {},
   "outputs": [
    {
     "data": {
      "text/plain": [
       "(116390, 19)"
      ]
     },
     "execution_count": 56,
     "metadata": {},
     "output_type": "execute_result"
    }
   ],
   "source": [
    "df_final.shape"
   ]
  },
  {
   "cell_type": "markdown",
   "metadata": {},
   "source": [
    "Analizando la cantidad de datos con la que nos quedamos luego de hacer el slice, vemos que perdemos más de la mitad de los datos haciendo este recorte (de 116390 registros pasamos a 62282, por lo tanto es un 53%). Consideramos que la pérdida de datos es muy grande, por lo tanto vamos a dejar los datos como los tenemos. Posteriormente podemos agrupar los datos entre los activos que tienen los datos completos desde 2019 y luego los activos que varían entre fines de 2019 y principios de 2020."
   ]
  },
  {
   "cell_type": "markdown",
   "metadata": {},
   "source": [
    "Realizamos analisis de dispersion para el bitcoin,como ya vimos es la criptomoneda con mayor volumen,para evaluar su comportamiento referente a diferentes periodos y frecuencias."
   ]
  },
  {
   "cell_type": "code",
   "execution_count": 22,
   "metadata": {},
   "outputs": [],
   "source": [
    "#Función para realizar diagramas de dispersión entre un precio y el mismo retrasado n periodos\n",
    "def disp_ret_graph (df, active, freq):\n",
    "    fig, axes = plt.subplots(nrows=2, ncols=3, figsize=(20,12));\n",
    "\n",
    "    ax11 = axes[0][0]\n",
    "    ax12 = axes[0][1]\n",
    "    ax21 = axes[0][2]\n",
    "    ax22 = axes[1][0]\n",
    "    ax31 = axes[1][1]\n",
    "    ax32 = axes[1][2]\n",
    "    \n",
    "    axe = [ax11, ax12, ax21, ax22, ax31, ax32]\n",
    "\n",
    "    mask = df['active'] == active\n",
    "    \n",
    "    df_aux = df[mask].asfreq(freq)\n",
    "\n",
    "    start = 1\n",
    "    end = len(df_aux)\n",
    "\n",
    "\n",
    "    plt.subplots_adjust(left=0.1,\n",
    "                        bottom=0.1, \n",
    "                        right=0.9, \n",
    "                        top=0.9, \n",
    "                        wspace=0.4, \n",
    "                        hspace=0.4)\n",
    "    i = 0\n",
    "    for ax in axe:\n",
    "        ax.scatter(x = df_aux.open.iloc[0+i:end], y = df_aux.open.iloc[0:end-i], s=1)\n",
    "        ax.set_xlabel('Precio High')\n",
    "        ax.set_ylabel('Precio High -' + str(i) + ' periodo')\n",
    "        ax.title.set_text('Precio High vs Precio High -' + str(i) + ' periodo')\n",
    "        i = i+1\n",
    "\n",
    "    return"
   ]
  },
  {
   "cell_type": "code",
   "execution_count": 25,
   "metadata": {},
   "outputs": [
    {
     "data": {
      "image/png": "[encoded data removed]",
      "text/plain": [
       "<Figure size 1440x864 with 6 Axes>"
      ]
     },
     "metadata": {
      "needs_background": "light"
     },
     "output_type": "display_data"
    }
   ],
   "source": [
    "# Primero vemos con frecuencia de 4 horas\n",
    "#gráfico de dispersión de precio open para el activo seleccionado y la frecuencia deseada (4H,8H,12H,16H, 20H, D, W o M)\n",
    "disp_ret_graph (df_all, active = \"BTCUSDT\", freq ='4H') "
   ]
  },
  {
   "cell_type": "code",
   "execution_count": 26,
   "metadata": {},
   "outputs": [
    {
     "data": {
      "image/png": "[encoded data removed]",
      "text/plain": [
       "<Figure size 1440x864 with 6 Axes>"
      ]
     },
     "metadata": {
      "needs_background": "light"
     },
     "output_type": "display_data"
    }
   ],
   "source": [
    "# Frecuencia diaria\n",
    "disp_ret_graph (df_all, active = \"BTCUSDT\", freq ='D')  "
   ]
  },
  {
   "cell_type": "code",
   "execution_count": 27,
   "metadata": {},
   "outputs": [
    {
     "data": {
      "image/png": "[encoded data removed]",
      "text/plain": [
       "<Figure size 1440x864 with 6 Axes>"
      ]
     },
     "metadata": {
      "needs_background": "light"
     },
     "output_type": "display_data"
    }
   ],
   "source": [
    "# Frecuencia Semanal\n",
    "disp_ret_graph (df_all, active = \"BTCUSDT\", freq ='W')  "
   ]
  },
  {
   "cell_type": "markdown",
   "metadata": {},
   "source": [
    "Y por ultimo realizamos un analisis de la autocorrelacion del Bitcoin"
   ]
  },
  {
   "cell_type": "code",
   "execution_count": 28,
   "metadata": {},
   "outputs": [
    {
     "data": {
      "image/png": "[encoded data removed]",
      "text/plain": [
       "<Figure size 1440x864 with 2 Axes>"
      ]
     },
     "metadata": {
      "needs_background": "light"
     },
     "output_type": "display_data"
    }
   ],
   "source": [
    "#Función para realizar diagramas de Autocorrelación y Autocorrelación Parcial\n",
    "def correlogramas_plt (df1, active, freq1, lag1, lag2) :\n",
    "    from statsmodels.graphics.tsaplots import plot_acf\n",
    "    from statsmodels.graphics.tsaplots import plot_pacf\n",
    "    \n",
    "    fig, axes = plt.subplots(nrows=1, ncols=2, figsize=(20,12));\n",
    "    \n",
    "    mask = df1['active'] == active\n",
    "    df_aux1 = df1[mask].open.asfreq(freq1).dropna()\n",
    "    \n",
    "    \n",
    "    plot_acf( df_aux1, ax=axes[0], lags=lag1 );\n",
    "    plot_pacf( df_aux1, ax=axes[1], lags=lag2  );\n",
    "    \n",
    "    return\n",
    "\n",
    "correlogramas_plt(df_all, active = \"BTCUSDT\", freq1 ='D', lag1 = 120, lag2 = 120) #Diagramas de autocorrelación para el precio open"
   ]
  },
  {
   "cell_type": "markdown",
   "metadata": {},
   "source": [
    "En el diagrama de autocorrelación podemos ver una decremento gradual suave de la autocorrelación a medida que nos alejamos del período actual. Podemos ver que solo los precios de los últimos 100 días tienen importancia significativa para explicar la variación del precio actual.\n",
    "En el diagrama de autocorrelación parcial podemos ver que solo el precio del día anterior tiene influencia directa significativa en el precio actual.\n",
    "En ambos correlogramas podemos verificar que no se observan comportamientos periódicos significativos en los precios del activo.\n",
    "A partir de esta información relevada en el próximo TP podremos determinar el mejor modelo de predicción a aplicar (AR, MA, ARMA o ARIMA) asi como también los parámetros del modelo."
   ]
  },
  {
   "cell_type": "markdown",
   "metadata": {},
   "source": [
    "Y por ultimo ejecutamos el código para generar la matriz de correlación entre las el precio de cierre y las distintas criptomonedas."
   ]
  },
  {
   "cell_type": "code",
   "execution_count": 1,
   "metadata": {},
   "outputs": [
    {
     "ename": "NameError",
     "evalue": "name 'plt' is not defined",
     "output_type": "error",
     "traceback": [
      "\u001b[1;31m---------------------------------------------------------------------------\u001b[0m",
      "\u001b[1;31mNameError\u001b[0m                                 Traceback (most recent call last)",
      "\u001b[1;32m<ipython-input-1-a0da615b34f3>\u001b[0m in \u001b[0;36m<module>\u001b[1;34m\u001b[0m\n\u001b[1;32m----> 1\u001b[1;33m \u001b[0mplt\u001b[0m\u001b[1;33m.\u001b[0m\u001b[0mfigure\u001b[0m\u001b[1;33m(\u001b[0m\u001b[0mfigsize\u001b[0m\u001b[1;33m=\u001b[0m\u001b[1;33m(\u001b[0m\u001b[1;36m20\u001b[0m\u001b[1;33m,\u001b[0m \u001b[1;36m10\u001b[0m\u001b[1;33m)\u001b[0m\u001b[1;33m)\u001b[0m\u001b[1;33m\u001b[0m\u001b[1;33m\u001b[0m\u001b[0m\n\u001b[0m\u001b[0;32m      2\u001b[0m \u001b[0msns\u001b[0m\u001b[1;33m.\u001b[0m\u001b[0mheatmap\u001b[0m\u001b[1;33m(\u001b[0m\u001b[0mdf_close_prices\u001b[0m\u001b[1;33m.\u001b[0m\u001b[0mcorr\u001b[0m\u001b[1;33m(\u001b[0m\u001b[0mmethod\u001b[0m\u001b[1;33m=\u001b[0m\u001b[1;34m'pearson'\u001b[0m\u001b[1;33m)\u001b[0m\u001b[1;33m,\u001b[0m \u001b[0mannot\u001b[0m \u001b[1;33m=\u001b[0m \u001b[1;32mTrue\u001b[0m\u001b[1;33m)\u001b[0m\u001b[1;33m\u001b[0m\u001b[1;33m\u001b[0m\u001b[0m\n",
      "\u001b[1;31mNameError\u001b[0m: name 'plt' is not defined"
     ]
    }
   ],
   "source": [
    "plt.figure(figsize=(20, 10))\n",
    "sns.heatmap(df_close_prices.corr(method='pearson'), annot = True)"
   ]
  }
 ],
 "metadata": {
  "kernelspec": {
   "display_name": "Python 3",
   "language": "python",
   "name": "python3"
  },
  "language_info": {
   "codemirror_mode": {
    "name": "ipython",
    "version": 3
   },
   "file_extension": ".py",
   "mimetype": "text/x-python",
   "name": "python",
   "nbconvert_exporter": "python",
   "pygments_lexer": "ipython3",
   "version": "3.8.3"
  }
 },
 "nbformat": 4,
 "nbformat_minor": 4
}
